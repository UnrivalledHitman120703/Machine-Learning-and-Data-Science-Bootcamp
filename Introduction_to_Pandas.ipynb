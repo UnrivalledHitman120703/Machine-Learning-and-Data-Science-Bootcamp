{
  "cells": [
    {
      "cell_type": "code",
      "execution_count": 1,
      "metadata": {
        "id": "qlv6jn5isg_W"
      },
      "outputs": [],
      "source": [
        "import pandas as pd"
      ]
    },
    {
      "cell_type": "code",
      "execution_count": 2,
      "metadata": {
        "id": "ZFHZtecdsg_X"
      },
      "outputs": [],
      "source": [
        "# 2 main datatypes\n",
        "# series = 1-dimensional\n",
        "series = pd.Series([\"BMW\", \"Toyota\", \"Honda\"])"
      ]
    },
    {
      "cell_type": "code",
      "execution_count": 3,
      "metadata": {
        "id": "L7VPm_gDsg_X",
        "outputId": "f6376bdb-5099-45b3-a4f1-f326bde14dcc",
        "colab": {
          "base_uri": "https://localhost:8080/"
        }
      },
      "outputs": [
        {
          "output_type": "stream",
          "name": "stdout",
          "text": [
            "0       BMW\n",
            "1    Toyota\n",
            "2     Honda\n",
            "dtype: object\n"
          ]
        }
      ],
      "source": [
        "print(series)"
      ]
    },
    {
      "cell_type": "code",
      "execution_count": 4,
      "metadata": {
        "id": "-z3WDC9Zsg_Y",
        "outputId": "9f282bf0-f73c-4cea-e597-7d385c0b662c",
        "colab": {
          "base_uri": "https://localhost:8080/"
        }
      },
      "outputs": [
        {
          "output_type": "stream",
          "name": "stdout",
          "text": [
            "0      Red\n",
            "1     Blue\n",
            "2    White\n",
            "dtype: object\n"
          ]
        }
      ],
      "source": [
        "colours = pd.Series([\"Red\", \"Blue\", \"White\"])\n",
        "print(colours)"
      ]
    },
    {
      "cell_type": "code",
      "execution_count": 5,
      "metadata": {
        "id": "cr2S7MyAsg_Y",
        "outputId": "2769ee8b-5ecd-4ddd-f493-b0b08a8501d0",
        "colab": {
          "base_uri": "https://localhost:8080/"
        }
      },
      "outputs": [
        {
          "output_type": "stream",
          "name": "stdout",
          "text": [
            "  Car make Colour\n",
            "0      BMW    Red\n",
            "1   Toyota   Blue\n",
            "2    Honda  White\n"
          ]
        }
      ],
      "source": [
        "# DataFrame = 2-dimensional\n",
        "car_data = pd.DataFrame({\"Car make\": series, \"Colour\": colours})\n",
        "print(car_data)"
      ]
    },
    {
      "cell_type": "code",
      "execution_count": 6,
      "metadata": {
        "id": "dnADVvS0sg_Y",
        "outputId": "f87c3381-25a4-44f6-f70b-fb1f0cf32bf2",
        "colab": {
          "base_uri": "https://localhost:8080/"
        }
      },
      "outputs": [
        {
          "output_type": "stream",
          "name": "stdout",
          "text": [
            "     Make Colour  Odometer (KM)  Doors       Price\n",
            "0  Toyota  White         150043      4   $4,000.00\n",
            "1   Honda    Red          87899      4   $5,000.00\n",
            "2  Toyota   Blue          32549      3   $7,000.00\n",
            "3     BMW  Black          11179      5  $22,000.00\n",
            "4  Nissan  White         213095      4   $3,500.00\n",
            "5  Toyota  Green          99213      4   $4,500.00\n",
            "6   Honda   Blue          45698      4   $7,500.00\n",
            "7   Honda   Blue          54738      4   $7,000.00\n",
            "8  Toyota  White          60000      4   $6,250.00\n",
            "9  Nissan  White          31600      4   $9,700.00\n"
          ]
        }
      ],
      "source": [
        "# Import data\n",
        "car_sales = pd.read_csv(\"car-sales.csv\")\n",
        "print(car_sales)"
      ]
    },
    {
      "cell_type": "code",
      "execution_count": 7,
      "metadata": {
        "id": "ABYD_1phsg_Y"
      },
      "outputs": [],
      "source": [
        "# Exporting a dataframe\n",
        "car_sales.to_csv(\"exported-car-sales.csv\", index=False)"
      ]
    },
    {
      "cell_type": "code",
      "execution_count": 8,
      "metadata": {
        "id": "A3VBKKbRsg_Y",
        "outputId": "1d4f1cfd-8bb6-43ec-bbdf-8a0974b89026",
        "colab": {
          "base_uri": "https://localhost:8080/"
        }
      },
      "outputs": [
        {
          "output_type": "stream",
          "name": "stdout",
          "text": [
            "     Make Colour  Odometer (KM)  Doors       Price\n",
            "0  Toyota  White         150043      4   $4,000.00\n",
            "1   Honda    Red          87899      4   $5,000.00\n",
            "2  Toyota   Blue          32549      3   $7,000.00\n",
            "3     BMW  Black          11179      5  $22,000.00\n",
            "4  Nissan  White         213095      4   $3,500.00\n",
            "5  Toyota  Green          99213      4   $4,500.00\n",
            "6   Honda   Blue          45698      4   $7,500.00\n",
            "7   Honda   Blue          54738      4   $7,000.00\n",
            "8  Toyota  White          60000      4   $6,250.00\n",
            "9  Nissan  White          31600      4   $9,700.00\n"
          ]
        }
      ],
      "source": [
        "exported_car_sales = pd.read_csv(\"exported-car-sales.csv\")\n",
        "print(exported_car_sales)"
      ]
    },
    {
      "cell_type": "markdown",
      "source": [
        "### Describe Data"
      ],
      "metadata": {
        "id": "BU2z723UuNLI"
      }
    },
    {
      "cell_type": "code",
      "source": [
        "# Attribute\n",
        "print(car_sales.dtypes)"
      ],
      "metadata": {
        "colab": {
          "base_uri": "https://localhost:8080/"
        },
        "id": "5ocCshFbuPSX",
        "outputId": "6e4c415d-dda4-4342-db28-23ca4b08e577"
      },
      "execution_count": 9,
      "outputs": [
        {
          "output_type": "stream",
          "name": "stdout",
          "text": [
            "Make             object\n",
            "Colour           object\n",
            "Odometer (KM)     int64\n",
            "Doors             int64\n",
            "Price            object\n",
            "dtype: object\n"
          ]
        }
      ]
    },
    {
      "cell_type": "code",
      "source": [
        "print(car_sales.columns)"
      ],
      "metadata": {
        "colab": {
          "base_uri": "https://localhost:8080/"
        },
        "id": "5Q_CD1Kqucfq",
        "outputId": "4dc2d7b2-7091-4c85-ca12-9663b04dc05b"
      },
      "execution_count": 10,
      "outputs": [
        {
          "output_type": "stream",
          "name": "stdout",
          "text": [
            "Index(['Make', 'Colour', 'Odometer (KM)', 'Doors', 'Price'], dtype='object')\n"
          ]
        }
      ]
    },
    {
      "cell_type": "code",
      "source": [
        "car_columns = car_sales.columns\n",
        "print(car_columns)"
      ],
      "metadata": {
        "colab": {
          "base_uri": "https://localhost:8080/"
        },
        "id": "QR1Usd5dud0C",
        "outputId": "44ff1d93-3f93-4741-bf53-756a91709388"
      },
      "execution_count": 11,
      "outputs": [
        {
          "output_type": "stream",
          "name": "stdout",
          "text": [
            "Index(['Make', 'Colour', 'Odometer (KM)', 'Doors', 'Price'], dtype='object')\n"
          ]
        }
      ]
    },
    {
      "cell_type": "code",
      "source": [
        "print(car_sales.index)"
      ],
      "metadata": {
        "colab": {
          "base_uri": "https://localhost:8080/"
        },
        "id": "ytXtgbumukYD",
        "outputId": "3660adf4-0e72-480a-ea4a-ec21ba92d4eb"
      },
      "execution_count": 12,
      "outputs": [
        {
          "output_type": "stream",
          "name": "stdout",
          "text": [
            "RangeIndex(start=0, stop=10, step=1)\n"
          ]
        }
      ]
    },
    {
      "cell_type": "code",
      "source": [
        "print(car_sales)"
      ],
      "metadata": {
        "colab": {
          "base_uri": "https://localhost:8080/"
        },
        "id": "fcJYPLRlumlM",
        "outputId": "59aafec0-4e91-45d6-ca7e-9665ecededa8"
      },
      "execution_count": 13,
      "outputs": [
        {
          "output_type": "stream",
          "name": "stdout",
          "text": [
            "     Make Colour  Odometer (KM)  Doors       Price\n",
            "0  Toyota  White         150043      4   $4,000.00\n",
            "1   Honda    Red          87899      4   $5,000.00\n",
            "2  Toyota   Blue          32549      3   $7,000.00\n",
            "3     BMW  Black          11179      5  $22,000.00\n",
            "4  Nissan  White         213095      4   $3,500.00\n",
            "5  Toyota  Green          99213      4   $4,500.00\n",
            "6   Honda   Blue          45698      4   $7,500.00\n",
            "7   Honda   Blue          54738      4   $7,000.00\n",
            "8  Toyota  White          60000      4   $6,250.00\n",
            "9  Nissan  White          31600      4   $9,700.00\n"
          ]
        }
      ]
    },
    {
      "cell_type": "code",
      "source": [
        "print(car_sales.describe())"
      ],
      "metadata": {
        "colab": {
          "base_uri": "https://localhost:8080/"
        },
        "id": "jZzxJ8ZtupET",
        "outputId": "9e201778-a2ad-4920-dde9-3d3c25108e43"
      },
      "execution_count": 14,
      "outputs": [
        {
          "output_type": "stream",
          "name": "stdout",
          "text": [
            "       Odometer (KM)      Doors\n",
            "count      10.000000  10.000000\n",
            "mean    78601.400000   4.000000\n",
            "std     61983.471735   0.471405\n",
            "min     11179.000000   3.000000\n",
            "25%     35836.250000   4.000000\n",
            "50%     57369.000000   4.000000\n",
            "75%     96384.500000   4.000000\n",
            "max    213095.000000   5.000000\n"
          ]
        }
      ]
    },
    {
      "cell_type": "code",
      "source": [
        "print(car_sales.info())"
      ],
      "metadata": {
        "colab": {
          "base_uri": "https://localhost:8080/"
        },
        "id": "mvM4yi0aurHp",
        "outputId": "45e3191d-c9c1-4e69-8bca-5582c5670858"
      },
      "execution_count": 15,
      "outputs": [
        {
          "output_type": "stream",
          "name": "stdout",
          "text": [
            "<class 'pandas.core.frame.DataFrame'>\n",
            "RangeIndex: 10 entries, 0 to 9\n",
            "Data columns (total 5 columns):\n",
            " #   Column         Non-Null Count  Dtype \n",
            "---  ------         --------------  ----- \n",
            " 0   Make           10 non-null     object\n",
            " 1   Colour         10 non-null     object\n",
            " 2   Odometer (KM)  10 non-null     int64 \n",
            " 3   Doors          10 non-null     int64 \n",
            " 4   Price          10 non-null     object\n",
            "dtypes: int64(2), object(3)\n",
            "memory usage: 528.0+ bytes\n",
            "None\n"
          ]
        }
      ]
    },
    {
      "cell_type": "code",
      "source": [
        "print(car_sales.mean())"
      ],
      "metadata": {
        "colab": {
          "base_uri": "https://localhost:8080/"
        },
        "id": "mqVurAEMutjt",
        "outputId": "dc1dec42-446d-4813-85eb-8696becd2299"
      },
      "execution_count": 16,
      "outputs": [
        {
          "output_type": "stream",
          "name": "stdout",
          "text": [
            "Odometer (KM)    78601.4\n",
            "Doors                4.0\n",
            "dtype: float64\n"
          ]
        },
        {
          "output_type": "stream",
          "name": "stderr",
          "text": [
            "<ipython-input-16-7952f125fdb4>:1: FutureWarning: The default value of numeric_only in DataFrame.mean is deprecated. In a future version, it will default to False. In addition, specifying 'numeric_only=None' is deprecated. Select only valid columns or specify the value of numeric_only to silence this warning.\n",
            "  print(car_sales.mean())\n"
          ]
        }
      ]
    },
    {
      "cell_type": "code",
      "source": [
        "car_prices = pd.Series([3000, 1500, 111250])\n",
        "print(car_prices.mean())"
      ],
      "metadata": {
        "colab": {
          "base_uri": "https://localhost:8080/"
        },
        "id": "rIs2bwebu0vh",
        "outputId": "c88f897e-0463-41a4-c916-074fb4d54850"
      },
      "execution_count": 17,
      "outputs": [
        {
          "output_type": "stream",
          "name": "stdout",
          "text": [
            "38583.333333333336\n"
          ]
        }
      ]
    },
    {
      "cell_type": "code",
      "source": [
        "print(car_sales.sum())"
      ],
      "metadata": {
        "colab": {
          "base_uri": "https://localhost:8080/"
        },
        "id": "zKiTNf-Bu67V",
        "outputId": "15b64e9a-b2df-4502-9e44-109176fcdfc6"
      },
      "execution_count": 18,
      "outputs": [
        {
          "output_type": "stream",
          "name": "stdout",
          "text": [
            "Make             ToyotaHondaToyotaBMWNissanToyotaHondaHondaToyo...\n",
            "Colour               WhiteRedBlueBlackWhiteGreenBlueBlueWhiteWhite\n",
            "Odometer (KM)                                               786014\n",
            "Doors                                                           40\n",
            "Price            $4,000.00$5,000.00$7,000.00$22,000.00$3,500.00...\n",
            "dtype: object\n"
          ]
        }
      ]
    },
    {
      "cell_type": "code",
      "source": [
        "print(car_sales[\"Doors\"].sum())"
      ],
      "metadata": {
        "colab": {
          "base_uri": "https://localhost:8080/"
        },
        "id": "66v22oeIu86A",
        "outputId": "a6a79568-17f1-409c-ede2-bf10cc37f0ed"
      },
      "execution_count": 19,
      "outputs": [
        {
          "output_type": "stream",
          "name": "stdout",
          "text": [
            "40\n"
          ]
        }
      ]
    },
    {
      "cell_type": "code",
      "source": [
        "print(len(car_sales))"
      ],
      "metadata": {
        "colab": {
          "base_uri": "https://localhost:8080/"
        },
        "id": "vNAbiyNTu-76",
        "outputId": "7a2bb5a6-aa3f-471c-9002-3c2c0657d29a"
      },
      "execution_count": 20,
      "outputs": [
        {
          "output_type": "stream",
          "name": "stdout",
          "text": [
            "10\n"
          ]
        }
      ]
    },
    {
      "cell_type": "code",
      "source": [
        "print(car_sales)"
      ],
      "metadata": {
        "colab": {
          "base_uri": "https://localhost:8080/"
        },
        "id": "_YxcvwKtvA17",
        "outputId": "a3bd8b0a-62a1-4f68-f492-ab039c6ff294"
      },
      "execution_count": 21,
      "outputs": [
        {
          "output_type": "stream",
          "name": "stdout",
          "text": [
            "     Make Colour  Odometer (KM)  Doors       Price\n",
            "0  Toyota  White         150043      4   $4,000.00\n",
            "1   Honda    Red          87899      4   $5,000.00\n",
            "2  Toyota   Blue          32549      3   $7,000.00\n",
            "3     BMW  Black          11179      5  $22,000.00\n",
            "4  Nissan  White         213095      4   $3,500.00\n",
            "5  Toyota  Green          99213      4   $4,500.00\n",
            "6   Honda   Blue          45698      4   $7,500.00\n",
            "7   Honda   Blue          54738      4   $7,000.00\n",
            "8  Toyota  White          60000      4   $6,250.00\n",
            "9  Nissan  White          31600      4   $9,700.00\n"
          ]
        }
      ]
    }
  ],
  "metadata": {
    "kernelspec": {
      "display_name": "base",
      "language": "python",
      "name": "python3"
    },
    "language_info": {
      "codemirror_mode": {
        "name": "ipython",
        "version": 3
      },
      "file_extension": ".py",
      "mimetype": "text/x-python",
      "name": "python",
      "nbconvert_exporter": "python",
      "pygments_lexer": "ipython3",
      "version": "3.11.5"
    },
    "colab": {
      "provenance": []
    }
  },
  "nbformat": 4,
  "nbformat_minor": 0
}