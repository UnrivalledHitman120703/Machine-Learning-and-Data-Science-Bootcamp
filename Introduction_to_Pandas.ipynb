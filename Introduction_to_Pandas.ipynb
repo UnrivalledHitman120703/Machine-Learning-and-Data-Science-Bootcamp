{
  "cells": [
    {
      "cell_type": "code",
      "execution_count": null,
      "metadata": {
        "id": "qlv6jn5isg_W"
      },
      "outputs": [],
      "source": [
        "import pandas as pd"
      ]
    },
    {
      "cell_type": "code",
      "execution_count": null,
      "metadata": {
        "id": "ZFHZtecdsg_X"
      },
      "outputs": [],
      "source": [
        "# 2 main datatypes\n",
        "# series = 1-dimensional\n",
        "series = pd.Series([\"BMW\", \"Toyota\", \"Honda\"])"
      ]
    },
    {
      "cell_type": "code",
      "execution_count": null,
      "metadata": {
        "id": "L7VPm_gDsg_X",
        "outputId": "82950f48-6a99-4c2b-db14-7c88e3235b17"
      },
      "outputs": [
        {
          "name": "stdout",
          "output_type": "stream",
          "text": [
            "0       BMW\n",
            "1    Toyota\n",
            "2     Honda\n",
            "dtype: object\n"
          ]
        }
      ],
      "source": [
        "print(series)"
      ]
    },
    {
      "cell_type": "code",
      "execution_count": null,
      "metadata": {
        "id": "-z3WDC9Zsg_Y",
        "outputId": "25dec60a-8a70-41bc-fc17-4a14de14fdaa"
      },
      "outputs": [
        {
          "name": "stdout",
          "output_type": "stream",
          "text": [
            "0      Red\n",
            "1     Blue\n",
            "2    White\n",
            "dtype: object\n"
          ]
        }
      ],
      "source": [
        "colours = pd.Series([\"Red\", \"Blue\", \"White\"])\n",
        "print(colours)"
      ]
    },
    {
      "cell_type": "code",
      "execution_count": null,
      "metadata": {
        "id": "cr2S7MyAsg_Y",
        "outputId": "305d55a2-49d5-4abd-8733-d857363b2dab"
      },
      "outputs": [
        {
          "name": "stdout",
          "output_type": "stream",
          "text": [
            "  Car make Colour\n",
            "0      BMW    Red\n",
            "1   Toyota   Blue\n",
            "2    Honda  White\n"
          ]
        }
      ],
      "source": [
        "# DataFrame = 2-dimensional\n",
        "car_data = pd.DataFrame({\"Car make\": series, \"Colour\": colours})\n",
        "print(car_data)"
      ]
    },
    {
      "cell_type": "code",
      "execution_count": null,
      "metadata": {
        "id": "dnADVvS0sg_Y",
        "outputId": "c8bf4606-bcf8-4604-e419-e6b68a692d22"
      },
      "outputs": [
        {
          "name": "stdout",
          "output_type": "stream",
          "text": [
            "     Make Colour  Odometer (KM)  Doors       Price\n",
            "0  Toyota  White         150043      4   $4,000.00\n",
            "1   Honda    Red          87899      4   $5,000.00\n",
            "2  Toyota   Blue          32549      3   $7,000.00\n",
            "3     BMW  Black          11179      5  $22,000.00\n",
            "4  Nissan  White         213095      4   $3,500.00\n",
            "5  Toyota  Green          99213      4   $4,500.00\n",
            "6   Honda   Blue          45698      4   $7,500.00\n",
            "7   Honda   Blue          54738      4   $7,000.00\n",
            "8  Toyota  White          60000      4   $6,250.00\n",
            "9  Nissan  White          31600      4   $9,700.00\n"
          ]
        }
      ],
      "source": [
        "# Import data\n",
        "car_sales = pd.read_csv(\"car-sales.csv\")\n",
        "print(car_sales)"
      ]
    },
    {
      "cell_type": "code",
      "execution_count": null,
      "metadata": {
        "id": "ABYD_1phsg_Y"
      },
      "outputs": [],
      "source": [
        "# Exporting a dataframe\n",
        "car_sales.to_csv(\"exported-car-sales.csv\", index=False)"
      ]
    },
    {
      "cell_type": "code",
      "execution_count": null,
      "metadata": {
        "id": "A3VBKKbRsg_Y",
        "outputId": "1a4b679d-1f32-4904-d31b-b37259d96c06"
      },
      "outputs": [
        {
          "name": "stdout",
          "output_type": "stream",
          "text": [
            "     Make Colour  Odometer (KM)  Doors       Price\n",
            "0  Toyota  White         150043      4   $4,000.00\n",
            "1   Honda    Red          87899      4   $5,000.00\n",
            "2  Toyota   Blue          32549      3   $7,000.00\n",
            "3     BMW  Black          11179      5  $22,000.00\n",
            "4  Nissan  White         213095      4   $3,500.00\n",
            "5  Toyota  Green          99213      4   $4,500.00\n",
            "6   Honda   Blue          45698      4   $7,500.00\n",
            "7   Honda   Blue          54738      4   $7,000.00\n",
            "8  Toyota  White          60000      4   $6,250.00\n",
            "9  Nissan  White          31600      4   $9,700.00\n"
          ]
        }
      ],
      "source": [
        "exported_car_sales = pd.read_csv(\"exported-car-sales.csv\")\n",
        "print(exported_car_sales)"
      ]
    }
  ],
  "metadata": {
    "kernelspec": {
      "display_name": "base",
      "language": "python",
      "name": "python3"
    },
    "language_info": {
      "codemirror_mode": {
        "name": "ipython",
        "version": 3
      },
      "file_extension": ".py",
      "mimetype": "text/x-python",
      "name": "python",
      "nbconvert_exporter": "python",
      "pygments_lexer": "ipython3",
      "version": "3.11.5"
    },
    "colab": {
      "provenance": []
    }
  },
  "nbformat": 4,
  "nbformat_minor": 0
}