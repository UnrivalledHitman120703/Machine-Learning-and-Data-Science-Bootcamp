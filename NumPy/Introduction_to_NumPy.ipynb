{
  "cells": [
    {
      "cell_type": "code",
      "execution_count": 209,
      "metadata": {
        "id": "IbluRr0spGn1"
      },
      "outputs": [],
      "source": [
        "%matplotlib inline\n",
        "import numpy as np\n",
        "import pandas as pd\n",
        "import matplotlib.pyplot as plt\n",
        "from matplotlib.image import imread"
      ]
    },
    {
      "cell_type": "markdown",
      "metadata": {
        "id": "UZJ1NMfNprcO"
      },
      "source": [
        "## 1. DataTypes & Attributes"
      ]
    },
    {
      "cell_type": "code",
      "execution_count": 210,
      "metadata": {
        "colab": {
          "base_uri": "https://localhost:8080/"
        },
        "id": "a9xcRMjipq8_",
        "outputId": "ef7f4618-0d27-45ee-9dfa-45e29c20e9ea"
      },
      "outputs": [
        {
          "name": "stdout",
          "output_type": "stream",
          "text": [
            "[1 2 3]\n",
            "<class 'numpy.ndarray'>\n",
            "(3,)\n",
            "1\n",
            "int32\n",
            "3\n"
          ]
        }
      ],
      "source": [
        "# NumPy's main datatype is ndarray\n",
        "# shape: returns number of elements in each dimension\n",
        "# ndim: returns number of array dimensions\n",
        "# dtype: returns data type of the NumPy array\n",
        "# size: returns the number of elements in the array\n",
        "\n",
        "a1 = np.array([1,2,3])\n",
        "print(a1)\n",
        "print(type(a1))\n",
        "print(a1.shape)\n",
        "print(a1.ndim)\n",
        "print(a1.dtype)\n",
        "print(a1.size)"
      ]
    },
    {
      "cell_type": "code",
      "execution_count": 211,
      "metadata": {
        "colab": {
          "base_uri": "https://localhost:8080/"
        },
        "id": "mKEJRj2mqD0Y",
        "outputId": "3ca67faa-e903-4f62-dabe-95b4587657cc"
      },
      "outputs": [
        {
          "name": "stdout",
          "output_type": "stream",
          "text": [
            "[[1 2 3]\n",
            " [4 5 6]]\n",
            "<class 'numpy.ndarray'>\n",
            "(2, 3)\n",
            "2\n",
            "int32\n",
            "6\n"
          ]
        }
      ],
      "source": [
        "a2 = np.array([[1,2,3], [4,5,6]])\n",
        "print(a2)\n",
        "print(type(a2))\n",
        "print(a2.shape)\n",
        "print(a2.ndim)\n",
        "print(a2.dtype)\n",
        "print(a2.size)"
      ]
    },
    {
      "cell_type": "code",
      "execution_count": 212,
      "metadata": {
        "colab": {
          "base_uri": "https://localhost:8080/"
        },
        "id": "Xm0lBTj8qX6_",
        "outputId": "0b2abb31-c1a4-4ac5-ab67-496f559c38fd"
      },
      "outputs": [
        {
          "name": "stdout",
          "output_type": "stream",
          "text": [
            "[[[ 1  2  3]\n",
            "  [ 4  5  6]\n",
            "  [ 7  8  9]]\n",
            "\n",
            " [[10 11 12]\n",
            "  [13 14 15]\n",
            "  [16 17 18]]\n",
            "\n",
            " [[19 20 21]\n",
            "  [22 23 24]\n",
            "  [25 26 27]]]\n",
            "<class 'numpy.ndarray'>\n",
            "(3, 3, 3)\n",
            "3\n",
            "int32\n",
            "27\n"
          ]
        }
      ],
      "source": [
        "a3 = np.array([[[1,2,3], [4,5,6], [7,8,9]],\n",
        " [[10,11,12],[13,14,15],[16,17,18]],\n",
        "               [[19,20,21],[22,23,24],[25,26,27]]])\n",
        "print(a3)\n",
        "print(type(a3))\n",
        "print(a3.shape)\n",
        "print(a3.ndim)\n",
        "print(a3.dtype)\n",
        "print(a3.size)"
      ]
    },
    {
      "cell_type": "code",
      "execution_count": 213,
      "metadata": {
        "colab": {
          "base_uri": "https://localhost:8080/"
        },
        "id": "kK4skQkj2sJu",
        "outputId": "bfdad70c-34ec-44b9-f56f-3a33b54683ed"
      },
      "outputs": [
        {
          "name": "stdout",
          "output_type": "stream",
          "text": [
            "   0  1  2\n",
            "0  1  2  3\n",
            "1  4  5  6\n"
          ]
        }
      ],
      "source": [
        "# Create DataFrames from NumPy arrays\n",
        "# DataFrame is a 2D data structure\n",
        "df = pd.DataFrame(a2)\n",
        "print(df)"
      ]
    },
    {
      "cell_type": "markdown",
      "metadata": {
        "id": "L8H2WYqNDYPi"
      },
      "source": [
        "## 2. Creating arrays"
      ]
    },
    {
      "cell_type": "code",
      "execution_count": 214,
      "metadata": {
        "colab": {
          "base_uri": "https://localhost:8080/"
        },
        "id": "ZWQwqEYfDXf2",
        "outputId": "cb00c1da-6485-44cf-f880-e3ad89aa6d27"
      },
      "outputs": [
        {
          "name": "stdout",
          "output_type": "stream",
          "text": [
            "[1 2 3]\n",
            "int32\n"
          ]
        }
      ],
      "source": [
        "sample_array = np.array([1,2,3])\n",
        "print(sample_array)\n",
        "print(sample_array.dtype)"
      ]
    },
    {
      "cell_type": "code",
      "execution_count": 215,
      "metadata": {
        "colab": {
          "base_uri": "https://localhost:8080/"
        },
        "id": "6pGwTvo9EAN9",
        "outputId": "41562081-00bb-494a-b673-9270a35ecd61"
      },
      "outputs": [
        {
          "name": "stdout",
          "output_type": "stream",
          "text": [
            "[[1. 1. 1.]\n",
            " [1. 1. 1.]\n",
            " [1. 1. 1.]]\n",
            "float64\n"
          ]
        }
      ],
      "source": [
        "ones = np.ones((3,3))\n",
        "print(ones)\n",
        "print(ones.dtype)"
      ]
    },
    {
      "cell_type": "code",
      "execution_count": 216,
      "metadata": {
        "colab": {
          "base_uri": "https://localhost:8080/"
        },
        "id": "XO3KvlbVEOjN",
        "outputId": "19c4e326-e387-4c44-8ced-7581de608d25"
      },
      "outputs": [
        {
          "name": "stdout",
          "output_type": "stream",
          "text": [
            "[[0. 0. 0.]\n",
            " [0. 0. 0.]\n",
            " [0. 0. 0.]]\n",
            "float64\n"
          ]
        }
      ],
      "source": [
        "zeros = np.zeros((3,3))\n",
        "print(zeros)\n",
        "print(zeros.dtype)"
      ]
    },
    {
      "cell_type": "code",
      "execution_count": 217,
      "metadata": {
        "colab": {
          "base_uri": "https://localhost:8080/"
        },
        "id": "OnZXRNtCEcCu",
        "outputId": "7970a654-6481-4f1b-e894-53426a43e878"
      },
      "outputs": [
        {
          "name": "stdout",
          "output_type": "stream",
          "text": [
            "[0 2 4 6 8]\n",
            "int32\n"
          ]
        }
      ],
      "source": [
        "range_array = np.arange(0, 10, 2)\n",
        "print(range_array)\n",
        "print(range_array.dtype)"
      ]
    },
    {
      "cell_type": "code",
      "execution_count": 218,
      "metadata": {
        "colab": {
          "base_uri": "https://localhost:8080/"
        },
        "id": "4exmyctuEte6",
        "outputId": "0d3e754e-1206-4a3a-a62f-8996491243ed"
      },
      "outputs": [
        {
          "name": "stdout",
          "output_type": "stream",
          "text": [
            "[[8 1 3]\n",
            " [3 3 7]\n",
            " [0 1 9]]\n",
            "int32\n"
          ]
        }
      ],
      "source": [
        "random_array = np.random.randint(0, 10, size = (3,3))\n",
        "print(random_array)\n",
        "print(range_array.dtype)"
      ]
    },
    {
      "cell_type": "code",
      "execution_count": 219,
      "metadata": {
        "colab": {
          "base_uri": "https://localhost:8080/"
        },
        "id": "PdYQ2VE4nQrT",
        "outputId": "5a716058-f40b-4d20-b8b9-111899d99c43"
      },
      "outputs": [
        {
          "name": "stdout",
          "output_type": "stream",
          "text": [
            "[[0.53737323 0.75861562 0.10590761]\n",
            " [0.47360042 0.18633234 0.73691818]\n",
            " [0.21655035 0.13521817 0.32414101]]\n",
            "int32\n"
          ]
        }
      ],
      "source": [
        "random_array_rand = np.random.rand(3,3)\n",
        "print(random_array_rand)\n",
        "print(range_array.dtype)"
      ]
    },
    {
      "cell_type": "code",
      "execution_count": 220,
      "metadata": {
        "colab": {
          "base_uri": "https://localhost:8080/"
        },
        "id": "P4RhfBxYoHSW",
        "outputId": "f5f2a5c5-59a3-4d1b-d384-cc427e160d4e"
      },
      "outputs": [
        {
          "name": "stdout",
          "output_type": "stream",
          "text": [
            "[[5 0 3]\n",
            " [3 7 9]\n",
            " [3 5 2]]\n",
            "(3, 3)\n"
          ]
        }
      ],
      "source": [
        "# Pseudo-random numbers\n",
        "np.random.seed(seed=0)\n",
        "random_array_1 = np.random.randint(10, size=(3,3))\n",
        "print(random_array_1)\n",
        "print(random_array_1.shape)"
      ]
    },
    {
      "cell_type": "code",
      "execution_count": 221,
      "metadata": {
        "colab": {
          "base_uri": "https://localhost:8080/"
        },
        "id": "kWTWCKIPrWNv",
        "outputId": "4ae01d01-9ec9-41b4-ec6b-dfb4a208c692"
      },
      "outputs": [
        {
          "name": "stdout",
          "output_type": "stream",
          "text": [
            "[[0.07630829 0.77991879 0.43840923]\n",
            " [0.72346518 0.97798951 0.53849587]\n",
            " [0.50112046 0.07205113 0.26843898]]\n",
            "(3, 3)\n"
          ]
        }
      ],
      "source": [
        "np.random.seed(seed=7)\n",
        "random_array_2 = np.random.random((3,3))\n",
        "print(random_array_2)\n",
        "print(random_array_2.shape)"
      ]
    },
    {
      "cell_type": "markdown",
      "metadata": {
        "id": "SJ18zcMQsZx5"
      },
      "source": [
        "## 3. Viewing Arrays and Matrices"
      ]
    },
    {
      "cell_type": "code",
      "execution_count": 222,
      "metadata": {
        "colab": {
          "base_uri": "https://localhost:8080/"
        },
        "id": "uebPUltcsdYZ",
        "outputId": "5afa1742-1868-439f-ce82-dca1cfde84e0"
      },
      "outputs": [
        {
          "name": "stdout",
          "output_type": "stream",
          "text": [
            "[0 2 3 5 7 9]\n"
          ]
        }
      ],
      "source": [
        "random_array_3 = np.unique(random_array_1)\n",
        "print(random_array_3)"
      ]
    },
    {
      "cell_type": "code",
      "execution_count": 223,
      "metadata": {
        "colab": {
          "base_uri": "https://localhost:8080/"
        },
        "id": "jHIZtG3jnB9C",
        "outputId": "5e6be9bb-05d8-41b1-cd8f-01d726983e2c"
      },
      "outputs": [
        {
          "name": "stdout",
          "output_type": "stream",
          "text": [
            "[[[[7 6 4 0 7]\n",
            "   [0 7 6 3 5]\n",
            "   [8 8 7 5 0]\n",
            "   [0 2 8 9 6]]\n",
            "\n",
            "  [[4 9 7 3 3]\n",
            "   [8 3 0 1 0]\n",
            "   [0 6 7 7 9]\n",
            "   [3 0 7 7 7]]\n",
            "\n",
            "  [[0 5 4 3 1]\n",
            "   [3 1 3 4 3]\n",
            "   [1 9 5 9 1]\n",
            "   [2 3 2 2 5]]]\n",
            "\n",
            "\n",
            " [[[7 3 0 9 9]\n",
            "   [3 4 5 3 0]\n",
            "   [4 8 6 7 2]\n",
            "   [7 3 8 6 6]]\n",
            "\n",
            "  [[5 6 5 7 1]\n",
            "   [5 4 4 9 9]\n",
            "   [0 6 2 6 8]\n",
            "   [2 4 1 6 1]]\n",
            "\n",
            "  [[5 1 6 9 8]\n",
            "   [6 5 9 7 5]\n",
            "   [4 9 6 8 1]\n",
            "   [5 5 8 3 7]]]]\n",
            "(2, 3, 4, 5)\n",
            "4\n"
          ]
        }
      ],
      "source": [
        "random_array_4 = np.random.randint(10, size = (2,3,4,5))\n",
        "print(random_array_4)\n",
        "print(random_array_4.shape)\n",
        "print(random_array_4.ndim)"
      ]
    },
    {
      "cell_type": "code",
      "execution_count": 224,
      "metadata": {
        "colab": {
          "base_uri": "https://localhost:8080/"
        },
        "id": "7_KXge7UntFZ",
        "outputId": "29fdc2b5-4496-43c3-b3ba-b82b99420983"
      },
      "outputs": [
        {
          "name": "stdout",
          "output_type": "stream",
          "text": [
            "[[[[7]\n",
            "   [0]\n",
            "   [8]\n",
            "   [0]]\n",
            "\n",
            "  [[4]\n",
            "   [8]\n",
            "   [0]\n",
            "   [3]]\n",
            "\n",
            "  [[0]\n",
            "   [3]\n",
            "   [1]\n",
            "   [2]]]\n",
            "\n",
            "\n",
            " [[[7]\n",
            "   [3]\n",
            "   [4]\n",
            "   [7]]\n",
            "\n",
            "  [[5]\n",
            "   [5]\n",
            "   [0]\n",
            "   [2]]\n",
            "\n",
            "  [[5]\n",
            "   [6]\n",
            "   [4]\n",
            "   [5]]]]\n"
          ]
        }
      ],
      "source": [
        "# Get the first 4 numbers of the inner most arrays\n",
        "print(random_array_4[:, :, :, :1])"
      ]
    },
    {
      "cell_type": "markdown",
      "metadata": {
        "id": "YlB-FUfAoFHe"
      },
      "source": [
        "## 4. Manipulating & comparing arrays"
      ]
    },
    {
      "cell_type": "markdown",
      "metadata": {
        "id": "YSGfKxA6oJ--"
      },
      "source": [
        "### Arithmetic"
      ]
    },
    {
      "cell_type": "code",
      "execution_count": 225,
      "metadata": {
        "colab": {
          "base_uri": "https://localhost:8080/"
        },
        "id": "indLY0mUoLtY",
        "outputId": "2025afb5-dd99-4cce-8f26-550e45ae1849"
      },
      "outputs": [
        {
          "name": "stdout",
          "output_type": "stream",
          "text": [
            "[1 2 3]\n"
          ]
        }
      ],
      "source": [
        "a1 = np.array([1,2,3])\n",
        "print(a1)"
      ]
    },
    {
      "cell_type": "code",
      "execution_count": 226,
      "metadata": {
        "colab": {
          "base_uri": "https://localhost:8080/"
        },
        "id": "By7QZZuvoaed",
        "outputId": "70fd6fca-dc61-48f3-bb9b-a1c42e608e41"
      },
      "outputs": [
        {
          "name": "stdout",
          "output_type": "stream",
          "text": [
            "[1. 1. 1.]\n"
          ]
        }
      ],
      "source": [
        "ones = np.ones(3)\n",
        "print(ones)"
      ]
    },
    {
      "cell_type": "code",
      "execution_count": 227,
      "metadata": {
        "colab": {
          "base_uri": "https://localhost:8080/"
        },
        "id": "YkY3Hv0CofCn",
        "outputId": "1b010b30-8ef8-42ad-e26e-3aadf458aa97"
      },
      "outputs": [
        {
          "name": "stdout",
          "output_type": "stream",
          "text": [
            "[2. 3. 4.]\n"
          ]
        }
      ],
      "source": [
        "print(a1 + ones)"
      ]
    },
    {
      "cell_type": "code",
      "execution_count": 228,
      "metadata": {
        "colab": {
          "base_uri": "https://localhost:8080/"
        },
        "id": "fSCmtnljok9y",
        "outputId": "c166826e-4cd6-4c1e-8469-23b44249e5a8"
      },
      "outputs": [
        {
          "name": "stdout",
          "output_type": "stream",
          "text": [
            "[0. 1. 2.]\n"
          ]
        }
      ],
      "source": [
        "print(a1 - ones)"
      ]
    },
    {
      "cell_type": "code",
      "execution_count": 229,
      "metadata": {
        "colab": {
          "base_uri": "https://localhost:8080/"
        },
        "id": "Ik9or6_mongo",
        "outputId": "45c1d4f4-260e-4e18-c8c3-c63944dd80a2"
      },
      "outputs": [
        {
          "name": "stdout",
          "output_type": "stream",
          "text": [
            "[1. 2. 3.]\n"
          ]
        }
      ],
      "source": [
        "print(a1 * ones)"
      ]
    },
    {
      "cell_type": "code",
      "execution_count": 230,
      "metadata": {
        "colab": {
          "base_uri": "https://localhost:8080/"
        },
        "id": "8i40C9hRorGn",
        "outputId": "433c7bd1-87cc-4f33-ac4f-2fcd246e3dab"
      },
      "outputs": [
        {
          "name": "stdout",
          "output_type": "stream",
          "text": [
            "[[1.  2.  3.3]\n",
            " [4.  5.  6.5]]\n"
          ]
        }
      ],
      "source": [
        "a2 = np.array([[1,2,3.3],\n",
        "               [4,5,6.5]])\n",
        "print(a2)"
      ]
    },
    {
      "cell_type": "code",
      "execution_count": 231,
      "metadata": {
        "colab": {
          "base_uri": "https://localhost:8080/"
        },
        "id": "A5L6imMjo4zx",
        "outputId": "2bd14bea-4483-4faf-ff97-6ad8d5446216"
      },
      "outputs": [
        {
          "name": "stdout",
          "output_type": "stream",
          "text": [
            "[[ 1.   4.   9.9]\n",
            " [ 4.  10.  19.5]]\n"
          ]
        }
      ],
      "source": [
        "print(a1 * a2)"
      ]
    },
    {
      "cell_type": "code",
      "execution_count": 232,
      "metadata": {
        "colab": {
          "base_uri": "https://localhost:8080/"
        },
        "id": "CU8sT8qlpEmG",
        "outputId": "7cf30957-e1ef-4353-9daa-12161d00fd7a"
      },
      "outputs": [
        {
          "name": "stdout",
          "output_type": "stream",
          "text": [
            "[[[ 1  2  3]\n",
            "  [ 4  5  6]\n",
            "  [ 7  8  9]]\n",
            "\n",
            " [[10 11 12]\n",
            "  [13 14 15]\n",
            "  [16 17 18]]]\n"
          ]
        }
      ],
      "source": [
        "a3 = np.array([[[1,2,3],[4,5,6],[7,8,9]], [[10,11,12],[13,14,15],[16,17,18]]])\n",
        "print(a3)"
      ]
    },
    {
      "cell_type": "code",
      "execution_count": 233,
      "metadata": {
        "colab": {
          "base_uri": "https://localhost:8080/"
        },
        "id": "2m-3ceVhqyxQ",
        "outputId": "52c94b42-9a35-4c42-876f-86c28878c2ef"
      },
      "outputs": [
        {
          "name": "stdout",
          "output_type": "stream",
          "text": [
            "[[[  1.    2.    3. ]\n",
            "  [  8.   10.   12. ]\n",
            "  [ 23.1  26.4  29.7]]\n",
            "\n",
            " [[ 40.   44.   48. ]\n",
            "  [ 65.   70.   75. ]\n",
            "  [104.  110.5 117. ]]]\n"
          ]
        }
      ],
      "source": [
        "# Reshaping a2 to be multiplicably compatible with a3\n",
        "a2_reshaped = a2[:, :, np.newaxis]\n",
        "print(a2_reshaped * a3)"
      ]
    },
    {
      "cell_type": "code",
      "execution_count": 234,
      "metadata": {
        "colab": {
          "base_uri": "https://localhost:8080/"
        },
        "id": "S-QAVCSqq9xT",
        "outputId": "6ea4607f-2026-47fb-ecbb-9ecc20850656"
      },
      "outputs": [
        {
          "name": "stdout",
          "output_type": "stream",
          "text": [
            "[1. 2. 3.]\n"
          ]
        }
      ],
      "source": [
        "print(a1 / ones)"
      ]
    },
    {
      "cell_type": "code",
      "execution_count": 235,
      "metadata": {
        "colab": {
          "base_uri": "https://localhost:8080/"
        },
        "id": "02UVriAIrB4t",
        "outputId": "78c43be1-e556-4fc8-8f24-1ccbf61bd1a3"
      },
      "outputs": [
        {
          "name": "stdout",
          "output_type": "stream",
          "text": [
            "[[1.         1.         1.1       ]\n",
            " [4.         2.5        2.16666667]]\n"
          ]
        }
      ],
      "source": [
        "print(a2/a1)"
      ]
    },
    {
      "cell_type": "code",
      "execution_count": 236,
      "metadata": {
        "colab": {
          "base_uri": "https://localhost:8080/"
        },
        "id": "c35H1-IDrD3O",
        "outputId": "96dd4d92-3561-486e-feb6-edb4db3dbf6f"
      },
      "outputs": [
        {
          "name": "stdout",
          "output_type": "stream",
          "text": [
            "[[1. 1. 1.]\n",
            " [4. 2. 2.]]\n"
          ]
        }
      ],
      "source": [
        "# Floor division removes the decimals (rounds down)\n",
        "print(a2//a1)"
      ]
    },
    {
      "cell_type": "code",
      "execution_count": 237,
      "metadata": {
        "colab": {
          "base_uri": "https://localhost:8080/"
        },
        "id": "6GDVofvprOpg",
        "outputId": "96f752bb-0eba-4b85-a11a-81065300bf95"
      },
      "outputs": [
        {
          "name": "stdout",
          "output_type": "stream",
          "text": [
            "[[ 1.    4.   10.89]\n",
            " [16.   25.   42.25]]\n"
          ]
        }
      ],
      "source": [
        "print(a2 ** 2)"
      ]
    },
    {
      "cell_type": "code",
      "execution_count": 238,
      "metadata": {
        "colab": {
          "base_uri": "https://localhost:8080/"
        },
        "id": "bKvapw44rS7P",
        "outputId": "9971dcab-64cc-4d7a-9801-e36a14ebef45"
      },
      "outputs": [
        {
          "data": {
            "text/plain": [
              "array([[ 1.  ,  4.  , 10.89],\n",
              "       [16.  , 25.  , 42.25]])"
            ]
          },
          "execution_count": 238,
          "metadata": {},
          "output_type": "execute_result"
        }
      ],
      "source": [
        "np.square(a2)"
      ]
    },
    {
      "cell_type": "code",
      "execution_count": 239,
      "metadata": {
        "colab": {
          "base_uri": "https://localhost:8080/"
        },
        "id": "dB9ygqICraI7",
        "outputId": "22683146-57af-4fc6-afc8-dff8d23589e9"
      },
      "outputs": [
        {
          "name": "stdout",
          "output_type": "stream",
          "text": [
            "[2. 3. 4.]\n"
          ]
        }
      ],
      "source": [
        "print(a1 + ones)"
      ]
    },
    {
      "cell_type": "code",
      "execution_count": 240,
      "metadata": {
        "colab": {
          "base_uri": "https://localhost:8080/"
        },
        "id": "LYj_aZtnrWew",
        "outputId": "3356c147-ac9b-484b-a1f9-f0c6ff88208f"
      },
      "outputs": [
        {
          "data": {
            "text/plain": [
              "array([2., 3., 4.])"
            ]
          },
          "execution_count": 240,
          "metadata": {},
          "output_type": "execute_result"
        }
      ],
      "source": [
        "np.add(a1, ones)"
      ]
    },
    {
      "cell_type": "code",
      "execution_count": 241,
      "metadata": {
        "colab": {
          "base_uri": "https://localhost:8080/"
        },
        "id": "BhguMmVurfp5",
        "outputId": "73598eeb-9fdd-4130-cb11-6120c6475375"
      },
      "outputs": [
        {
          "name": "stdout",
          "output_type": "stream",
          "text": [
            "[0.5 1.  1.5]\n"
          ]
        }
      ],
      "source": [
        "print(a1 / 2)"
      ]
    },
    {
      "cell_type": "code",
      "execution_count": 242,
      "metadata": {
        "colab": {
          "base_uri": "https://localhost:8080/"
        },
        "id": "vRMra6zSrj4_",
        "outputId": "d42e92cb-7bda-4ed8-85ec-db23fdc99922"
      },
      "outputs": [
        {
          "name": "stdout",
          "output_type": "stream",
          "text": [
            "[[1.  0.  1.3]\n",
            " [0.  1.  0.5]]\n"
          ]
        }
      ],
      "source": [
        "print(a2 % 2)"
      ]
    },
    {
      "cell_type": "code",
      "execution_count": 243,
      "metadata": {
        "colab": {
          "base_uri": "https://localhost:8080/"
        },
        "id": "Qm1tD3HNrocM",
        "outputId": "586be41c-8a2e-4b56-d68e-4f57a07a9a16"
      },
      "outputs": [
        {
          "name": "stdout",
          "output_type": "stream",
          "text": [
            "[ 2.71828183  7.3890561  20.08553692]\n"
          ]
        }
      ],
      "source": [
        "print(np.exp(a1))"
      ]
    },
    {
      "cell_type": "code",
      "execution_count": 244,
      "metadata": {
        "colab": {
          "base_uri": "https://localhost:8080/"
        },
        "id": "Fe0LeX9srrlF",
        "outputId": "2b563c0c-c77b-4b23-cf41-20c2e6c79e44"
      },
      "outputs": [
        {
          "name": "stdout",
          "output_type": "stream",
          "text": [
            "[0.         0.69314718 1.09861229]\n"
          ]
        }
      ],
      "source": [
        "print(np.log(a1))"
      ]
    },
    {
      "cell_type": "markdown",
      "metadata": {
        "id": "N5is1iH4tJi5"
      },
      "source": [
        "### Aggregation\n",
        "Aggregation = Performing the same operation on a number of things"
      ]
    },
    {
      "cell_type": "code",
      "execution_count": 245,
      "metadata": {
        "colab": {
          "base_uri": "https://localhost:8080/"
        },
        "id": "D3x_RRLzt3wM",
        "outputId": "a4527138-3ac7-4c42-8474-0e995d26ca9d"
      },
      "outputs": [
        {
          "data": {
            "text/plain": [
              "list"
            ]
          },
          "execution_count": 245,
          "metadata": {},
          "output_type": "execute_result"
        }
      ],
      "source": [
        "listy_list = [1,2,3]\n",
        "type(listy_list)"
      ]
    },
    {
      "cell_type": "code",
      "execution_count": 246,
      "metadata": {
        "colab": {
          "base_uri": "https://localhost:8080/"
        },
        "id": "831OAJozt8gE",
        "outputId": "88f36c21-6192-4c78-e7b9-4ac6b174cc0c"
      },
      "outputs": [
        {
          "data": {
            "text/plain": [
              "6"
            ]
          },
          "execution_count": 246,
          "metadata": {},
          "output_type": "execute_result"
        }
      ],
      "source": [
        "sum(listy_list)"
      ]
    },
    {
      "cell_type": "code",
      "execution_count": 247,
      "metadata": {
        "colab": {
          "base_uri": "https://localhost:8080/"
        },
        "id": "xF2bo1M-t_MJ",
        "outputId": "a24951fb-9c72-4d4d-eb39-28a034d2f057"
      },
      "outputs": [
        {
          "data": {
            "text/plain": [
              "6"
            ]
          },
          "execution_count": 247,
          "metadata": {},
          "output_type": "execute_result"
        }
      ],
      "source": [
        "sum(a1)"
      ]
    },
    {
      "cell_type": "code",
      "execution_count": 248,
      "metadata": {
        "colab": {
          "base_uri": "https://localhost:8080/"
        },
        "id": "A6v8y7pbuByc",
        "outputId": "64af1a2f-a376-44ce-e088-d18371f96632"
      },
      "outputs": [
        {
          "data": {
            "text/plain": [
              "6"
            ]
          },
          "execution_count": 248,
          "metadata": {},
          "output_type": "execute_result"
        }
      ],
      "source": [
        "np.sum(a1)"
      ]
    },
    {
      "cell_type": "markdown",
      "metadata": {
        "id": "nQ8DhB2JuMbB"
      },
      "source": [
        "Use Python's methods (`sum()`) on Python datatypes and use Numpy's methods on Numpy arrays (`np.sum()`)."
      ]
    },
    {
      "cell_type": "code",
      "execution_count": 249,
      "metadata": {
        "colab": {
          "base_uri": "https://localhost:8080/"
        },
        "id": "K-1FwU7QuY5L",
        "outputId": "5ad6b1db-ea69-4231-9941-4a857851ab9b"
      },
      "outputs": [
        {
          "name": "stdout",
          "output_type": "stream",
          "text": [
            "100000\n",
            "[0.75778036 0.513401   0.17842575 0.39200156 0.93959276 0.21291858\n",
            " 0.81329627 0.40364858 0.58672092 0.18599889]\n"
          ]
        }
      ],
      "source": [
        "# Creating a massive NumPy array\n",
        "massive_array = np.random.random(100000)\n",
        "print(massive_array.size)\n",
        "print(massive_array[:10])"
      ]
    },
    {
      "cell_type": "code",
      "execution_count": 250,
      "metadata": {
        "colab": {
          "base_uri": "https://localhost:8080/"
        },
        "id": "m19krvpLuo--",
        "outputId": "e5c83ba0-3189-4a08-9e7a-4d44a512c935"
      },
      "outputs": [
        {
          "name": "stdout",
          "output_type": "stream",
          "text": [
            "11.4 ms ± 436 µs per loop (mean ± std. dev. of 7 runs, 100 loops each)\n",
            "41.6 µs ± 2.24 µs per loop (mean ± std. dev. of 7 runs, 10,000 loops each)\n"
          ]
        }
      ],
      "source": [
        "%timeit sum(massive_array) # Python's sum()\n",
        "%timeit np.sum(massive_array) # NumPy's sum()"
      ]
    },
    {
      "cell_type": "code",
      "execution_count": 251,
      "metadata": {
        "colab": {
          "base_uri": "https://localhost:8080/"
        },
        "id": "l-GBGOuPvdYD",
        "outputId": "0326c18c-0014-45f6-f0c6-f3952f2848c9"
      },
      "outputs": [
        {
          "name": "stdout",
          "output_type": "stream",
          "text": [
            "3.6333333333333333\n"
          ]
        }
      ],
      "source": [
        "print(np.mean(a2))"
      ]
    },
    {
      "cell_type": "code",
      "execution_count": 252,
      "metadata": {
        "colab": {
          "base_uri": "https://localhost:8080/"
        },
        "id": "L2T7ICAbvggP",
        "outputId": "41c244a5-4b47-480a-8071-30d0ee40393e"
      },
      "outputs": [
        {
          "name": "stdout",
          "output_type": "stream",
          "text": [
            "6.5\n"
          ]
        }
      ],
      "source": [
        "print(np.max(a2))"
      ]
    },
    {
      "cell_type": "code",
      "execution_count": 253,
      "metadata": {
        "colab": {
          "base_uri": "https://localhost:8080/"
        },
        "id": "HHG1MEwRvijr",
        "outputId": "24af7b4b-64a7-426e-beda-1b5d359156c7"
      },
      "outputs": [
        {
          "name": "stdout",
          "output_type": "stream",
          "text": [
            "1.0\n"
          ]
        }
      ],
      "source": [
        "print(np.min(a2))"
      ]
    },
    {
      "cell_type": "markdown",
      "metadata": {
        "id": "EbPAwyPrwqQI"
      },
      "source": [
        "\n",
        "**What's mean?**\n",
        "\n",
        "Mean is the same as average. You can find the average of a set of numbers by adding them up and dividing them by how many there are.\n",
        "\n",
        "**What's standard deviation?**\n",
        "\n",
        "Standard deviation is a measure of how spread out numbers are.\n",
        "\n",
        "**What's variance?**\n",
        "\n",
        "The variance is the averaged squared differences of the mean.\n",
        "\n",
        "To work it out, you:\n",
        "1. Work out the mean\n",
        "2. For each number, subtract the mean and square the result\n",
        "3. Find the average of the squared differences"
      ]
    },
    {
      "cell_type": "code",
      "execution_count": 254,
      "metadata": {
        "colab": {
          "base_uri": "https://localhost:8080/"
        },
        "id": "12aG97o2wvcD",
        "outputId": "830a2d21-f167-44b7-f50b-b556c27d0920"
      },
      "outputs": [
        {
          "data": {
            "text/plain": [
              "1.8226964152656422"
            ]
          },
          "execution_count": 254,
          "metadata": {},
          "output_type": "execute_result"
        }
      ],
      "source": [
        "# Standard deviation = a measure of how spread out a group of numbers is from the mean\n",
        "np.std(a2)"
      ]
    },
    {
      "cell_type": "code",
      "execution_count": 255,
      "metadata": {
        "colab": {
          "base_uri": "https://localhost:8080/"
        },
        "id": "1lhuvS-Xwyh2",
        "outputId": "d7938ab2-e969-4acd-a3ac-9970fb3b3120"
      },
      "outputs": [
        {
          "data": {
            "text/plain": [
              "3.3222222222222224"
            ]
          },
          "execution_count": 255,
          "metadata": {},
          "output_type": "execute_result"
        }
      ],
      "source": [
        "# Variance = measure of the average degree to which each number is different to the mean\n",
        "# Higher variance = wider range of numbers\n",
        "# Lower variance = lower range of numbers\n",
        "np.var(a2)"
      ]
    },
    {
      "cell_type": "code",
      "execution_count": 256,
      "metadata": {
        "colab": {
          "base_uri": "https://localhost:8080/"
        },
        "id": "4tYzbmvfw0ZV",
        "outputId": "02b580b9-e6ab-431c-9340-ef61c930d03b"
      },
      "outputs": [
        {
          "data": {
            "text/plain": [
              "1.8226964152656422"
            ]
          },
          "execution_count": 256,
          "metadata": {},
          "output_type": "execute_result"
        }
      ],
      "source": [
        "# Standard deviation = squareroot of variance\n",
        "np.sqrt(np.var(a2))"
      ]
    },
    {
      "cell_type": "code",
      "execution_count": 257,
      "metadata": {
        "id": "-n0uhC9xw2Z4"
      },
      "outputs": [],
      "source": [
        "# Demo of std and var\n",
        "high_var_array = np.array([1, 100, 200, 300, 4000, 5000])\n",
        "low_var_array = np.array([2, 4, 6, 8, 10])"
      ]
    },
    {
      "cell_type": "code",
      "execution_count": 258,
      "metadata": {
        "colab": {
          "base_uri": "https://localhost:8080/"
        },
        "id": "jbZ2y4Bmw5Xy",
        "outputId": "9f065270-67c9-4a19-ab7b-4df9ee228ff0"
      },
      "outputs": [
        {
          "data": {
            "text/plain": [
              "(4296133.472222221, 8.0)"
            ]
          },
          "execution_count": 258,
          "metadata": {},
          "output_type": "execute_result"
        }
      ],
      "source": [
        "np.var(high_var_array), np.var(low_var_array)"
      ]
    },
    {
      "cell_type": "code",
      "execution_count": 259,
      "metadata": {
        "colab": {
          "base_uri": "https://localhost:8080/"
        },
        "id": "F94xueujw618",
        "outputId": "34e1c617-1b34-474c-d500-821c4b6490b8"
      },
      "outputs": [
        {
          "data": {
            "text/plain": [
              "(2072.711623024829, 2.8284271247461903)"
            ]
          },
          "execution_count": 259,
          "metadata": {},
          "output_type": "execute_result"
        }
      ],
      "source": [
        "np.std(high_var_array), np.std(low_var_array)"
      ]
    },
    {
      "cell_type": "code",
      "execution_count": 260,
      "metadata": {
        "colab": {
          "base_uri": "https://localhost:8080/"
        },
        "id": "GAdrb-d4w8km",
        "outputId": "1dcde882-bfb4-4561-92db-67c77022ef3c"
      },
      "outputs": [
        {
          "data": {
            "text/plain": [
              "(1600.1666666666667, 6.0)"
            ]
          },
          "execution_count": 260,
          "metadata": {},
          "output_type": "execute_result"
        }
      ],
      "source": [
        "np.mean(high_var_array), np.mean(low_var_array)"
      ]
    },
    {
      "cell_type": "code",
      "execution_count": 261,
      "metadata": {
        "colab": {
          "base_uri": "https://localhost:8080/",
          "height": 430
        },
        "id": "aIpq7rofxzhJ",
        "outputId": "6fb66266-1560-405a-b4f3-ad9adeae13f4"
      },
      "outputs": [
        {
          "data": {
            "image/png": "[encoded data removed]",
            "text/plain": [
              "<Figure size 640x480 with 1 Axes>"
            ]
          },
          "metadata": {},
          "output_type": "display_data"
        }
      ],
      "source": [
        "plt.hist(high_var_array)\n",
        "plt.show()"
      ]
    },
    {
      "cell_type": "code",
      "execution_count": 262,
      "metadata": {
        "colab": {
          "base_uri": "https://localhost:8080/",
          "height": 430
        },
        "id": "3M11rcJpx6iX",
        "outputId": "9f12f114-c04b-42ad-b1bc-9c003a27fdbc"
      },
      "outputs": [
        {
          "data": {
            "image/png": "[encoded data removed]",
            "text/plain": [
              "<Figure size 640x480 with 1 Axes>"
            ]
          },
          "metadata": {},
          "output_type": "display_data"
        }
      ],
      "source": [
        "plt.hist(low_var_array)\n",
        "plt.show()"
      ]
    },
    {
      "cell_type": "markdown",
      "metadata": {
        "id": "FdwQKoO8zkw6"
      },
      "source": [
        "### Reshaping & transposing"
      ]
    },
    {
      "cell_type": "code",
      "execution_count": 263,
      "metadata": {
        "colab": {
          "base_uri": "https://localhost:8080/"
        },
        "id": "X93i47MezuM-",
        "outputId": "470023c5-e3b1-4b19-c822-2606cc3db13a"
      },
      "outputs": [
        {
          "name": "stdout",
          "output_type": "stream",
          "text": [
            "(2, 3)\n",
            "(2, 3, 3)\n"
          ]
        }
      ],
      "source": [
        "print(a2.shape)\n",
        "print(a3.shape)"
      ]
    },
    {
      "cell_type": "code",
      "execution_count": 264,
      "metadata": {
        "colab": {
          "base_uri": "https://localhost:8080/"
        },
        "id": "KXXai9w4z9Lj",
        "outputId": "a98f2afe-034f-4b9f-8901-17a52a66e6a1"
      },
      "outputs": [
        {
          "name": "stdout",
          "output_type": "stream",
          "text": [
            "[[[1. ]\n",
            "  [2. ]\n",
            "  [3.3]]\n",
            "\n",
            " [[4. ]\n",
            "  [5. ]\n",
            "  [6.5]]]\n"
          ]
        }
      ],
      "source": [
        "a2_reshape = a2.reshape(2, 3, 1)\n",
        "print(a2_reshape)"
      ]
    },
    {
      "cell_type": "code",
      "execution_count": 265,
      "metadata": {
        "colab": {
          "base_uri": "https://localhost:8080/"
        },
        "id": "tca5OPMK0LFW",
        "outputId": "ec975f33-d5fa-41dc-d866-52a769d7a8ac"
      },
      "outputs": [
        {
          "name": "stdout",
          "output_type": "stream",
          "text": [
            "[[[  1.    2.    3. ]\n",
            "  [  8.   10.   12. ]\n",
            "  [ 23.1  26.4  29.7]]\n",
            "\n",
            " [[ 40.   44.   48. ]\n",
            "  [ 65.   70.   75. ]\n",
            "  [104.  110.5 117. ]]]\n"
          ]
        }
      ],
      "source": [
        "print(a2_reshape * a3)"
      ]
    },
    {
      "cell_type": "code",
      "execution_count": 266,
      "metadata": {
        "colab": {
          "base_uri": "https://localhost:8080/"
        },
        "id": "4xN2tVV20QBY",
        "outputId": "503dd81e-86e2-4ca4-da2f-62f79f1ef816"
      },
      "outputs": [
        {
          "name": "stdout",
          "output_type": "stream",
          "text": [
            "[[1.  4. ]\n",
            " [2.  5. ]\n",
            " [3.3 6.5]]\n",
            "[[[ 1 10]\n",
            "  [ 4 13]\n",
            "  [ 7 16]]\n",
            "\n",
            " [[ 2 11]\n",
            "  [ 5 14]\n",
            "  [ 8 17]]\n",
            "\n",
            " [[ 3 12]\n",
            "  [ 6 15]\n",
            "  [ 9 18]]]\n"
          ]
        }
      ],
      "source": [
        "# Transpose = switches the axis'\n",
        "print(a2.T)\n",
        "print(a3.T)"
      ]
    },
    {
      "cell_type": "code",
      "execution_count": 267,
      "metadata": {
        "colab": {
          "base_uri": "https://localhost:8080/"
        },
        "id": "FuxLxMgd0XK1",
        "outputId": "3eb633b2-22d2-47f1-8d21-12927d9943d8"
      },
      "outputs": [
        {
          "name": "stdout",
          "output_type": "stream",
          "text": [
            "(3, 2)\n",
            "(3, 3, 2)\n"
          ]
        }
      ],
      "source": [
        "print(a2.T.shape)\n",
        "print(a3.T.shape)"
      ]
    },
    {
      "cell_type": "markdown",
      "metadata": {
        "id": "xXlgxJYX14oz"
      },
      "source": [
        "### Dot product"
      ]
    },
    {
      "cell_type": "code",
      "execution_count": 268,
      "metadata": {
        "colab": {
          "base_uri": "https://localhost:8080/"
        },
        "id": "2K6sLhKs18Dz",
        "outputId": "4a899d98-9ff0-477c-8039-b0a2c49e4d1d"
      },
      "outputs": [
        {
          "name": "stdout",
          "output_type": "stream",
          "text": [
            "[[5 0 3]\n",
            " [3 7 9]\n",
            " [3 5 2]\n",
            " [4 7 6]\n",
            " [8 8 1]]\n",
            "[[6 7 7]\n",
            " [8 1 5]\n",
            " [9 8 9]\n",
            " [4 3 0]\n",
            " [3 5 0]]\n"
          ]
        }
      ],
      "source": [
        "np.random.seed(0)\n",
        "mat1 = np.random.randint(10, size=(5, 3))\n",
        "mat2 = np.random.randint(10, size=(5, 3))\n",
        "print(mat1)\n",
        "print(mat2)"
      ]
    },
    {
      "cell_type": "code",
      "execution_count": 269,
      "metadata": {
        "colab": {
          "base_uri": "https://localhost:8080/"
        },
        "id": "uqC848S62Gcx",
        "outputId": "0a9fd1d2-ede4-43e1-d13c-6927de76cb04"
      },
      "outputs": [
        {
          "name": "stdout",
          "output_type": "stream",
          "text": [
            "(5, 3) (5, 3)\n"
          ]
        }
      ],
      "source": [
        "print(mat1.shape, mat2.shape)"
      ]
    },
    {
      "cell_type": "code",
      "execution_count": 270,
      "metadata": {
        "colab": {
          "base_uri": "https://localhost:8080/"
        },
        "id": "LnfsqHC52NQm",
        "outputId": "bcec0f8b-3108-410d-8cfe-dd2b5b414dbd"
      },
      "outputs": [
        {
          "name": "stdout",
          "output_type": "stream",
          "text": [
            "[[30  0 21]\n",
            " [24  7 45]\n",
            " [27 40 18]\n",
            " [16 21  0]\n",
            " [24 40  0]]\n"
          ]
        }
      ],
      "source": [
        "# Element-wise multiplication (Hadamard product)\n",
        "print(mat1 * mat2)"
      ]
    },
    {
      "cell_type": "code",
      "execution_count": 271,
      "metadata": {
        "id": "ylw8o9B23ylW"
      },
      "outputs": [],
      "source": [
        "# Dot product 1\n",
        "# Generates error: np.dot(mat1, mat2)"
      ]
    },
    {
      "cell_type": "code",
      "execution_count": 272,
      "metadata": {
        "colab": {
          "base_uri": "https://localhost:8080/"
        },
        "id": "E-LFio-c4Xk0",
        "outputId": "59ad7b5b-e54d-4264-c381-3133a9ef4480"
      },
      "outputs": [
        {
          "data": {
            "text/plain": [
              "array([[5, 3, 3, 4, 8],\n",
              "       [0, 7, 5, 7, 8],\n",
              "       [3, 9, 2, 6, 1]])"
            ]
          },
          "execution_count": 272,
          "metadata": {},
          "output_type": "execute_result"
        }
      ],
      "source": [
        "# Transpose mat1\n",
        "mat1.T"
      ]
    },
    {
      "cell_type": "code",
      "execution_count": 273,
      "metadata": {
        "colab": {
          "base_uri": "https://localhost:8080/"
        },
        "id": "PwuY5rEQ4a6I",
        "outputId": "4fcc0cc3-4577-40ff-bd69-30d49cdcb413"
      },
      "outputs": [
        {
          "name": "stdout",
          "output_type": "stream",
          "text": [
            "(5, 3) (3, 5)\n"
          ]
        }
      ],
      "source": [
        "print(mat1.shape, mat2.T.shape)"
      ]
    },
    {
      "cell_type": "code",
      "execution_count": 274,
      "metadata": {
        "colab": {
          "base_uri": "https://localhost:8080/"
        },
        "id": "4G6zLQYW3ZoH",
        "outputId": "92f1a9d4-ddc6-4f1f-f679-84e06656d9f6"
      },
      "outputs": [
        {
          "name": "stdout",
          "output_type": "stream",
          "text": [
            "[[ 51  55  72  20  15]\n",
            " [130  76 164  33  44]\n",
            " [ 67  39  85  27  34]\n",
            " [115  69 146  37  47]\n",
            " [111  77 145  56  64]]\n",
            "(5, 5)\n"
          ]
        }
      ],
      "source": [
        "# Dot product 2\n",
        "mat3 = np.dot(mat1, mat2.T)\n",
        "print(mat3)\n",
        "print(mat3.shape)"
      ]
    },
    {
      "cell_type": "markdown",
      "metadata": {
        "id": "RVtwmiuJ71th"
      },
      "source": [
        "### Nut Butter sales"
      ]
    },
    {
      "cell_type": "code",
      "execution_count": 275,
      "metadata": {
        "colab": {
          "base_uri": "https://localhost:8080/"
        },
        "id": "AVH4nbui9ljU",
        "outputId": "697dfa74-6fa2-44d7-c944-4ea7f3bf72ff"
      },
      "outputs": [
        {
          "name": "stdout",
          "output_type": "stream",
          "text": [
            "[[12 15  0]\n",
            " [ 3  3  7]\n",
            " [ 9 19 18]\n",
            " [ 4  6 12]\n",
            " [ 1  6  7]]\n"
          ]
        }
      ],
      "source": [
        "np.random.seed(0)\n",
        "# Number of jars sold\n",
        "sales_amounts = np.random.randint(20, size=(5,3))\n",
        "print(sales_amounts)"
      ]
    },
    {
      "cell_type": "code",
      "execution_count": 276,
      "metadata": {
        "colab": {
          "base_uri": "https://localhost:8080/"
        },
        "id": "KWxyjQKy8De7",
        "outputId": "a0d65810-888f-4be5-c8f8-22cc013b28ab"
      },
      "outputs": [
        {
          "name": "stdout",
          "output_type": "stream",
          "text": [
            "       Almond butter  Peanut butter  Cashew butter\n",
            "Mon               12             15              0\n",
            "Tues               3              3              7\n",
            "Wed                9             19             18\n",
            "Thurs              4              6             12\n",
            "Fri                1              6              7\n"
          ]
        }
      ],
      "source": [
        "# Create weekly_sales DataFrame\n",
        "weekly_sales = pd.DataFrame(sales_amounts,\n",
        "                            index=[\"Mon\", \"Tues\", \"Wed\", \"Thurs\", \"Fri\"],\n",
        "                            columns=[\"Almond butter\", \"Peanut butter\", \"Cashew butter\"])\n",
        "print(weekly_sales)"
      ]
    },
    {
      "cell_type": "code",
      "execution_count": 277,
      "metadata": {
        "colab": {
          "base_uri": "https://localhost:8080/"
        },
        "id": "f3ZPpcfQ9qz-",
        "outputId": "784a32a0-82a6-4354-ef3e-b296f53900bd"
      },
      "outputs": [
        {
          "name": "stdout",
          "output_type": "stream",
          "text": [
            "[10  8 12]\n"
          ]
        }
      ],
      "source": [
        "# Create prices array\n",
        "prices = np.array([10, 8, 12])\n",
        "print(prices)"
      ]
    },
    {
      "cell_type": "code",
      "execution_count": 278,
      "metadata": {
        "colab": {
          "base_uri": "https://localhost:8080/"
        },
        "id": "KvwuFWZ39vMB",
        "outputId": "40056086-7480-4af6-9dc7-25b18d4a4689"
      },
      "outputs": [
        {
          "name": "stdout",
          "output_type": "stream",
          "text": [
            "(3,)\n"
          ]
        }
      ],
      "source": [
        "print(prices.shape)"
      ]
    },
    {
      "cell_type": "code",
      "execution_count": 279,
      "metadata": {
        "colab": {
          "base_uri": "https://localhost:8080/"
        },
        "id": "pEs8kyCQ9yD0",
        "outputId": "a2e385cb-2c78-4d3e-dc92-5bed1b6bfac1"
      },
      "outputs": [
        {
          "name": "stdout",
          "output_type": "stream",
          "text": [
            "       Almond butter  Peanut butter  Cashew butter\n",
            "Price             10              8             12\n"
          ]
        }
      ],
      "source": [
        "# Create butter_prices DataFrame\n",
        "butter_prices = pd.DataFrame(prices.reshape(1, 3),\n",
        "                             index=[\"Price\"],\n",
        "                             columns=[\"Almond butter\", \"Peanut butter\", \"Cashew butter\"])\n",
        "print(butter_prices)"
      ]
    },
    {
      "cell_type": "code",
      "execution_count": 280,
      "metadata": {
        "colab": {
          "base_uri": "https://localhost:8080/"
        },
        "id": "3ch4kPKR92SK",
        "outputId": "db21bff1-0aee-4b9c-e3b4-1ff58de33fcf"
      },
      "outputs": [
        {
          "name": "stdout",
          "output_type": "stream",
          "text": [
            "(3,)\n"
          ]
        }
      ],
      "source": [
        "print(prices.shape)"
      ]
    },
    {
      "cell_type": "code",
      "execution_count": 281,
      "metadata": {
        "colab": {
          "base_uri": "https://localhost:8080/"
        },
        "id": "xeW1_cTk9397",
        "outputId": "e29c24cd-5c0f-46f7-df64-4d6241caf33a"
      },
      "outputs": [
        {
          "name": "stdout",
          "output_type": "stream",
          "text": [
            "(5, 3)\n"
          ]
        }
      ],
      "source": [
        "print(sales_amounts.shape)"
      ]
    },
    {
      "cell_type": "code",
      "execution_count": 282,
      "metadata": {
        "id": "RMRqqpHh97sn"
      },
      "outputs": [],
      "source": [
        "# ValueError\n",
        "# total_sales = prices.dot(sales_amounts)"
      ]
    },
    {
      "cell_type": "code",
      "execution_count": 283,
      "metadata": {
        "colab": {
          "base_uri": "https://localhost:8080/"
        },
        "id": "oQAWdTrU-EHL",
        "outputId": "933463eb-ce1f-4d83-80c3-84b1cd219160"
      },
      "outputs": [
        {
          "name": "stdout",
          "output_type": "stream",
          "text": [
            "[240 138 458 232 142]\n"
          ]
        }
      ],
      "source": [
        "# Shape aren't aligned, let's transpose\n",
        "total_sales = prices.dot(sales_amounts.T)\n",
        "print(total_sales)"
      ]
    },
    {
      "cell_type": "code",
      "execution_count": 284,
      "metadata": {
        "colab": {
          "base_uri": "https://localhost:8080/"
        },
        "id": "gD-dhxrK-I1t",
        "outputId": "b4e03169-1595-4ae0-c349-21cf19fd4380"
      },
      "outputs": [
        {
          "name": "stdout",
          "output_type": "stream",
          "text": [
            "(1, 3) (5, 3)\n"
          ]
        }
      ],
      "source": [
        "# Create daily_sales\n",
        "print(butter_prices.shape, weekly_sales.shape)"
      ]
    },
    {
      "cell_type": "code",
      "execution_count": 285,
      "metadata": {
        "colab": {
          "base_uri": "https://localhost:8080/"
        },
        "id": "wQmhVTht-PIE",
        "outputId": "5509ef82-5fd6-4692-ea46-455e3701e6db"
      },
      "outputs": [
        {
          "name": "stdout",
          "output_type": "stream",
          "text": [
            "(1, 5)\n"
          ]
        }
      ],
      "source": [
        "daily_sales = butter_prices.dot(weekly_sales.T)\n",
        "print(daily_sales.shape)"
      ]
    },
    {
      "cell_type": "code",
      "execution_count": 286,
      "metadata": {
        "colab": {
          "base_uri": "https://localhost:8080/"
        },
        "id": "1L2dtHEF-Z0C",
        "outputId": "987d3218-55ca-45db-933d-6ca3d0b397f2"
      },
      "outputs": [
        {
          "name": "stdout",
          "output_type": "stream",
          "text": [
            "(5, 3)\n"
          ]
        }
      ],
      "source": [
        "print(weekly_sales.shape)"
      ]
    },
    {
      "cell_type": "code",
      "execution_count": 287,
      "metadata": {
        "colab": {
          "base_uri": "https://localhost:8080/"
        },
        "id": "WNn7Gh5N-cV7",
        "outputId": "d57ca921-4b0e-4c0e-ed3a-c31ffcaf56d4"
      },
      "outputs": [
        {
          "name": "stdout",
          "output_type": "stream",
          "text": [
            "       Almond butter  Peanut butter  Cashew butter\n",
            "Mon               12             15              0\n",
            "Tues               3              3              7\n",
            "Wed                9             19             18\n",
            "Thurs              4              6             12\n",
            "Fri                1              6              7\n"
          ]
        }
      ],
      "source": [
        "print(weekly_sales)"
      ]
    },
    {
      "cell_type": "code",
      "execution_count": 288,
      "metadata": {
        "colab": {
          "base_uri": "https://localhost:8080/"
        },
        "id": "GQRYO7nz-hTH",
        "outputId": "a957c3e1-70cb-46b7-9550-a9ab11fb2462"
      },
      "outputs": [
        {
          "name": "stdout",
          "output_type": "stream",
          "text": [
            "       Almond butter  Peanut butter  Cashew butter  Total ($)\n",
            "Mon               12             15              0        240\n",
            "Tues               3              3              7        138\n",
            "Wed                9             19             18        458\n",
            "Thurs              4              6             12        232\n",
            "Fri                1              6              7        142\n"
          ]
        }
      ],
      "source": [
        "weekly_sales[\"Total ($)\"] = daily_sales.T\n",
        "print(weekly_sales)"
      ]
    },
    {
      "cell_type": "markdown",
      "metadata": {
        "id": "PSjSW0EF_L7n"
      },
      "source": [
        "### Comparison Operators"
      ]
    },
    {
      "cell_type": "code",
      "execution_count": 289,
      "metadata": {
        "colab": {
          "base_uri": "https://localhost:8080/"
        },
        "id": "Pec326eD_QOU",
        "outputId": "49e17109-ed39-4f25-c6c0-b5c3308fa67a"
      },
      "outputs": [
        {
          "name": "stdout",
          "output_type": "stream",
          "text": [
            "[[False False False]\n",
            " [False False False]]\n"
          ]
        }
      ],
      "source": [
        "print(a1 > a2)"
      ]
    },
    {
      "cell_type": "code",
      "execution_count": 290,
      "metadata": {
        "colab": {
          "base_uri": "https://localhost:8080/"
        },
        "id": "VRioGU9G_Sh-",
        "outputId": "8d298e38-338f-4e57-cda5-221151200cc7"
      },
      "outputs": [
        {
          "name": "stdout",
          "output_type": "stream",
          "text": [
            "[[ True  True False]\n",
            " [False False False]]\n"
          ]
        }
      ],
      "source": [
        "bool_array = a1 >= a2\n",
        "print(bool_array)"
      ]
    },
    {
      "cell_type": "code",
      "execution_count": 291,
      "metadata": {
        "colab": {
          "base_uri": "https://localhost:8080/"
        },
        "id": "o_IqU3oX_cr_",
        "outputId": "bca88e2a-abfa-4afb-e795-11efb45cf935"
      },
      "outputs": [
        {
          "name": "stdout",
          "output_type": "stream",
          "text": [
            "<class 'numpy.ndarray'> bool\n"
          ]
        }
      ],
      "source": [
        "print(type(bool_array), bool_array.dtype)"
      ]
    },
    {
      "cell_type": "code",
      "execution_count": 292,
      "metadata": {
        "colab": {
          "base_uri": "https://localhost:8080/"
        },
        "id": "bcjjR7QL_f89",
        "outputId": "6db3c036-fe3f-4bdf-8eba-18f7f4949562"
      },
      "outputs": [
        {
          "name": "stdout",
          "output_type": "stream",
          "text": [
            "[False False False]\n"
          ]
        }
      ],
      "source": [
        "print(a1 > 5)"
      ]
    },
    {
      "cell_type": "code",
      "execution_count": 293,
      "metadata": {
        "colab": {
          "base_uri": "https://localhost:8080/"
        },
        "id": "8QhX9HiE_izi",
        "outputId": "640746a4-240a-4c6b-8bd4-b20c06262e4b"
      },
      "outputs": [
        {
          "name": "stdout",
          "output_type": "stream",
          "text": [
            "[ True  True  True]\n"
          ]
        }
      ],
      "source": [
        "print(a1 < 5)"
      ]
    },
    {
      "cell_type": "code",
      "execution_count": 294,
      "metadata": {
        "colab": {
          "base_uri": "https://localhost:8080/"
        },
        "id": "NUomE_c0_kL9",
        "outputId": "1f3c57a3-2aad-45f0-866c-7777e311ab11"
      },
      "outputs": [
        {
          "name": "stdout",
          "output_type": "stream",
          "text": [
            "[ True  True  True]\n"
          ]
        }
      ],
      "source": [
        "print(a1 == a1)"
      ]
    },
    {
      "cell_type": "code",
      "execution_count": 295,
      "metadata": {
        "colab": {
          "base_uri": "https://localhost:8080/"
        },
        "id": "QQOPW_6T_nHM",
        "outputId": "49c1c5b2-0347-4df6-d1a0-dccb6066250e"
      },
      "outputs": [
        {
          "name": "stdout",
          "output_type": "stream",
          "text": [
            "[[ True  True False]\n",
            " [False False False]]\n"
          ]
        }
      ],
      "source": [
        "print(a1 == a2)"
      ]
    },
    {
      "cell_type": "markdown",
      "metadata": {
        "id": "26j-Y2OG_17_"
      },
      "source": [
        "## 5. Sorting Arrays"
      ]
    },
    {
      "cell_type": "code",
      "execution_count": 296,
      "metadata": {
        "colab": {
          "base_uri": "https://localhost:8080/"
        },
        "id": "WaYRDyDi_1H9",
        "outputId": "7f1fb88e-5882-4481-b5f7-e6ba40d59613"
      },
      "outputs": [
        {
          "name": "stdout",
          "output_type": "stream",
          "text": [
            "[[7 8 1 5 9]\n",
            " [8 9 4 3 0]\n",
            " [3 5 0 2 3]]\n"
          ]
        }
      ],
      "source": [
        "random_array = np.random.randint(10, size=(3, 5))\n",
        "print(random_array)"
      ]
    },
    {
      "cell_type": "code",
      "execution_count": 297,
      "metadata": {
        "colab": {
          "base_uri": "https://localhost:8080/"
        },
        "id": "OoGOE-ac_8Xk",
        "outputId": "eb420642-8953-4634-ad17-6473b914b92c"
      },
      "outputs": [
        {
          "name": "stdout",
          "output_type": "stream",
          "text": [
            "(3, 5)\n"
          ]
        }
      ],
      "source": [
        "print(random_array.shape)"
      ]
    },
    {
      "cell_type": "code",
      "execution_count": 298,
      "metadata": {
        "colab": {
          "base_uri": "https://localhost:8080/"
        },
        "id": "NLJi-ZLw_-aI",
        "outputId": "8ec5ea26-774b-473b-b839-f8b9a4a60e7c"
      },
      "outputs": [
        {
          "name": "stdout",
          "output_type": "stream",
          "text": [
            "[[1 5 7 8 9]\n",
            " [0 3 4 8 9]\n",
            " [0 2 3 3 5]]\n"
          ]
        }
      ],
      "source": [
        "print(np.sort(random_array))"
      ]
    },
    {
      "cell_type": "code",
      "execution_count": 299,
      "metadata": {
        "colab": {
          "base_uri": "https://localhost:8080/"
        },
        "id": "I19knwqwAC12",
        "outputId": "12ca81a3-f2d1-419f-97e4-6746d07cc05b"
      },
      "outputs": [
        {
          "name": "stdout",
          "output_type": "stream",
          "text": [
            "[[2 3 0 1 4]\n",
            " [4 3 2 0 1]\n",
            " [2 3 0 4 1]]\n"
          ]
        }
      ],
      "source": [
        "print(np.argsort(random_array))"
      ]
    },
    {
      "cell_type": "code",
      "execution_count": 300,
      "metadata": {
        "colab": {
          "base_uri": "https://localhost:8080/"
        },
        "id": "kZPzVp6mAGsP",
        "outputId": "3c767890-0d99-4425-9990-f8f07447f01b"
      },
      "outputs": [
        {
          "name": "stdout",
          "output_type": "stream",
          "text": [
            "[0 1 2]\n"
          ]
        }
      ],
      "source": [
        "print(np.argsort(a1))"
      ]
    },
    {
      "cell_type": "code",
      "execution_count": 301,
      "metadata": {
        "colab": {
          "base_uri": "https://localhost:8080/"
        },
        "id": "dmJhKpzkAJMZ",
        "outputId": "67c13d2f-1049-431b-c532-35bb73f7050a"
      },
      "outputs": [
        {
          "name": "stdout",
          "output_type": "stream",
          "text": [
            "0\n"
          ]
        }
      ],
      "source": [
        "print(np.argmin(a1))"
      ]
    },
    {
      "cell_type": "code",
      "execution_count": 302,
      "metadata": {
        "colab": {
          "base_uri": "https://localhost:8080/"
        },
        "id": "LOcmTV8NALoO",
        "outputId": "4a463f5f-faad-438a-cf27-39a0f0183c74"
      },
      "outputs": [
        {
          "name": "stdout",
          "output_type": "stream",
          "text": [
            "2\n"
          ]
        }
      ],
      "source": [
        "print(np.argmax(a1))"
      ]
    },
    {
      "cell_type": "code",
      "execution_count": 303,
      "metadata": {
        "colab": {
          "base_uri": "https://localhost:8080/"
        },
        "id": "8IO2W_FdANlh",
        "outputId": "04f19748-3828-4f01-de30-b2ea95dcb543"
      },
      "outputs": [
        {
          "name": "stdout",
          "output_type": "stream",
          "text": [
            "[1 1 1 0 0]\n"
          ]
        }
      ],
      "source": [
        "print(np.argmax(random_array, axis=0))"
      ]
    },
    {
      "cell_type": "code",
      "execution_count": 304,
      "metadata": {
        "colab": {
          "base_uri": "https://localhost:8080/"
        },
        "id": "kl7Bw3u8AP86",
        "outputId": "152cd86f-f1f9-4899-cb90-f462412f576f"
      },
      "outputs": [
        {
          "name": "stdout",
          "output_type": "stream",
          "text": [
            "[4 1 1]\n"
          ]
        }
      ],
      "source": [
        "print(np.argmax(random_array, axis=1))"
      ]
    },
    {
      "cell_type": "markdown",
      "metadata": {},
      "source": [
        "## 7. Turning Images into NumPy Arrays\n",
        "\n",
        "Computers can use the numbers in the NumPy array to find patterns in the image and in turn use those patterns to figure out what's in the image.This is what happens in modern computer vision algorithms."
      ]
    },
    {
      "cell_type": "code",
      "execution_count": 305,
      "metadata": {},
      "outputs": [
        {
          "name": "stdout",
          "output_type": "stream",
          "text": [
            "<class 'numpy.ndarray'>\n"
          ]
        }
      ],
      "source": [
        "panda = imread('Images/panda.png')\n",
        "print(type(panda))"
      ]
    },
    {
      "cell_type": "code",
      "execution_count": 306,
      "metadata": {},
      "outputs": [
        {
          "name": "stdout",
          "output_type": "stream",
          "text": [
            "(2330, 3500, 3)\n"
          ]
        }
      ],
      "source": [
        "print(panda.shape)"
      ]
    },
    {
      "cell_type": "code",
      "execution_count": 307,
      "metadata": {},
      "outputs": [
        {
          "name": "stdout",
          "output_type": "stream",
          "text": [
            "[[[0.05490196 0.10588235 0.06666667]\n",
            "  [0.05490196 0.10588235 0.06666667]\n",
            "  [0.05490196 0.10588235 0.06666667]\n",
            "  ...\n",
            "  [0.16470589 0.12941177 0.09411765]\n",
            "  [0.16470589 0.12941177 0.09411765]\n",
            "  [0.16470589 0.12941177 0.09411765]]\n",
            "\n",
            " [[0.05490196 0.10588235 0.06666667]\n",
            "  [0.05490196 0.10588235 0.06666667]\n",
            "  [0.05490196 0.10588235 0.06666667]\n",
            "  ...\n",
            "  [0.16470589 0.12941177 0.09411765]\n",
            "  [0.16470589 0.12941177 0.09411765]\n",
            "  [0.16470589 0.12941177 0.09411765]]\n",
            "\n",
            " [[0.05490196 0.10588235 0.06666667]\n",
            "  [0.05490196 0.10588235 0.06666667]\n",
            "  [0.05490196 0.10588235 0.06666667]\n",
            "  ...\n",
            "  [0.16470589 0.12941177 0.09411765]\n",
            "  [0.16470589 0.12941177 0.09411765]\n",
            "  [0.16470589 0.12941177 0.09411765]]\n",
            "\n",
            " ...\n",
            "\n",
            " [[0.13333334 0.07450981 0.05490196]\n",
            "  [0.12156863 0.0627451  0.04313726]\n",
            "  [0.10980392 0.05098039 0.03137255]\n",
            "  ...\n",
            "  [0.02745098 0.02745098 0.03529412]\n",
            "  [0.02745098 0.02745098 0.03529412]\n",
            "  [0.02745098 0.02745098 0.03529412]]\n",
            "\n",
            " [[0.13333334 0.07450981 0.05490196]\n",
            "  [0.12156863 0.0627451  0.04313726]\n",
            "  [0.12156863 0.0627451  0.04313726]\n",
            "  ...\n",
            "  [0.02352941 0.02352941 0.03137255]\n",
            "  [0.02352941 0.02352941 0.03137255]\n",
            "  [0.02352941 0.02352941 0.03137255]]\n",
            "\n",
            " [[0.13333334 0.07450981 0.05490196]\n",
            "  [0.12156863 0.0627451  0.04313726]\n",
            "  [0.12156863 0.0627451  0.04313726]\n",
            "  ...\n",
            "  [0.02352941 0.02352941 0.03137255]\n",
            "  [0.02352941 0.02352941 0.03137255]\n",
            "  [0.02352941 0.02352941 0.03137255]]]\n"
          ]
        }
      ],
      "source": [
        "print(panda)"
      ]
    },
    {
      "cell_type": "code",
      "execution_count": 308,
      "metadata": {},
      "outputs": [
        {
          "name": "stdout",
          "output_type": "stream",
          "text": [
            "<class 'numpy.ndarray'>\n"
          ]
        }
      ],
      "source": [
        "car = imread('Images/car.png')\n",
        "print(type(car))"
      ]
    },
    {
      "cell_type": "code",
      "execution_count": 309,
      "metadata": {},
      "outputs": [
        {
          "name": "stdout",
          "output_type": "stream",
          "text": [
            "(431, 575, 4)\n"
          ]
        }
      ],
      "source": [
        "print(car.shape)"
      ]
    },
    {
      "cell_type": "code",
      "execution_count": 310,
      "metadata": {},
      "outputs": [
        {
          "name": "stdout",
          "output_type": "stream",
          "text": [
            "[[[0.5019608  0.50980395 0.4862745  1.        ]\n",
            "  [0.3372549  0.34509805 0.30588236 1.        ]\n",
            "  [0.20392157 0.21568628 0.14901961 1.        ]\n",
            "  ...\n",
            "  [0.64705884 0.7058824  0.54901963 1.        ]\n",
            "  [0.59607846 0.63529414 0.45882353 1.        ]\n",
            "  [0.44705883 0.47058824 0.3372549  1.        ]]\n",
            "\n",
            " [[0.44313726 0.43529412 0.40392157 1.        ]\n",
            "  [0.3137255  0.31764707 0.27450982 1.        ]\n",
            "  [0.2        0.21176471 0.14117648 1.        ]\n",
            "  ...\n",
            "  [0.5058824  0.5372549  0.4117647  1.        ]\n",
            "  [0.49803922 0.52156866 0.39607844 1.        ]\n",
            "  [0.4        0.42745098 0.34117648 1.        ]]\n",
            "\n",
            " [[0.39607844 0.38039216 0.34117648 1.        ]\n",
            "  [0.31764707 0.3137255  0.27450982 1.        ]\n",
            "  [0.28627452 0.29411766 0.24705882 1.        ]\n",
            "  ...\n",
            "  [0.44705883 0.45882353 0.32156864 1.        ]\n",
            "  [0.45882353 0.48235294 0.3529412  1.        ]\n",
            "  [0.4509804  0.49019608 0.38039216 1.        ]]\n",
            "\n",
            " ...\n",
            "\n",
            " [[0.47058824 0.57254905 0.6313726  1.        ]\n",
            "  [0.4392157  0.53333336 0.5882353  1.        ]\n",
            "  [0.48235294 0.5803922  0.6392157  1.        ]\n",
            "  ...\n",
            "  [0.6156863  0.7529412  0.827451   1.        ]\n",
            "  [0.61960787 0.7607843  0.83137256 1.        ]\n",
            "  [0.5921569  0.73333335 0.7921569  1.        ]]\n",
            "\n",
            " [[0.4745098  0.5803922  0.6392157  1.        ]\n",
            "  [0.47058824 0.58431375 0.63529414 1.        ]\n",
            "  [0.4117647  0.5019608  0.5529412  1.        ]\n",
            "  ...\n",
            "  [0.54901963 0.6784314  0.74509805 1.        ]\n",
            "  [0.65882355 0.8117647  0.8862745  1.        ]\n",
            "  [0.60784316 0.74509805 0.8117647  1.        ]]\n",
            "\n",
            " [[0.4745098  0.57254905 0.627451   1.        ]\n",
            "  [0.49411765 0.6        0.65882355 1.        ]\n",
            "  [0.49019608 0.5921569  0.64705884 1.        ]\n",
            "  ...\n",
            "  [0.5294118  0.63529414 0.69803923 1.        ]\n",
            "  [0.5529412  0.67058825 0.7372549  1.        ]\n",
            "  [0.6156863  0.73333335 0.8        1.        ]]]\n"
          ]
        }
      ],
      "source": [
        "print(car)"
      ]
    },
    {
      "cell_type": "code",
      "execution_count": 311,
      "metadata": {},
      "outputs": [
        {
          "name": "stdout",
          "output_type": "stream",
          "text": [
            "<class 'numpy.ndarray'>\n"
          ]
        }
      ],
      "source": [
        "dog = imread('Images/dog.png')\n",
        "print(type(dog))"
      ]
    },
    {
      "cell_type": "code",
      "execution_count": 312,
      "metadata": {},
      "outputs": [
        {
          "name": "stdout",
          "output_type": "stream",
          "text": [
            "(432, 575, 4)\n"
          ]
        }
      ],
      "source": [
        "print(dog.shape)"
      ]
    },
    {
      "cell_type": "code",
      "execution_count": 313,
      "metadata": {},
      "outputs": [
        {
          "name": "stdout",
          "output_type": "stream",
          "text": [
            "[[[0.70980394 0.80784315 0.88235295 1.        ]\n",
            "  [0.72156864 0.8117647  0.8862745  1.        ]\n",
            "  [0.7411765  0.8156863  0.8862745  1.        ]\n",
            "  ...\n",
            "  [0.49803922 0.6862745  0.8392157  1.        ]\n",
            "  [0.49411765 0.68235296 0.8392157  1.        ]\n",
            "  [0.49411765 0.68235296 0.8352941  1.        ]]\n",
            "\n",
            " [[0.69411767 0.8039216  0.8862745  1.        ]\n",
            "  [0.7019608  0.8039216  0.88235295 1.        ]\n",
            "  [0.7058824  0.80784315 0.88235295 1.        ]\n",
            "  ...\n",
            "  [0.5019608  0.6862745  0.84705883 1.        ]\n",
            "  [0.49411765 0.68235296 0.84313726 1.        ]\n",
            "  [0.49411765 0.68235296 0.8392157  1.        ]]\n",
            "\n",
            " [[0.6901961  0.8        0.88235295 1.        ]\n",
            "  [0.69803923 0.8039216  0.88235295 1.        ]\n",
            "  [0.7058824  0.80784315 0.88235295 1.        ]\n",
            "  ...\n",
            "  [0.5019608  0.6862745  0.84705883 1.        ]\n",
            "  [0.49803922 0.6862745  0.84313726 1.        ]\n",
            "  [0.49803922 0.6862745  0.84313726 1.        ]]\n",
            "\n",
            " ...\n",
            "\n",
            " [[0.9098039  0.81960785 0.654902   1.        ]\n",
            "  [0.8352941  0.7490196  0.6509804  1.        ]\n",
            "  [0.72156864 0.6313726  0.5372549  1.        ]\n",
            "  ...\n",
            "  [0.01568628 0.07058824 0.02352941 1.        ]\n",
            "  [0.03921569 0.09411765 0.03529412 1.        ]\n",
            "  [0.03921569 0.09019608 0.05490196 1.        ]]\n",
            "\n",
            " [[0.9137255  0.83137256 0.6784314  1.        ]\n",
            "  [0.8117647  0.7294118  0.627451   1.        ]\n",
            "  [0.65882355 0.5686275  0.47843137 1.        ]\n",
            "  ...\n",
            "  [0.00392157 0.05490196 0.03529412 1.        ]\n",
            "  [0.03137255 0.09019608 0.05490196 1.        ]\n",
            "  [0.04705882 0.10588235 0.06666667 1.        ]]\n",
            "\n",
            " [[0.9137255  0.83137256 0.68235296 1.        ]\n",
            "  [0.76862746 0.68235296 0.5882353  1.        ]\n",
            "  [0.59607846 0.5058824  0.44313726 1.        ]\n",
            "  ...\n",
            "  [0.03921569 0.10196079 0.07058824 1.        ]\n",
            "  [0.02745098 0.08235294 0.05882353 1.        ]\n",
            "  [0.05098039 0.11372549 0.07058824 1.        ]]]\n"
          ]
        }
      ],
      "source": [
        "print(dog)"
      ]
    }
  ],
  "metadata": {
    "colab": {
      "authorship_tag": "ABX9TyNRcUGqhdiawIV45b4AeI3X",
      "provenance": []
    },
    "kernelspec": {
      "display_name": "Python 3",
      "name": "python3"
    },
    "language_info": {
      "codemirror_mode": {
        "name": "ipython",
        "version": 3
      },
      "file_extension": ".py",
      "mimetype": "text/x-python",
      "name": "python",
      "nbconvert_exporter": "python",
      "pygments_lexer": "ipython3",
      "version": "3.11.5"
    }
  },
  "nbformat": 4,
  "nbformat_minor": 0
}
