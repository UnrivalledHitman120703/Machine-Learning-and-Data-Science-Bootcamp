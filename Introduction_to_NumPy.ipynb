{
  "cells": [
    {
      "cell_type": "code",
      "execution_count": 1,
      "metadata": {
        "id": "IbluRr0spGn1"
      },
      "outputs": [],
      "source": [
        "import numpy as np\n",
        "import pandas as pd"
      ]
    },
    {
      "cell_type": "markdown",
      "metadata": {
        "id": "UZJ1NMfNprcO"
      },
      "source": [
        "## 1. DataTypes & Attributes"
      ]
    },
    {
      "cell_type": "code",
      "execution_count": 2,
      "metadata": {
        "colab": {
          "base_uri": "https://localhost:8080/"
        },
        "id": "a9xcRMjipq8_",
        "outputId": "1ce8b02a-2463-4f34-f450-fbae8d9d4df5"
      },
      "outputs": [
        {
          "name": "stdout",
          "output_type": "stream",
          "text": [
            "[1 2 3]\n",
            "<class 'numpy.ndarray'>\n",
            "(3,)\n",
            "1\n",
            "int64\n",
            "3\n"
          ]
        }
      ],
      "source": [
        "# NumPy's main datatype is ndarray\n",
        "# shape: returns number of elements in each dimension\n",
        "# ndim: returns number of array dimensions\n",
        "# dtype: returns data type of the NumPy array\n",
        "# size: returns the number of elements in the array\n",
        "\n",
        "a1 = np.array([1,2,3])\n",
        "print(a1)\n",
        "print(type(a1))\n",
        "print(a1.shape)\n",
        "print(a1.ndim)\n",
        "print(a1.dtype)\n",
        "print(a1.size)"
      ]
    },
    {
      "cell_type": "code",
      "execution_count": 3,
      "metadata": {
        "colab": {
          "base_uri": "https://localhost:8080/"
        },
        "id": "mKEJRj2mqD0Y",
        "outputId": "13a298e4-c83f-45e0-85d0-e249dcb9a6e8"
      },
      "outputs": [
        {
          "name": "stdout",
          "output_type": "stream",
          "text": [
            "[[1 2 3]\n",
            " [4 5 6]]\n",
            "<class 'numpy.ndarray'>\n",
            "(2, 3)\n",
            "2\n",
            "int64\n",
            "6\n"
          ]
        }
      ],
      "source": [
        "a2 = np.array([[1,2,3], [4,5,6]])\n",
        "print(a2)\n",
        "print(type(a2))\n",
        "print(a2.shape)\n",
        "print(a2.ndim)\n",
        "print(a2.dtype)\n",
        "print(a2.size)"
      ]
    },
    {
      "cell_type": "code",
      "execution_count": 4,
      "metadata": {
        "colab": {
          "base_uri": "https://localhost:8080/"
        },
        "id": "Xm0lBTj8qX6_",
        "outputId": "81dd9d5e-5a9b-44c0-9319-b34fd6541269"
      },
      "outputs": [
        {
          "name": "stdout",
          "output_type": "stream",
          "text": [
            "[[[ 1  2  3]\n",
            "  [ 4  5  6]\n",
            "  [ 7  8  9]]\n",
            "\n",
            " [[10 11 12]\n",
            "  [13 14 15]\n",
            "  [16 17 18]]\n",
            "\n",
            " [[19 20 21]\n",
            "  [22 23 24]\n",
            "  [25 26 27]]]\n",
            "<class 'numpy.ndarray'>\n",
            "(3, 3, 3)\n",
            "3\n",
            "int64\n",
            "27\n"
          ]
        }
      ],
      "source": [
        "a3 = np.array([[[1,2,3], [4,5,6], [7,8,9]],\n",
        " [[10,11,12],[13,14,15],[16,17,18]],\n",
        "               [[19,20,21],[22,23,24],[25,26,27]]])\n",
        "print(a3)\n",
        "print(type(a3))\n",
        "print(a3.shape)\n",
        "print(a3.ndim)\n",
        "print(a3.dtype)\n",
        "print(a3.size)"
      ]
    },
    {
      "cell_type": "code",
      "execution_count": 5,
      "metadata": {
        "colab": {
          "base_uri": "https://localhost:8080/"
        },
        "id": "kK4skQkj2sJu",
        "outputId": "a4538b0c-d9cb-4ef7-913b-5e40276e12f7"
      },
      "outputs": [
        {
          "name": "stdout",
          "output_type": "stream",
          "text": [
            "   0  1  2\n",
            "0  1  2  3\n",
            "1  4  5  6\n"
          ]
        }
      ],
      "source": [
        "# Create DataFrames from NumPy arrays\n",
        "# DataFrame is a 2D data structure\n",
        "df = pd.DataFrame(a2)\n",
        "print(df)"
      ]
    },
    {
      "cell_type": "markdown",
      "metadata": {
        "id": "L8H2WYqNDYPi"
      },
      "source": [
        "## 2. Creating arrays"
      ]
    },
    {
      "cell_type": "code",
      "execution_count": 6,
      "metadata": {
        "colab": {
          "base_uri": "https://localhost:8080/"
        },
        "id": "ZWQwqEYfDXf2",
        "outputId": "ecd4cadc-769d-4a3e-9aa6-3b416097e353"
      },
      "outputs": [
        {
          "name": "stdout",
          "output_type": "stream",
          "text": [
            "[1 2 3]\n",
            "int64\n"
          ]
        }
      ],
      "source": [
        "sample_array = np.array([1,2,3])\n",
        "print(sample_array)\n",
        "print(sample_array.dtype)"
      ]
    },
    {
      "cell_type": "code",
      "execution_count": 7,
      "metadata": {
        "colab": {
          "base_uri": "https://localhost:8080/"
        },
        "id": "6pGwTvo9EAN9",
        "outputId": "c8085587-6bf6-4895-effb-57c6f60c9a6e"
      },
      "outputs": [
        {
          "name": "stdout",
          "output_type": "stream",
          "text": [
            "[[1. 1. 1.]\n",
            " [1. 1. 1.]\n",
            " [1. 1. 1.]]\n",
            "float64\n"
          ]
        }
      ],
      "source": [
        "ones = np.ones((3,3))\n",
        "print(ones)\n",
        "print(ones.dtype)"
      ]
    },
    {
      "cell_type": "code",
      "execution_count": 8,
      "metadata": {
        "colab": {
          "base_uri": "https://localhost:8080/"
        },
        "id": "XO3KvlbVEOjN",
        "outputId": "d31031dc-e7e1-4b30-f6c9-b079ff9d6930"
      },
      "outputs": [
        {
          "name": "stdout",
          "output_type": "stream",
          "text": [
            "[[0. 0. 0.]\n",
            " [0. 0. 0.]\n",
            " [0. 0. 0.]]\n",
            "float64\n"
          ]
        }
      ],
      "source": [
        "zeros = np.zeros((3,3))\n",
        "print(zeros)\n",
        "print(zeros.dtype)"
      ]
    },
    {
      "cell_type": "code",
      "execution_count": 9,
      "metadata": {
        "colab": {
          "base_uri": "https://localhost:8080/"
        },
        "id": "OnZXRNtCEcCu",
        "outputId": "16f69307-bfe1-4564-9fbe-11bcc382f1c1"
      },
      "outputs": [
        {
          "name": "stdout",
          "output_type": "stream",
          "text": [
            "[0 2 4 6 8]\n",
            "int64\n"
          ]
        }
      ],
      "source": [
        "range_array = np.arange(0, 10, 2)\n",
        "print(range_array)\n",
        "print(range_array.dtype)"
      ]
    },
    {
      "cell_type": "code",
      "execution_count": 10,
      "metadata": {
        "colab": {
          "base_uri": "https://localhost:8080/"
        },
        "id": "4exmyctuEte6",
        "outputId": "f7e8d835-aaa2-4263-850d-d6cacc67831b"
      },
      "outputs": [
        {
          "name": "stdout",
          "output_type": "stream",
          "text": [
            "[[7 8 3]\n",
            " [3 7 6]\n",
            " [4 2 3]]\n",
            "int64\n"
          ]
        }
      ],
      "source": [
        "random_array = np.random.randint(0, 10, size = (3,3))\n",
        "print(random_array)\n",
        "print(range_array.dtype)"
      ]
    },
    {
      "cell_type": "code",
      "execution_count": 11,
      "metadata": {
        "colab": {
          "base_uri": "https://localhost:8080/"
        },
        "id": "PdYQ2VE4nQrT",
        "outputId": "d011bd9c-26f6-431c-8188-ec4e4779f89a"
      },
      "outputs": [
        {
          "name": "stdout",
          "output_type": "stream",
          "text": [
            "[[0.11544052 0.45019048 0.42966591]\n",
            " [0.33896221 0.70860028 0.70969235]\n",
            " [0.68111256 0.08980873 0.46617246]]\n",
            "int64\n"
          ]
        }
      ],
      "source": [
        "random_array_rand = np.random.rand(3,3)\n",
        "print(random_array_rand)\n",
        "print(range_array.dtype)"
      ]
    },
    {
      "cell_type": "code",
      "execution_count": 13,
      "metadata": {
        "colab": {
          "base_uri": "https://localhost:8080/"
        },
        "id": "P4RhfBxYoHSW",
        "outputId": "a66364a6-c563-4c78-d17a-f21b33f1e98d"
      },
      "outputs": [
        {
          "name": "stdout",
          "output_type": "stream",
          "text": [
            "[[5 0 3]\n",
            " [3 7 9]\n",
            " [3 5 2]]\n",
            "(3, 3)\n"
          ]
        }
      ],
      "source": [
        "# Pseudo-random numbers\n",
        "np.random.seed(seed=0)\n",
        "random_array_1 = np.random.randint(10, size=(3,3))\n",
        "print(random_array_1)\n",
        "print(random_array_1.shape)"
      ]
    },
    {
      "cell_type": "code",
      "execution_count": 14,
      "metadata": {
        "colab": {
          "base_uri": "https://localhost:8080/"
        },
        "id": "kWTWCKIPrWNv",
        "outputId": "2567c1f3-1dc7-4b96-d971-a7434d814fb0"
      },
      "outputs": [
        {
          "name": "stdout",
          "output_type": "stream",
          "text": [
            "[[0.07630829 0.77991879 0.43840923]\n",
            " [0.72346518 0.97798951 0.53849587]\n",
            " [0.50112046 0.07205113 0.26843898]]\n",
            "(3, 3)\n"
          ]
        }
      ],
      "source": [
        "np.random.seed(seed=7)\n",
        "random_array_2 = np.random.random((3,3))\n",
        "print(random_array_2)\n",
        "print(random_array_2.shape)"
      ]
    }
  ],
  "metadata": {
    "colab": {
      "authorship_tag": "ABX9TyOv4gNmmU6yv9cZbCukYqhS",
      "include_colab_link": true,
      "provenance": []
    },
    "kernelspec": {
      "display_name": "Python 3",
      "name": "python3"
    },
    "language_info": {
      "name": "python"
    }
  },
  "nbformat": 4,
  "nbformat_minor": 0
}
