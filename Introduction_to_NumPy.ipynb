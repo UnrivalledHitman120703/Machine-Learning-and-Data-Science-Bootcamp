{
  "nbformat": 4,
  "nbformat_minor": 0,
  "metadata": {
    "colab": {
      "provenance": [],
      "authorship_tag": "ABX9TyM6elKUMPUlmSKrk5SO3hvu",
      "include_colab_link": true
    },
    "kernelspec": {
      "name": "python3",
      "display_name": "Python 3"
    },
    "language_info": {
      "name": "python"
    }
  },
  "cells": [
    {
      "cell_type": "markdown",
      "metadata": {
        "id": "view-in-github",
        "colab_type": "text"
      },
      "source": [
        "<a href=\"https://colab.research.google.com/github/UnrivalledHitman120703/Machine-Learning-and-Data-Science-Bootcamp/blob/main/Introduction_to_NumPy.ipynb\" target=\"_parent\"><img src=\"https://colab.research.google.com/assets/colab-badge.svg\" alt=\"Open In Colab\"/></a>"
      ]
    },
    {
      "cell_type": "code",
      "execution_count": 1,
      "metadata": {
        "id": "IbluRr0spGn1"
      },
      "outputs": [],
      "source": [
        "import numpy as np\n",
        "import pandas as pd"
      ]
    },
    {
      "cell_type": "markdown",
      "source": [
        "## 1. DataTypes & Attributes"
      ],
      "metadata": {
        "id": "UZJ1NMfNprcO"
      }
    },
    {
      "cell_type": "code",
      "source": [
        "# NumPy's main datatype is ndarray\n",
        "# shape: returns number of elements in each dimension\n",
        "# ndim: returns number of array dimensions\n",
        "# dtype: returns data type of the NumPy array\n",
        "# size: returns the number of elements in the array\n",
        "\n",
        "a1 = np.array([1,2,3])\n",
        "print(a1)\n",
        "print(type(a1))\n",
        "print(a1.shape)\n",
        "print(a1.ndim)\n",
        "print(a1.dtype)\n",
        "print(a1.size)"
      ],
      "metadata": {
        "colab": {
          "base_uri": "https://localhost:8080/"
        },
        "id": "a9xcRMjipq8_",
        "outputId": "e4072b9c-bb15-4239-e856-fad25a787fa1"
      },
      "execution_count": 2,
      "outputs": [
        {
          "output_type": "stream",
          "name": "stdout",
          "text": [
            "[1 2 3]\n",
            "<class 'numpy.ndarray'>\n",
            "(3,)\n",
            "1\n",
            "int64\n",
            "3\n"
          ]
        }
      ]
    },
    {
      "cell_type": "code",
      "source": [
        "a2 = np.array([[1,2,3], [4,5,6]])\n",
        "print(a2)\n",
        "print(type(a2))\n",
        "print(a2.shape)\n",
        "print(a2.ndim)\n",
        "print(a2.dtype)\n",
        "print(a2.size)"
      ],
      "metadata": {
        "colab": {
          "base_uri": "https://localhost:8080/"
        },
        "id": "mKEJRj2mqD0Y",
        "outputId": "86d841d9-976c-4c7f-dacf-355411ddc2b6"
      },
      "execution_count": 3,
      "outputs": [
        {
          "output_type": "stream",
          "name": "stdout",
          "text": [
            "[[1 2 3]\n",
            " [4 5 6]]\n",
            "<class 'numpy.ndarray'>\n",
            "(2, 3)\n",
            "2\n",
            "int64\n",
            "6\n"
          ]
        }
      ]
    },
    {
      "cell_type": "code",
      "source": [
        "a3 = np.array([[[1,2,3], [4,5,6], [7,8,9]],\n",
        " [[10,11,12],[13,14,15],[16,17,18]],\n",
        "               [[19,20,21],[22,23,24],[25,26,27]]])\n",
        "print(a3)\n",
        "print(type(a3))\n",
        "print(a3.shape)\n",
        "print(a3.ndim)\n",
        "print(a3.dtype)\n",
        "print(a3.size)"
      ],
      "metadata": {
        "colab": {
          "base_uri": "https://localhost:8080/"
        },
        "id": "Xm0lBTj8qX6_",
        "outputId": "4d8a5584-c23f-4210-c51d-053003511088"
      },
      "execution_count": 4,
      "outputs": [
        {
          "output_type": "stream",
          "name": "stdout",
          "text": [
            "[[[ 1  2  3]\n",
            "  [ 4  5  6]\n",
            "  [ 7  8  9]]\n",
            "\n",
            " [[10 11 12]\n",
            "  [13 14 15]\n",
            "  [16 17 18]]\n",
            "\n",
            " [[19 20 21]\n",
            "  [22 23 24]\n",
            "  [25 26 27]]]\n",
            "<class 'numpy.ndarray'>\n",
            "(3, 3, 3)\n",
            "3\n",
            "int64\n",
            "27\n"
          ]
        }
      ]
    },
    {
      "cell_type": "code",
      "source": [
        "# Create DataFrames from NumPy arrays\n",
        "# DataFrame is a 2D data structure\n",
        "df = pd.DataFrame(a2)\n",
        "print(df)"
      ],
      "metadata": {
        "colab": {
          "base_uri": "https://localhost:8080/"
        },
        "id": "kK4skQkj2sJu",
        "outputId": "9b3db408-d787-4172-aba5-916e22bf125b"
      },
      "execution_count": 5,
      "outputs": [
        {
          "output_type": "stream",
          "name": "stdout",
          "text": [
            "   0  1  2\n",
            "0  1  2  3\n",
            "1  4  5  6\n"
          ]
        }
      ]
    },
    {
      "cell_type": "markdown",
      "source": [
        "## 2. Creating arrays"
      ],
      "metadata": {
        "id": "L8H2WYqNDYPi"
      }
    },
    {
      "cell_type": "code",
      "source": [
        "sample_array = np.array([1,2,3])\n",
        "print(sample_array)\n",
        "print(sample_array.dtype)"
      ],
      "metadata": {
        "colab": {
          "base_uri": "https://localhost:8080/"
        },
        "id": "ZWQwqEYfDXf2",
        "outputId": "7c9473d5-6843-498e-a064-23235582f739"
      },
      "execution_count": 6,
      "outputs": [
        {
          "output_type": "stream",
          "name": "stdout",
          "text": [
            "[1 2 3]\n",
            "int64\n"
          ]
        }
      ]
    },
    {
      "cell_type": "code",
      "source": [
        "ones = np.ones((3,3))\n",
        "print(ones)\n",
        "print(ones.dtype)"
      ],
      "metadata": {
        "colab": {
          "base_uri": "https://localhost:8080/"
        },
        "id": "6pGwTvo9EAN9",
        "outputId": "1093c80e-45ec-49e4-d6c0-ec196f771c9b"
      },
      "execution_count": 7,
      "outputs": [
        {
          "output_type": "stream",
          "name": "stdout",
          "text": [
            "[[1. 1. 1.]\n",
            " [1. 1. 1.]\n",
            " [1. 1. 1.]]\n",
            "float64\n"
          ]
        }
      ]
    },
    {
      "cell_type": "code",
      "source": [
        "zeros = np.zeros((3,3))\n",
        "print(zeros)\n",
        "print(zeros.dtype)"
      ],
      "metadata": {
        "colab": {
          "base_uri": "https://localhost:8080/"
        },
        "id": "XO3KvlbVEOjN",
        "outputId": "b23b881a-0a2a-40e3-9b9c-d7a2b9574261"
      },
      "execution_count": 8,
      "outputs": [
        {
          "output_type": "stream",
          "name": "stdout",
          "text": [
            "[[0. 0. 0.]\n",
            " [0. 0. 0.]\n",
            " [0. 0. 0.]]\n",
            "float64\n"
          ]
        }
      ]
    },
    {
      "cell_type": "code",
      "source": [
        "range_array = np.arange(0, 10, 2)\n",
        "print(range_array)\n",
        "print(range_array.dtype)"
      ],
      "metadata": {
        "colab": {
          "base_uri": "https://localhost:8080/"
        },
        "id": "OnZXRNtCEcCu",
        "outputId": "b1846ed5-b6c8-4d17-a5ac-88f548f04298"
      },
      "execution_count": 9,
      "outputs": [
        {
          "output_type": "stream",
          "name": "stdout",
          "text": [
            "[0 2 4 6 8]\n",
            "int64\n"
          ]
        }
      ]
    },
    {
      "cell_type": "code",
      "source": [
        "random_array = np.random.randint(0, 10, size = (3,3))\n",
        "print(random_array)\n",
        "print(range_array.dtype)"
      ],
      "metadata": {
        "colab": {
          "base_uri": "https://localhost:8080/"
        },
        "id": "4exmyctuEte6",
        "outputId": "9202d823-0d15-4bff-9859-30ba8d96db01"
      },
      "execution_count": 10,
      "outputs": [
        {
          "output_type": "stream",
          "name": "stdout",
          "text": [
            "[[3 6 8]\n",
            " [9 9 0]\n",
            " [2 3 3]]\n",
            "int64\n"
          ]
        }
      ]
    },
    {
      "cell_type": "code",
      "source": [
        "random_array_rand = np.random.rand(3,3)\n",
        "print(random_array_rand)\n",
        "print(range_array.dtype)"
      ],
      "metadata": {
        "colab": {
          "base_uri": "https://localhost:8080/"
        },
        "id": "PdYQ2VE4nQrT",
        "outputId": "08d6b4cc-965e-44ad-bb85-6ae3a72f0a00"
      },
      "execution_count": 11,
      "outputs": [
        {
          "output_type": "stream",
          "name": "stdout",
          "text": [
            "[[0.17639218 0.53991171 0.50992253]\n",
            " [0.34634418 0.960957   0.32467127]\n",
            " [0.49564997 0.99266717 0.18840425]]\n",
            "int64\n"
          ]
        }
      ]
    },
    {
      "cell_type": "code",
      "source": [
        "# Pseudo-random numbers\n",
        "np.random.seed(seed=0)\n",
        "random_array_1 = np.random.randint(10, size=(3,3))\n",
        "print(random_array_1)\n",
        "print(random_array_1.shape)"
      ],
      "metadata": {
        "colab": {
          "base_uri": "https://localhost:8080/"
        },
        "id": "P4RhfBxYoHSW",
        "outputId": "31a6f28b-7556-462f-a3cd-3ab5d9b82e2d"
      },
      "execution_count": 12,
      "outputs": [
        {
          "output_type": "stream",
          "name": "stdout",
          "text": [
            "[[5 0 3]\n",
            " [3 7 9]\n",
            " [3 5 2]]\n",
            "(3, 3)\n"
          ]
        }
      ]
    },
    {
      "cell_type": "code",
      "source": [
        "np.random.seed(seed=7)\n",
        "random_array_2 = np.random.random((3,3))\n",
        "print(random_array_2)\n",
        "print(random_array_2.shape)"
      ],
      "metadata": {
        "colab": {
          "base_uri": "https://localhost:8080/"
        },
        "id": "kWTWCKIPrWNv",
        "outputId": "a0ae9b7b-f0db-4a8a-cbe4-1f54dd5fe735"
      },
      "execution_count": 13,
      "outputs": [
        {
          "output_type": "stream",
          "name": "stdout",
          "text": [
            "[[0.07630829 0.77991879 0.43840923]\n",
            " [0.72346518 0.97798951 0.53849587]\n",
            " [0.50112046 0.07205113 0.26843898]]\n",
            "(3, 3)\n"
          ]
        }
      ]
    },
    {
      "cell_type": "markdown",
      "source": [
        "## 3. Viewing Arrays and Matrices"
      ],
      "metadata": {
        "id": "SJ18zcMQsZx5"
      }
    },
    {
      "cell_type": "code",
      "source": [
        "random_array_3 = np.unique(random_array_1)\n",
        "print(random_array_3)"
      ],
      "metadata": {
        "id": "uebPUltcsdYZ",
        "colab": {
          "base_uri": "https://localhost:8080/"
        },
        "outputId": "65044680-df04-4822-ff4f-7aeeed49fbef"
      },
      "execution_count": 14,
      "outputs": [
        {
          "output_type": "stream",
          "name": "stdout",
          "text": [
            "[0 2 3 5 7 9]\n"
          ]
        }
      ]
    },
    {
      "cell_type": "code",
      "source": [
        "random_array_4 = np.random.randint(10, size = (2,3,4,5))\n",
        "print(random_array_4)\n",
        "print(random_array_4.shape)\n",
        "print(random_array_4.ndim)"
      ],
      "metadata": {
        "colab": {
          "base_uri": "https://localhost:8080/"
        },
        "id": "jHIZtG3jnB9C",
        "outputId": "5ed80ada-ac91-40ce-ef41-59485905ac07"
      },
      "execution_count": 15,
      "outputs": [
        {
          "output_type": "stream",
          "name": "stdout",
          "text": [
            "[[[[7 6 4 0 7]\n",
            "   [0 7 6 3 5]\n",
            "   [8 8 7 5 0]\n",
            "   [0 2 8 9 6]]\n",
            "\n",
            "  [[4 9 7 3 3]\n",
            "   [8 3 0 1 0]\n",
            "   [0 6 7 7 9]\n",
            "   [3 0 7 7 7]]\n",
            "\n",
            "  [[0 5 4 3 1]\n",
            "   [3 1 3 4 3]\n",
            "   [1 9 5 9 1]\n",
            "   [2 3 2 2 5]]]\n",
            "\n",
            "\n",
            " [[[7 3 0 9 9]\n",
            "   [3 4 5 3 0]\n",
            "   [4 8 6 7 2]\n",
            "   [7 3 8 6 6]]\n",
            "\n",
            "  [[5 6 5 7 1]\n",
            "   [5 4 4 9 9]\n",
            "   [0 6 2 6 8]\n",
            "   [2 4 1 6 1]]\n",
            "\n",
            "  [[5 1 6 9 8]\n",
            "   [6 5 9 7 5]\n",
            "   [4 9 6 8 1]\n",
            "   [5 5 8 3 7]]]]\n",
            "(2, 3, 4, 5)\n",
            "4\n"
          ]
        }
      ]
    },
    {
      "cell_type": "code",
      "source": [
        "# Get the first 4 numbers of the inner most arrays\n",
        "print(random_array_4[:, :, :, :1])"
      ],
      "metadata": {
        "colab": {
          "base_uri": "https://localhost:8080/"
        },
        "id": "7_KXge7UntFZ",
        "outputId": "03542312-5b00-4eb6-f2d8-1f9c1b0756ac"
      },
      "execution_count": 16,
      "outputs": [
        {
          "output_type": "stream",
          "name": "stdout",
          "text": [
            "[[[[7]\n",
            "   [0]\n",
            "   [8]\n",
            "   [0]]\n",
            "\n",
            "  [[4]\n",
            "   [8]\n",
            "   [0]\n",
            "   [3]]\n",
            "\n",
            "  [[0]\n",
            "   [3]\n",
            "   [1]\n",
            "   [2]]]\n",
            "\n",
            "\n",
            " [[[7]\n",
            "   [3]\n",
            "   [4]\n",
            "   [7]]\n",
            "\n",
            "  [[5]\n",
            "   [5]\n",
            "   [0]\n",
            "   [2]]\n",
            "\n",
            "  [[5]\n",
            "   [6]\n",
            "   [4]\n",
            "   [5]]]]\n"
          ]
        }
      ]
    },
    {
      "cell_type": "markdown",
      "source": [
        "## 4. Manipulating & comparing arrays"
      ],
      "metadata": {
        "id": "YlB-FUfAoFHe"
      }
    },
    {
      "cell_type": "markdown",
      "source": [
        "### Arithmetic"
      ],
      "metadata": {
        "id": "YSGfKxA6oJ--"
      }
    },
    {
      "cell_type": "code",
      "source": [
        "a1 = np.array([1,2,3])\n",
        "print(a1)"
      ],
      "metadata": {
        "colab": {
          "base_uri": "https://localhost:8080/"
        },
        "id": "indLY0mUoLtY",
        "outputId": "259f9372-0673-43b8-c868-b544a428d0f0"
      },
      "execution_count": 17,
      "outputs": [
        {
          "output_type": "stream",
          "name": "stdout",
          "text": [
            "[1 2 3]\n"
          ]
        }
      ]
    },
    {
      "cell_type": "code",
      "source": [
        "ones = np.ones(3)\n",
        "print(ones)"
      ],
      "metadata": {
        "colab": {
          "base_uri": "https://localhost:8080/"
        },
        "id": "By7QZZuvoaed",
        "outputId": "fc7447ef-a52b-4032-8f5f-869e78e381ed"
      },
      "execution_count": 18,
      "outputs": [
        {
          "output_type": "stream",
          "name": "stdout",
          "text": [
            "[1. 1. 1.]\n"
          ]
        }
      ]
    },
    {
      "cell_type": "code",
      "source": [
        "print(a1 + ones)"
      ],
      "metadata": {
        "colab": {
          "base_uri": "https://localhost:8080/"
        },
        "id": "YkY3Hv0CofCn",
        "outputId": "602f7ad3-999c-4600-f791-38c4a28b20ea"
      },
      "execution_count": 19,
      "outputs": [
        {
          "output_type": "stream",
          "name": "stdout",
          "text": [
            "[2. 3. 4.]\n"
          ]
        }
      ]
    },
    {
      "cell_type": "code",
      "source": [
        "print(a1 - ones)"
      ],
      "metadata": {
        "colab": {
          "base_uri": "https://localhost:8080/"
        },
        "id": "fSCmtnljok9y",
        "outputId": "afb19c82-66d2-48f6-8cf9-bc7e79f52ce9"
      },
      "execution_count": 20,
      "outputs": [
        {
          "output_type": "stream",
          "name": "stdout",
          "text": [
            "[0. 1. 2.]\n"
          ]
        }
      ]
    },
    {
      "cell_type": "code",
      "source": [
        "print(a1 * ones)"
      ],
      "metadata": {
        "colab": {
          "base_uri": "https://localhost:8080/"
        },
        "id": "Ik9or6_mongo",
        "outputId": "544dea44-6056-4328-d0ae-ee0f60054304"
      },
      "execution_count": 21,
      "outputs": [
        {
          "output_type": "stream",
          "name": "stdout",
          "text": [
            "[1. 2. 3.]\n"
          ]
        }
      ]
    },
    {
      "cell_type": "code",
      "source": [
        "a2 = np.array([[1,2,3.3],\n",
        "               [4,5,6.5]])\n",
        "print(a2)"
      ],
      "metadata": {
        "colab": {
          "base_uri": "https://localhost:8080/"
        },
        "id": "8i40C9hRorGn",
        "outputId": "535e5f43-3881-4267-8d79-c3ac2322cc33"
      },
      "execution_count": 22,
      "outputs": [
        {
          "output_type": "stream",
          "name": "stdout",
          "text": [
            "[[1.  2.  3.3]\n",
            " [4.  5.  6.5]]\n"
          ]
        }
      ]
    },
    {
      "cell_type": "code",
      "source": [
        "print(a1 * a2)"
      ],
      "metadata": {
        "colab": {
          "base_uri": "https://localhost:8080/"
        },
        "id": "A5L6imMjo4zx",
        "outputId": "1dd131a5-7b1c-49f5-c5fa-7d52a32ac8b1"
      },
      "execution_count": 23,
      "outputs": [
        {
          "output_type": "stream",
          "name": "stdout",
          "text": [
            "[[ 1.   4.   9.9]\n",
            " [ 4.  10.  19.5]]\n"
          ]
        }
      ]
    },
    {
      "cell_type": "code",
      "source": [
        "a3 = np.array([[[1,2,3],[4,5,6],[7,8,9]], [[10,11,12],[13,14,15],[16,17,18]]])\n",
        "print(a3)"
      ],
      "metadata": {
        "colab": {
          "base_uri": "https://localhost:8080/"
        },
        "id": "CU8sT8qlpEmG",
        "outputId": "10746812-bbf8-4efd-93d2-0c27523067ac"
      },
      "execution_count": 24,
      "outputs": [
        {
          "output_type": "stream",
          "name": "stdout",
          "text": [
            "[[[ 1  2  3]\n",
            "  [ 4  5  6]\n",
            "  [ 7  8  9]]\n",
            "\n",
            " [[10 11 12]\n",
            "  [13 14 15]\n",
            "  [16 17 18]]]\n"
          ]
        }
      ]
    },
    {
      "cell_type": "code",
      "source": [
        "# Reshaping a2 to be multiplicably compatible with a3\n",
        "a2_reshaped = a2[:, :, np.newaxis]\n",
        "print(a2_reshaped * a3)"
      ],
      "metadata": {
        "colab": {
          "base_uri": "https://localhost:8080/"
        },
        "id": "2m-3ceVhqyxQ",
        "outputId": "b327171b-deba-4f29-dcd6-94887ad17efa"
      },
      "execution_count": 25,
      "outputs": [
        {
          "output_type": "stream",
          "name": "stdout",
          "text": [
            "[[[  1.    2.    3. ]\n",
            "  [  8.   10.   12. ]\n",
            "  [ 23.1  26.4  29.7]]\n",
            "\n",
            " [[ 40.   44.   48. ]\n",
            "  [ 65.   70.   75. ]\n",
            "  [104.  110.5 117. ]]]\n"
          ]
        }
      ]
    },
    {
      "cell_type": "code",
      "source": [
        "print(a1 / ones)"
      ],
      "metadata": {
        "colab": {
          "base_uri": "https://localhost:8080/"
        },
        "id": "S-QAVCSqq9xT",
        "outputId": "f1c58aec-48b5-43a9-e037-f8cc38bd6fbd"
      },
      "execution_count": 26,
      "outputs": [
        {
          "output_type": "stream",
          "name": "stdout",
          "text": [
            "[1. 2. 3.]\n"
          ]
        }
      ]
    },
    {
      "cell_type": "code",
      "source": [
        "print(a2/a1)"
      ],
      "metadata": {
        "colab": {
          "base_uri": "https://localhost:8080/"
        },
        "id": "02UVriAIrB4t",
        "outputId": "4f9331ed-12e8-4741-caaf-53c1399b778e"
      },
      "execution_count": 27,
      "outputs": [
        {
          "output_type": "stream",
          "name": "stdout",
          "text": [
            "[[1.         1.         1.1       ]\n",
            " [4.         2.5        2.16666667]]\n"
          ]
        }
      ]
    },
    {
      "cell_type": "code",
      "source": [
        "# Floor division removes the decimals (rounds down)\n",
        "print(a2//a1)"
      ],
      "metadata": {
        "colab": {
          "base_uri": "https://localhost:8080/"
        },
        "id": "c35H1-IDrD3O",
        "outputId": "0f4bffa4-983b-477e-977b-f6fa42315984"
      },
      "execution_count": 28,
      "outputs": [
        {
          "output_type": "stream",
          "name": "stdout",
          "text": [
            "[[1. 1. 1.]\n",
            " [4. 2. 2.]]\n"
          ]
        }
      ]
    },
    {
      "cell_type": "code",
      "source": [
        "print(a2 ** 2)"
      ],
      "metadata": {
        "colab": {
          "base_uri": "https://localhost:8080/"
        },
        "id": "6GDVofvprOpg",
        "outputId": "cb643bf5-e3da-46f4-ea1a-cd2ba3c5635e"
      },
      "execution_count": 29,
      "outputs": [
        {
          "output_type": "stream",
          "name": "stdout",
          "text": [
            "[[ 1.    4.   10.89]\n",
            " [16.   25.   42.25]]\n"
          ]
        }
      ]
    },
    {
      "cell_type": "code",
      "source": [
        "np.square(a2)"
      ],
      "metadata": {
        "colab": {
          "base_uri": "https://localhost:8080/"
        },
        "id": "bKvapw44rS7P",
        "outputId": "f3b957d8-412c-4077-c1fe-4a0e12d9f177"
      },
      "execution_count": 30,
      "outputs": [
        {
          "output_type": "execute_result",
          "data": {
            "text/plain": [
              "array([[ 1.  ,  4.  , 10.89],\n",
              "       [16.  , 25.  , 42.25]])"
            ]
          },
          "metadata": {},
          "execution_count": 30
        }
      ]
    },
    {
      "cell_type": "code",
      "source": [
        "print(a1 + ones)"
      ],
      "metadata": {
        "colab": {
          "base_uri": "https://localhost:8080/"
        },
        "id": "dB9ygqICraI7",
        "outputId": "e73210c2-57d7-42c9-ba71-9ef529c7eb01"
      },
      "execution_count": 31,
      "outputs": [
        {
          "output_type": "stream",
          "name": "stdout",
          "text": [
            "[2. 3. 4.]\n"
          ]
        }
      ]
    },
    {
      "cell_type": "code",
      "source": [
        "np.add(a1, ones)"
      ],
      "metadata": {
        "colab": {
          "base_uri": "https://localhost:8080/"
        },
        "id": "LYj_aZtnrWew",
        "outputId": "63c9a912-4f69-403c-f5ed-9ff1667b1062"
      },
      "execution_count": 32,
      "outputs": [
        {
          "output_type": "execute_result",
          "data": {
            "text/plain": [
              "array([2., 3., 4.])"
            ]
          },
          "metadata": {},
          "execution_count": 32
        }
      ]
    },
    {
      "cell_type": "code",
      "source": [
        "print(a1 / 2)"
      ],
      "metadata": {
        "colab": {
          "base_uri": "https://localhost:8080/"
        },
        "id": "BhguMmVurfp5",
        "outputId": "39268290-7cbf-4841-dd81-16d4b6f6522f"
      },
      "execution_count": 33,
      "outputs": [
        {
          "output_type": "stream",
          "name": "stdout",
          "text": [
            "[0.5 1.  1.5]\n"
          ]
        }
      ]
    },
    {
      "cell_type": "code",
      "source": [
        "print(a2 % 2)"
      ],
      "metadata": {
        "colab": {
          "base_uri": "https://localhost:8080/"
        },
        "id": "vRMra6zSrj4_",
        "outputId": "0945b9f5-da30-4994-f053-6dba8ce406e3"
      },
      "execution_count": 34,
      "outputs": [
        {
          "output_type": "stream",
          "name": "stdout",
          "text": [
            "[[1.  0.  1.3]\n",
            " [0.  1.  0.5]]\n"
          ]
        }
      ]
    },
    {
      "cell_type": "code",
      "source": [
        "print(np.exp(a1))"
      ],
      "metadata": {
        "colab": {
          "base_uri": "https://localhost:8080/"
        },
        "id": "Qm1tD3HNrocM",
        "outputId": "ce7dec21-115b-4451-b0d2-0254072c4071"
      },
      "execution_count": 35,
      "outputs": [
        {
          "output_type": "stream",
          "name": "stdout",
          "text": [
            "[ 2.71828183  7.3890561  20.08553692]\n"
          ]
        }
      ]
    },
    {
      "cell_type": "code",
      "source": [
        "print(np.log(a1))"
      ],
      "metadata": {
        "colab": {
          "base_uri": "https://localhost:8080/"
        },
        "id": "Fe0LeX9srrlF",
        "outputId": "b59dabcc-c68b-4122-af9a-61b078ae161d"
      },
      "execution_count": 36,
      "outputs": [
        {
          "output_type": "stream",
          "name": "stdout",
          "text": [
            "[0.         0.69314718 1.09861229]\n"
          ]
        }
      ]
    },
    {
      "cell_type": "markdown",
      "source": [
        "### Aggregation\n",
        "Aggregation = Performing the same operation on a number of things"
      ],
      "metadata": {
        "id": "N5is1iH4tJi5"
      }
    },
    {
      "cell_type": "code",
      "source": [
        "listy_list = [1,2,3]\n",
        "type(listy_list)"
      ],
      "metadata": {
        "colab": {
          "base_uri": "https://localhost:8080/"
        },
        "id": "D3x_RRLzt3wM",
        "outputId": "0da4c084-e2a2-4dfc-a256-2cf9328f036d"
      },
      "execution_count": 37,
      "outputs": [
        {
          "output_type": "execute_result",
          "data": {
            "text/plain": [
              "list"
            ]
          },
          "metadata": {},
          "execution_count": 37
        }
      ]
    },
    {
      "cell_type": "code",
      "source": [
        "sum(listy_list)"
      ],
      "metadata": {
        "colab": {
          "base_uri": "https://localhost:8080/"
        },
        "id": "831OAJozt8gE",
        "outputId": "b0177c4e-791a-45b0-d2cc-73de683c0d97"
      },
      "execution_count": 38,
      "outputs": [
        {
          "output_type": "execute_result",
          "data": {
            "text/plain": [
              "6"
            ]
          },
          "metadata": {},
          "execution_count": 38
        }
      ]
    },
    {
      "cell_type": "code",
      "source": [
        "sum(a1)"
      ],
      "metadata": {
        "colab": {
          "base_uri": "https://localhost:8080/"
        },
        "id": "xF2bo1M-t_MJ",
        "outputId": "9c2e7428-27bd-477d-d8ec-f238ba6a84ea"
      },
      "execution_count": 39,
      "outputs": [
        {
          "output_type": "execute_result",
          "data": {
            "text/plain": [
              "6"
            ]
          },
          "metadata": {},
          "execution_count": 39
        }
      ]
    },
    {
      "cell_type": "code",
      "source": [
        "np.sum(a1)"
      ],
      "metadata": {
        "colab": {
          "base_uri": "https://localhost:8080/"
        },
        "id": "A6v8y7pbuByc",
        "outputId": "cd47a8ec-f316-431e-f193-d826ec08ffdc"
      },
      "execution_count": 40,
      "outputs": [
        {
          "output_type": "execute_result",
          "data": {
            "text/plain": [
              "6"
            ]
          },
          "metadata": {},
          "execution_count": 40
        }
      ]
    },
    {
      "cell_type": "markdown",
      "source": [
        "Use Python's methods (`sum()`) on Python datatypes and use Numpy's methods on Numpy arrays (`np.sum()`)."
      ],
      "metadata": {
        "id": "nQ8DhB2JuMbB"
      }
    },
    {
      "cell_type": "code",
      "source": [
        "# Creating a massive NumPy array\n",
        "massive_array = np.random.random(100000)\n",
        "print(massive_array.size)\n",
        "print(massive_array[:10])"
      ],
      "metadata": {
        "colab": {
          "base_uri": "https://localhost:8080/"
        },
        "id": "K-1FwU7QuY5L",
        "outputId": "b3355b8c-b33b-4375-9349-d91df7a98661"
      },
      "execution_count": 41,
      "outputs": [
        {
          "output_type": "stream",
          "name": "stdout",
          "text": [
            "100000\n",
            "[0.75778036 0.513401   0.17842575 0.39200156 0.93959276 0.21291858\n",
            " 0.81329627 0.40364858 0.58672092 0.18599889]\n"
          ]
        }
      ]
    },
    {
      "cell_type": "code",
      "source": [
        "%timeit sum(massive_array) # Python's sum()\n",
        "%timeit np.sum(massive_array) # NumPy's sum()"
      ],
      "metadata": {
        "colab": {
          "base_uri": "https://localhost:8080/"
        },
        "id": "m19krvpLuo--",
        "outputId": "3b9e21b3-8f01-4628-bec2-bc3dcb0f5399"
      },
      "execution_count": 42,
      "outputs": [
        {
          "output_type": "stream",
          "name": "stdout",
          "text": [
            "9.9 ms ± 169 µs per loop (mean ± std. dev. of 7 runs, 100 loops each)\n",
            "60.1 µs ± 16.8 µs per loop (mean ± std. dev. of 7 runs, 10000 loops each)\n"
          ]
        }
      ]
    },
    {
      "cell_type": "code",
      "source": [
        "print(np.mean(a2))"
      ],
      "metadata": {
        "colab": {
          "base_uri": "https://localhost:8080/"
        },
        "id": "l-GBGOuPvdYD",
        "outputId": "54770237-3dca-4e27-d6a5-37d5a15c1be2"
      },
      "execution_count": 43,
      "outputs": [
        {
          "output_type": "stream",
          "name": "stdout",
          "text": [
            "3.6333333333333333\n"
          ]
        }
      ]
    },
    {
      "cell_type": "code",
      "source": [
        "print(np.max(a2))"
      ],
      "metadata": {
        "colab": {
          "base_uri": "https://localhost:8080/"
        },
        "id": "L2T7ICAbvggP",
        "outputId": "6e5771bd-83ea-4ad4-d2c3-60aa198e3b95"
      },
      "execution_count": 44,
      "outputs": [
        {
          "output_type": "stream",
          "name": "stdout",
          "text": [
            "6.5\n"
          ]
        }
      ]
    },
    {
      "cell_type": "code",
      "source": [
        "print(np.min(a2))"
      ],
      "metadata": {
        "colab": {
          "base_uri": "https://localhost:8080/"
        },
        "id": "HHG1MEwRvijr",
        "outputId": "46e869c7-9837-4d66-da85-ebdca17a5aaa"
      },
      "execution_count": 45,
      "outputs": [
        {
          "output_type": "stream",
          "name": "stdout",
          "text": [
            "1.0\n"
          ]
        }
      ]
    },
    {
      "cell_type": "markdown",
      "source": [
        "**Standard deviation** and **variance** are measures of 'spread' of data.\n",
        "\n",
        "The higher standard deviation and the higher variance of data, the more spread out the values are.\n",
        "\n",
        "The lower standard deviation and lower variance, the less spread out the values are."
      ],
      "metadata": {
        "id": "EbPAwyPrwqQI"
      }
    },
    {
      "cell_type": "code",
      "source": [
        "# Standard deviation = a measure of how spread out a group of numbers is from the mean\n",
        "np.std(a2)"
      ],
      "metadata": {
        "colab": {
          "base_uri": "https://localhost:8080/"
        },
        "id": "12aG97o2wvcD",
        "outputId": "50229844-49c1-452f-f752-bea7634747ca"
      },
      "execution_count": 46,
      "outputs": [
        {
          "output_type": "execute_result",
          "data": {
            "text/plain": [
              "1.8226964152656422"
            ]
          },
          "metadata": {},
          "execution_count": 46
        }
      ]
    },
    {
      "cell_type": "code",
      "source": [
        "# Variance = measure of the average degree to which each number is different to the mean\n",
        "# Higher variance = wider range of numbers\n",
        "# Lower variance = lower range of numbers\n",
        "np.var(a2)"
      ],
      "metadata": {
        "colab": {
          "base_uri": "https://localhost:8080/"
        },
        "id": "1lhuvS-Xwyh2",
        "outputId": "437a6c50-cb93-4c2e-9d7f-00c265d324ee"
      },
      "execution_count": 47,
      "outputs": [
        {
          "output_type": "execute_result",
          "data": {
            "text/plain": [
              "3.3222222222222224"
            ]
          },
          "metadata": {},
          "execution_count": 47
        }
      ]
    },
    {
      "cell_type": "code",
      "source": [
        "# Standard deviation = squareroot of variance\n",
        "np.sqrt(np.var(a2))"
      ],
      "metadata": {
        "colab": {
          "base_uri": "https://localhost:8080/"
        },
        "id": "4tYzbmvfw0ZV",
        "outputId": "52dcd0cd-ed8e-45a2-c67c-7a0a755cc4f4"
      },
      "execution_count": 48,
      "outputs": [
        {
          "output_type": "execute_result",
          "data": {
            "text/plain": [
              "1.8226964152656422"
            ]
          },
          "metadata": {},
          "execution_count": 48
        }
      ]
    },
    {
      "cell_type": "code",
      "source": [
        "# Demo of std and var\n",
        "high_var_array = np.array([1, 100, 200, 300, 4000, 5000])\n",
        "low_var_array = np.array([2, 4, 6, 8, 10])"
      ],
      "metadata": {
        "id": "-n0uhC9xw2Z4"
      },
      "execution_count": 49,
      "outputs": []
    },
    {
      "cell_type": "code",
      "source": [
        "np.var(high_var_array), np.var(low_var_array)"
      ],
      "metadata": {
        "colab": {
          "base_uri": "https://localhost:8080/"
        },
        "id": "jbZ2y4Bmw5Xy",
        "outputId": "7ae09d22-9a2f-4728-91a2-bf77530aaadb"
      },
      "execution_count": 50,
      "outputs": [
        {
          "output_type": "execute_result",
          "data": {
            "text/plain": [
              "(4296133.472222221, 8.0)"
            ]
          },
          "metadata": {},
          "execution_count": 50
        }
      ]
    },
    {
      "cell_type": "code",
      "source": [
        "np.std(high_var_array), np.std(low_var_array)"
      ],
      "metadata": {
        "colab": {
          "base_uri": "https://localhost:8080/"
        },
        "id": "F94xueujw618",
        "outputId": "cd63f647-77a7-4b18-998f-a3f9a1dea0e5"
      },
      "execution_count": 51,
      "outputs": [
        {
          "output_type": "execute_result",
          "data": {
            "text/plain": [
              "(2072.711623024829, 2.8284271247461903)"
            ]
          },
          "metadata": {},
          "execution_count": 51
        }
      ]
    },
    {
      "cell_type": "code",
      "source": [
        "np.mean(high_var_array), np.mean(low_var_array)"
      ],
      "metadata": {
        "colab": {
          "base_uri": "https://localhost:8080/"
        },
        "id": "GAdrb-d4w8km",
        "outputId": "33ff00f5-173d-4c87-867c-3a3b1463ffdb"
      },
      "execution_count": 52,
      "outputs": [
        {
          "output_type": "execute_result",
          "data": {
            "text/plain": [
              "(1600.1666666666667, 6.0)"
            ]
          },
          "metadata": {},
          "execution_count": 52
        }
      ]
    }
  ]
}