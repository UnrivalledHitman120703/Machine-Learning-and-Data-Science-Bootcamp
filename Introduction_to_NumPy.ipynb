{
  "nbformat": 4,
  "nbformat_minor": 0,
  "metadata": {
    "colab": {
      "provenance": [],
      "authorship_tag": "ABX9TyORfF8fpebQPnFx9ohlsyTA"
    },
    "kernelspec": {
      "name": "python3",
      "display_name": "Python 3"
    },
    "language_info": {
      "name": "python"
    }
  },
  "cells": [
    {
      "cell_type": "code",
      "execution_count": 1,
      "metadata": {
        "id": "IbluRr0spGn1"
      },
      "outputs": [],
      "source": [
        "%matplotlib inline\n",
        "import numpy as np\n",
        "import pandas as pd\n",
        "import matplotlib.pyplot as plt"
      ]
    },
    {
      "cell_type": "markdown",
      "source": [
        "## 1. DataTypes & Attributes"
      ],
      "metadata": {
        "id": "UZJ1NMfNprcO"
      }
    },
    {
      "cell_type": "code",
      "source": [
        "# NumPy's main datatype is ndarray\n",
        "# shape: returns number of elements in each dimension\n",
        "# ndim: returns number of array dimensions\n",
        "# dtype: returns data type of the NumPy array\n",
        "# size: returns the number of elements in the array\n",
        "\n",
        "a1 = np.array([1,2,3])\n",
        "print(a1)\n",
        "print(type(a1))\n",
        "print(a1.shape)\n",
        "print(a1.ndim)\n",
        "print(a1.dtype)\n",
        "print(a1.size)"
      ],
      "metadata": {
        "colab": {
          "base_uri": "https://localhost:8080/"
        },
        "id": "a9xcRMjipq8_",
        "outputId": "c969d786-eb97-4a6b-dbe2-4c2bea9282b8"
      },
      "execution_count": 2,
      "outputs": [
        {
          "output_type": "stream",
          "name": "stdout",
          "text": [
            "[1 2 3]\n",
            "<class 'numpy.ndarray'>\n",
            "(3,)\n",
            "1\n",
            "int64\n",
            "3\n"
          ]
        }
      ]
    },
    {
      "cell_type": "code",
      "source": [
        "a2 = np.array([[1,2,3], [4,5,6]])\n",
        "print(a2)\n",
        "print(type(a2))\n",
        "print(a2.shape)\n",
        "print(a2.ndim)\n",
        "print(a2.dtype)\n",
        "print(a2.size)"
      ],
      "metadata": {
        "colab": {
          "base_uri": "https://localhost:8080/"
        },
        "id": "mKEJRj2mqD0Y",
        "outputId": "97adb9ef-272f-47e0-adaf-c4d7ae7702a5"
      },
      "execution_count": 3,
      "outputs": [
        {
          "output_type": "stream",
          "name": "stdout",
          "text": [
            "[[1 2 3]\n",
            " [4 5 6]]\n",
            "<class 'numpy.ndarray'>\n",
            "(2, 3)\n",
            "2\n",
            "int64\n",
            "6\n"
          ]
        }
      ]
    },
    {
      "cell_type": "code",
      "source": [
        "a3 = np.array([[[1,2,3], [4,5,6], [7,8,9]],\n",
        " [[10,11,12],[13,14,15],[16,17,18]],\n",
        "               [[19,20,21],[22,23,24],[25,26,27]]])\n",
        "print(a3)\n",
        "print(type(a3))\n",
        "print(a3.shape)\n",
        "print(a3.ndim)\n",
        "print(a3.dtype)\n",
        "print(a3.size)"
      ],
      "metadata": {
        "colab": {
          "base_uri": "https://localhost:8080/"
        },
        "id": "Xm0lBTj8qX6_",
        "outputId": "29379cdf-d437-43e0-ddd2-45087003ac05"
      },
      "execution_count": 4,
      "outputs": [
        {
          "output_type": "stream",
          "name": "stdout",
          "text": [
            "[[[ 1  2  3]\n",
            "  [ 4  5  6]\n",
            "  [ 7  8  9]]\n",
            "\n",
            " [[10 11 12]\n",
            "  [13 14 15]\n",
            "  [16 17 18]]\n",
            "\n",
            " [[19 20 21]\n",
            "  [22 23 24]\n",
            "  [25 26 27]]]\n",
            "<class 'numpy.ndarray'>\n",
            "(3, 3, 3)\n",
            "3\n",
            "int64\n",
            "27\n"
          ]
        }
      ]
    },
    {
      "cell_type": "code",
      "source": [
        "# Create DataFrames from NumPy arrays\n",
        "# DataFrame is a 2D data structure\n",
        "df = pd.DataFrame(a2)\n",
        "print(df)"
      ],
      "metadata": {
        "colab": {
          "base_uri": "https://localhost:8080/"
        },
        "id": "kK4skQkj2sJu",
        "outputId": "8ecd72a3-98ff-48ca-ff67-7577355ccd4c"
      },
      "execution_count": 5,
      "outputs": [
        {
          "output_type": "stream",
          "name": "stdout",
          "text": [
            "   0  1  2\n",
            "0  1  2  3\n",
            "1  4  5  6\n"
          ]
        }
      ]
    },
    {
      "cell_type": "markdown",
      "source": [
        "## 2. Creating arrays"
      ],
      "metadata": {
        "id": "L8H2WYqNDYPi"
      }
    },
    {
      "cell_type": "code",
      "source": [
        "sample_array = np.array([1,2,3])\n",
        "print(sample_array)\n",
        "print(sample_array.dtype)"
      ],
      "metadata": {
        "colab": {
          "base_uri": "https://localhost:8080/"
        },
        "id": "ZWQwqEYfDXf2",
        "outputId": "dd0ec6b2-2b91-4c1c-870f-fffb7ab60274"
      },
      "execution_count": 6,
      "outputs": [
        {
          "output_type": "stream",
          "name": "stdout",
          "text": [
            "[1 2 3]\n",
            "int64\n"
          ]
        }
      ]
    },
    {
      "cell_type": "code",
      "source": [
        "ones = np.ones((3,3))\n",
        "print(ones)\n",
        "print(ones.dtype)"
      ],
      "metadata": {
        "colab": {
          "base_uri": "https://localhost:8080/"
        },
        "id": "6pGwTvo9EAN9",
        "outputId": "29c2d50b-904e-4ea3-c560-642f296750b4"
      },
      "execution_count": 7,
      "outputs": [
        {
          "output_type": "stream",
          "name": "stdout",
          "text": [
            "[[1. 1. 1.]\n",
            " [1. 1. 1.]\n",
            " [1. 1. 1.]]\n",
            "float64\n"
          ]
        }
      ]
    },
    {
      "cell_type": "code",
      "source": [
        "zeros = np.zeros((3,3))\n",
        "print(zeros)\n",
        "print(zeros.dtype)"
      ],
      "metadata": {
        "colab": {
          "base_uri": "https://localhost:8080/"
        },
        "id": "XO3KvlbVEOjN",
        "outputId": "7f5dca7d-500f-4154-b314-a5b6a60a2b05"
      },
      "execution_count": 8,
      "outputs": [
        {
          "output_type": "stream",
          "name": "stdout",
          "text": [
            "[[0. 0. 0.]\n",
            " [0. 0. 0.]\n",
            " [0. 0. 0.]]\n",
            "float64\n"
          ]
        }
      ]
    },
    {
      "cell_type": "code",
      "source": [
        "range_array = np.arange(0, 10, 2)\n",
        "print(range_array)\n",
        "print(range_array.dtype)"
      ],
      "metadata": {
        "colab": {
          "base_uri": "https://localhost:8080/"
        },
        "id": "OnZXRNtCEcCu",
        "outputId": "84521952-65ec-45b2-8a61-9051f35fd974"
      },
      "execution_count": 9,
      "outputs": [
        {
          "output_type": "stream",
          "name": "stdout",
          "text": [
            "[0 2 4 6 8]\n",
            "int64\n"
          ]
        }
      ]
    },
    {
      "cell_type": "code",
      "source": [
        "random_array = np.random.randint(0, 10, size = (3,3))\n",
        "print(random_array)\n",
        "print(range_array.dtype)"
      ],
      "metadata": {
        "colab": {
          "base_uri": "https://localhost:8080/"
        },
        "id": "4exmyctuEte6",
        "outputId": "445399a9-ae7b-465c-efea-1f97fac79c75"
      },
      "execution_count": 10,
      "outputs": [
        {
          "output_type": "stream",
          "name": "stdout",
          "text": [
            "[[1 2 4]\n",
            " [6 6 8]\n",
            " [1 1 3]]\n",
            "int64\n"
          ]
        }
      ]
    },
    {
      "cell_type": "code",
      "source": [
        "random_array_rand = np.random.rand(3,3)\n",
        "print(random_array_rand)\n",
        "print(range_array.dtype)"
      ],
      "metadata": {
        "colab": {
          "base_uri": "https://localhost:8080/"
        },
        "id": "PdYQ2VE4nQrT",
        "outputId": "b5dd373f-d231-4167-d1c7-acbbe7383ebd"
      },
      "execution_count": 11,
      "outputs": [
        {
          "output_type": "stream",
          "name": "stdout",
          "text": [
            "[[0.61561019 0.45455938 0.76191484]\n",
            " [0.33494211 0.60963492 0.33807729]\n",
            " [0.08959258 0.51139477 0.27382009]]\n",
            "int64\n"
          ]
        }
      ]
    },
    {
      "cell_type": "code",
      "source": [
        "# Pseudo-random numbers\n",
        "np.random.seed(seed=0)\n",
        "random_array_1 = np.random.randint(10, size=(3,3))\n",
        "print(random_array_1)\n",
        "print(random_array_1.shape)"
      ],
      "metadata": {
        "colab": {
          "base_uri": "https://localhost:8080/"
        },
        "id": "P4RhfBxYoHSW",
        "outputId": "70bca531-ef36-4cfe-d349-2e087c6654b9"
      },
      "execution_count": 12,
      "outputs": [
        {
          "output_type": "stream",
          "name": "stdout",
          "text": [
            "[[5 0 3]\n",
            " [3 7 9]\n",
            " [3 5 2]]\n",
            "(3, 3)\n"
          ]
        }
      ]
    },
    {
      "cell_type": "code",
      "source": [
        "np.random.seed(seed=7)\n",
        "random_array_2 = np.random.random((3,3))\n",
        "print(random_array_2)\n",
        "print(random_array_2.shape)"
      ],
      "metadata": {
        "colab": {
          "base_uri": "https://localhost:8080/"
        },
        "id": "kWTWCKIPrWNv",
        "outputId": "8fae87df-c10d-4fd0-be2e-3654797ac142"
      },
      "execution_count": 13,
      "outputs": [
        {
          "output_type": "stream",
          "name": "stdout",
          "text": [
            "[[0.07630829 0.77991879 0.43840923]\n",
            " [0.72346518 0.97798951 0.53849587]\n",
            " [0.50112046 0.07205113 0.26843898]]\n",
            "(3, 3)\n"
          ]
        }
      ]
    },
    {
      "cell_type": "markdown",
      "source": [
        "## 3. Viewing Arrays and Matrices"
      ],
      "metadata": {
        "id": "SJ18zcMQsZx5"
      }
    },
    {
      "cell_type": "code",
      "source": [
        "random_array_3 = np.unique(random_array_1)\n",
        "print(random_array_3)"
      ],
      "metadata": {
        "id": "uebPUltcsdYZ",
        "colab": {
          "base_uri": "https://localhost:8080/"
        },
        "outputId": "81f4bed2-9322-44be-cd77-8dc0b6ff69eb"
      },
      "execution_count": 14,
      "outputs": [
        {
          "output_type": "stream",
          "name": "stdout",
          "text": [
            "[0 2 3 5 7 9]\n"
          ]
        }
      ]
    },
    {
      "cell_type": "code",
      "source": [
        "random_array_4 = np.random.randint(10, size = (2,3,4,5))\n",
        "print(random_array_4)\n",
        "print(random_array_4.shape)\n",
        "print(random_array_4.ndim)"
      ],
      "metadata": {
        "colab": {
          "base_uri": "https://localhost:8080/"
        },
        "id": "jHIZtG3jnB9C",
        "outputId": "ba927548-fec9-47f1-d327-e61ad9e6ec1c"
      },
      "execution_count": 15,
      "outputs": [
        {
          "output_type": "stream",
          "name": "stdout",
          "text": [
            "[[[[7 6 4 0 7]\n",
            "   [0 7 6 3 5]\n",
            "   [8 8 7 5 0]\n",
            "   [0 2 8 9 6]]\n",
            "\n",
            "  [[4 9 7 3 3]\n",
            "   [8 3 0 1 0]\n",
            "   [0 6 7 7 9]\n",
            "   [3 0 7 7 7]]\n",
            "\n",
            "  [[0 5 4 3 1]\n",
            "   [3 1 3 4 3]\n",
            "   [1 9 5 9 1]\n",
            "   [2 3 2 2 5]]]\n",
            "\n",
            "\n",
            " [[[7 3 0 9 9]\n",
            "   [3 4 5 3 0]\n",
            "   [4 8 6 7 2]\n",
            "   [7 3 8 6 6]]\n",
            "\n",
            "  [[5 6 5 7 1]\n",
            "   [5 4 4 9 9]\n",
            "   [0 6 2 6 8]\n",
            "   [2 4 1 6 1]]\n",
            "\n",
            "  [[5 1 6 9 8]\n",
            "   [6 5 9 7 5]\n",
            "   [4 9 6 8 1]\n",
            "   [5 5 8 3 7]]]]\n",
            "(2, 3, 4, 5)\n",
            "4\n"
          ]
        }
      ]
    },
    {
      "cell_type": "code",
      "source": [
        "# Get the first 4 numbers of the inner most arrays\n",
        "print(random_array_4[:, :, :, :1])"
      ],
      "metadata": {
        "colab": {
          "base_uri": "https://localhost:8080/"
        },
        "id": "7_KXge7UntFZ",
        "outputId": "7763a542-ec66-4026-dead-1888a1dbe38c"
      },
      "execution_count": 16,
      "outputs": [
        {
          "output_type": "stream",
          "name": "stdout",
          "text": [
            "[[[[7]\n",
            "   [0]\n",
            "   [8]\n",
            "   [0]]\n",
            "\n",
            "  [[4]\n",
            "   [8]\n",
            "   [0]\n",
            "   [3]]\n",
            "\n",
            "  [[0]\n",
            "   [3]\n",
            "   [1]\n",
            "   [2]]]\n",
            "\n",
            "\n",
            " [[[7]\n",
            "   [3]\n",
            "   [4]\n",
            "   [7]]\n",
            "\n",
            "  [[5]\n",
            "   [5]\n",
            "   [0]\n",
            "   [2]]\n",
            "\n",
            "  [[5]\n",
            "   [6]\n",
            "   [4]\n",
            "   [5]]]]\n"
          ]
        }
      ]
    },
    {
      "cell_type": "markdown",
      "source": [
        "## 4. Manipulating & comparing arrays"
      ],
      "metadata": {
        "id": "YlB-FUfAoFHe"
      }
    },
    {
      "cell_type": "markdown",
      "source": [
        "### Arithmetic"
      ],
      "metadata": {
        "id": "YSGfKxA6oJ--"
      }
    },
    {
      "cell_type": "code",
      "source": [
        "a1 = np.array([1,2,3])\n",
        "print(a1)"
      ],
      "metadata": {
        "colab": {
          "base_uri": "https://localhost:8080/"
        },
        "id": "indLY0mUoLtY",
        "outputId": "05972dcb-190b-49be-b3f1-13b057c91b79"
      },
      "execution_count": 17,
      "outputs": [
        {
          "output_type": "stream",
          "name": "stdout",
          "text": [
            "[1 2 3]\n"
          ]
        }
      ]
    },
    {
      "cell_type": "code",
      "source": [
        "ones = np.ones(3)\n",
        "print(ones)"
      ],
      "metadata": {
        "colab": {
          "base_uri": "https://localhost:8080/"
        },
        "id": "By7QZZuvoaed",
        "outputId": "b60a648c-3912-4d69-e20a-2c1df1c76116"
      },
      "execution_count": 18,
      "outputs": [
        {
          "output_type": "stream",
          "name": "stdout",
          "text": [
            "[1. 1. 1.]\n"
          ]
        }
      ]
    },
    {
      "cell_type": "code",
      "source": [
        "print(a1 + ones)"
      ],
      "metadata": {
        "colab": {
          "base_uri": "https://localhost:8080/"
        },
        "id": "YkY3Hv0CofCn",
        "outputId": "f1fe9734-322b-4d76-e7a4-0e757fa2b438"
      },
      "execution_count": 19,
      "outputs": [
        {
          "output_type": "stream",
          "name": "stdout",
          "text": [
            "[2. 3. 4.]\n"
          ]
        }
      ]
    },
    {
      "cell_type": "code",
      "source": [
        "print(a1 - ones)"
      ],
      "metadata": {
        "colab": {
          "base_uri": "https://localhost:8080/"
        },
        "id": "fSCmtnljok9y",
        "outputId": "18eb8d79-f9d0-4ae5-f950-737dc31b0077"
      },
      "execution_count": 20,
      "outputs": [
        {
          "output_type": "stream",
          "name": "stdout",
          "text": [
            "[0. 1. 2.]\n"
          ]
        }
      ]
    },
    {
      "cell_type": "code",
      "source": [
        "print(a1 * ones)"
      ],
      "metadata": {
        "colab": {
          "base_uri": "https://localhost:8080/"
        },
        "id": "Ik9or6_mongo",
        "outputId": "e5f6dd4f-c921-4392-e4dd-fcf4deda308a"
      },
      "execution_count": 21,
      "outputs": [
        {
          "output_type": "stream",
          "name": "stdout",
          "text": [
            "[1. 2. 3.]\n"
          ]
        }
      ]
    },
    {
      "cell_type": "code",
      "source": [
        "a2 = np.array([[1,2,3.3],\n",
        "               [4,5,6.5]])\n",
        "print(a2)"
      ],
      "metadata": {
        "colab": {
          "base_uri": "https://localhost:8080/"
        },
        "id": "8i40C9hRorGn",
        "outputId": "9ddd91e2-4294-4ef2-ffef-ef753d174c02"
      },
      "execution_count": 22,
      "outputs": [
        {
          "output_type": "stream",
          "name": "stdout",
          "text": [
            "[[1.  2.  3.3]\n",
            " [4.  5.  6.5]]\n"
          ]
        }
      ]
    },
    {
      "cell_type": "code",
      "source": [
        "print(a1 * a2)"
      ],
      "metadata": {
        "colab": {
          "base_uri": "https://localhost:8080/"
        },
        "id": "A5L6imMjo4zx",
        "outputId": "2d1e3c75-dc76-40c7-c8e3-1c97ce912280"
      },
      "execution_count": 23,
      "outputs": [
        {
          "output_type": "stream",
          "name": "stdout",
          "text": [
            "[[ 1.   4.   9.9]\n",
            " [ 4.  10.  19.5]]\n"
          ]
        }
      ]
    },
    {
      "cell_type": "code",
      "source": [
        "a3 = np.array([[[1,2,3],[4,5,6],[7,8,9]], [[10,11,12],[13,14,15],[16,17,18]]])\n",
        "print(a3)"
      ],
      "metadata": {
        "colab": {
          "base_uri": "https://localhost:8080/"
        },
        "id": "CU8sT8qlpEmG",
        "outputId": "e40dfde8-c760-400b-9365-6c5974e5ca40"
      },
      "execution_count": 24,
      "outputs": [
        {
          "output_type": "stream",
          "name": "stdout",
          "text": [
            "[[[ 1  2  3]\n",
            "  [ 4  5  6]\n",
            "  [ 7  8  9]]\n",
            "\n",
            " [[10 11 12]\n",
            "  [13 14 15]\n",
            "  [16 17 18]]]\n"
          ]
        }
      ]
    },
    {
      "cell_type": "code",
      "source": [
        "# Reshaping a2 to be multiplicably compatible with a3\n",
        "a2_reshaped = a2[:, :, np.newaxis]\n",
        "print(a2_reshaped * a3)"
      ],
      "metadata": {
        "colab": {
          "base_uri": "https://localhost:8080/"
        },
        "id": "2m-3ceVhqyxQ",
        "outputId": "5e4704ad-fd55-4c13-c770-2373394f6618"
      },
      "execution_count": 25,
      "outputs": [
        {
          "output_type": "stream",
          "name": "stdout",
          "text": [
            "[[[  1.    2.    3. ]\n",
            "  [  8.   10.   12. ]\n",
            "  [ 23.1  26.4  29.7]]\n",
            "\n",
            " [[ 40.   44.   48. ]\n",
            "  [ 65.   70.   75. ]\n",
            "  [104.  110.5 117. ]]]\n"
          ]
        }
      ]
    },
    {
      "cell_type": "code",
      "source": [
        "print(a1 / ones)"
      ],
      "metadata": {
        "colab": {
          "base_uri": "https://localhost:8080/"
        },
        "id": "S-QAVCSqq9xT",
        "outputId": "90f3d30c-fb1b-4971-f3ee-aae44120c7d2"
      },
      "execution_count": 26,
      "outputs": [
        {
          "output_type": "stream",
          "name": "stdout",
          "text": [
            "[1. 2. 3.]\n"
          ]
        }
      ]
    },
    {
      "cell_type": "code",
      "source": [
        "print(a2/a1)"
      ],
      "metadata": {
        "colab": {
          "base_uri": "https://localhost:8080/"
        },
        "id": "02UVriAIrB4t",
        "outputId": "a429733d-665f-4111-8e36-7dd16900767d"
      },
      "execution_count": 27,
      "outputs": [
        {
          "output_type": "stream",
          "name": "stdout",
          "text": [
            "[[1.         1.         1.1       ]\n",
            " [4.         2.5        2.16666667]]\n"
          ]
        }
      ]
    },
    {
      "cell_type": "code",
      "source": [
        "# Floor division removes the decimals (rounds down)\n",
        "print(a2//a1)"
      ],
      "metadata": {
        "colab": {
          "base_uri": "https://localhost:8080/"
        },
        "id": "c35H1-IDrD3O",
        "outputId": "b0fad47a-ea04-495b-933a-6909754863f7"
      },
      "execution_count": 28,
      "outputs": [
        {
          "output_type": "stream",
          "name": "stdout",
          "text": [
            "[[1. 1. 1.]\n",
            " [4. 2. 2.]]\n"
          ]
        }
      ]
    },
    {
      "cell_type": "code",
      "source": [
        "print(a2 ** 2)"
      ],
      "metadata": {
        "colab": {
          "base_uri": "https://localhost:8080/"
        },
        "id": "6GDVofvprOpg",
        "outputId": "52ac8f8d-bb30-43ba-966f-35263fc9bfcf"
      },
      "execution_count": 29,
      "outputs": [
        {
          "output_type": "stream",
          "name": "stdout",
          "text": [
            "[[ 1.    4.   10.89]\n",
            " [16.   25.   42.25]]\n"
          ]
        }
      ]
    },
    {
      "cell_type": "code",
      "source": [
        "np.square(a2)"
      ],
      "metadata": {
        "colab": {
          "base_uri": "https://localhost:8080/"
        },
        "id": "bKvapw44rS7P",
        "outputId": "603cd91c-a6c3-45f9-dabd-6bacb544692a"
      },
      "execution_count": 30,
      "outputs": [
        {
          "output_type": "execute_result",
          "data": {
            "text/plain": [
              "array([[ 1.  ,  4.  , 10.89],\n",
              "       [16.  , 25.  , 42.25]])"
            ]
          },
          "metadata": {},
          "execution_count": 30
        }
      ]
    },
    {
      "cell_type": "code",
      "source": [
        "print(a1 + ones)"
      ],
      "metadata": {
        "colab": {
          "base_uri": "https://localhost:8080/"
        },
        "id": "dB9ygqICraI7",
        "outputId": "e41a2390-2084-4a86-af8c-c3f58801f564"
      },
      "execution_count": 31,
      "outputs": [
        {
          "output_type": "stream",
          "name": "stdout",
          "text": [
            "[2. 3. 4.]\n"
          ]
        }
      ]
    },
    {
      "cell_type": "code",
      "source": [
        "np.add(a1, ones)"
      ],
      "metadata": {
        "colab": {
          "base_uri": "https://localhost:8080/"
        },
        "id": "LYj_aZtnrWew",
        "outputId": "0f7b83f7-2631-422e-f216-b13c44b8f4d1"
      },
      "execution_count": 32,
      "outputs": [
        {
          "output_type": "execute_result",
          "data": {
            "text/plain": [
              "array([2., 3., 4.])"
            ]
          },
          "metadata": {},
          "execution_count": 32
        }
      ]
    },
    {
      "cell_type": "code",
      "source": [
        "print(a1 / 2)"
      ],
      "metadata": {
        "colab": {
          "base_uri": "https://localhost:8080/"
        },
        "id": "BhguMmVurfp5",
        "outputId": "7d85cc31-e842-41c0-cc97-08735d71fbd7"
      },
      "execution_count": 33,
      "outputs": [
        {
          "output_type": "stream",
          "name": "stdout",
          "text": [
            "[0.5 1.  1.5]\n"
          ]
        }
      ]
    },
    {
      "cell_type": "code",
      "source": [
        "print(a2 % 2)"
      ],
      "metadata": {
        "colab": {
          "base_uri": "https://localhost:8080/"
        },
        "id": "vRMra6zSrj4_",
        "outputId": "6de5da85-f615-444f-f694-248600a626fd"
      },
      "execution_count": 34,
      "outputs": [
        {
          "output_type": "stream",
          "name": "stdout",
          "text": [
            "[[1.  0.  1.3]\n",
            " [0.  1.  0.5]]\n"
          ]
        }
      ]
    },
    {
      "cell_type": "code",
      "source": [
        "print(np.exp(a1))"
      ],
      "metadata": {
        "colab": {
          "base_uri": "https://localhost:8080/"
        },
        "id": "Qm1tD3HNrocM",
        "outputId": "89cee328-10f3-4e94-a50e-5345993b83e5"
      },
      "execution_count": 35,
      "outputs": [
        {
          "output_type": "stream",
          "name": "stdout",
          "text": [
            "[ 2.71828183  7.3890561  20.08553692]\n"
          ]
        }
      ]
    },
    {
      "cell_type": "code",
      "source": [
        "print(np.log(a1))"
      ],
      "metadata": {
        "colab": {
          "base_uri": "https://localhost:8080/"
        },
        "id": "Fe0LeX9srrlF",
        "outputId": "88ffa93c-c97a-4683-b628-4a104e8a437c"
      },
      "execution_count": 36,
      "outputs": [
        {
          "output_type": "stream",
          "name": "stdout",
          "text": [
            "[0.         0.69314718 1.09861229]\n"
          ]
        }
      ]
    },
    {
      "cell_type": "markdown",
      "source": [
        "### Aggregation\n",
        "Aggregation = Performing the same operation on a number of things"
      ],
      "metadata": {
        "id": "N5is1iH4tJi5"
      }
    },
    {
      "cell_type": "code",
      "source": [
        "listy_list = [1,2,3]\n",
        "type(listy_list)"
      ],
      "metadata": {
        "colab": {
          "base_uri": "https://localhost:8080/"
        },
        "id": "D3x_RRLzt3wM",
        "outputId": "cf1548ff-feca-4425-82ae-799891dec812"
      },
      "execution_count": 37,
      "outputs": [
        {
          "output_type": "execute_result",
          "data": {
            "text/plain": [
              "list"
            ]
          },
          "metadata": {},
          "execution_count": 37
        }
      ]
    },
    {
      "cell_type": "code",
      "source": [
        "sum(listy_list)"
      ],
      "metadata": {
        "colab": {
          "base_uri": "https://localhost:8080/"
        },
        "id": "831OAJozt8gE",
        "outputId": "ddee5e03-0fc5-4614-e1fc-0be35e7f185c"
      },
      "execution_count": 38,
      "outputs": [
        {
          "output_type": "execute_result",
          "data": {
            "text/plain": [
              "6"
            ]
          },
          "metadata": {},
          "execution_count": 38
        }
      ]
    },
    {
      "cell_type": "code",
      "source": [
        "sum(a1)"
      ],
      "metadata": {
        "colab": {
          "base_uri": "https://localhost:8080/"
        },
        "id": "xF2bo1M-t_MJ",
        "outputId": "7f9bd28f-90d2-42ac-a290-4b05465330c1"
      },
      "execution_count": 39,
      "outputs": [
        {
          "output_type": "execute_result",
          "data": {
            "text/plain": [
              "6"
            ]
          },
          "metadata": {},
          "execution_count": 39
        }
      ]
    },
    {
      "cell_type": "code",
      "source": [
        "np.sum(a1)"
      ],
      "metadata": {
        "colab": {
          "base_uri": "https://localhost:8080/"
        },
        "id": "A6v8y7pbuByc",
        "outputId": "bcbdc057-b6d3-4c3e-f9eb-e09d0faf44a7"
      },
      "execution_count": 40,
      "outputs": [
        {
          "output_type": "execute_result",
          "data": {
            "text/plain": [
              "6"
            ]
          },
          "metadata": {},
          "execution_count": 40
        }
      ]
    },
    {
      "cell_type": "markdown",
      "source": [
        "Use Python's methods (`sum()`) on Python datatypes and use Numpy's methods on Numpy arrays (`np.sum()`)."
      ],
      "metadata": {
        "id": "nQ8DhB2JuMbB"
      }
    },
    {
      "cell_type": "code",
      "source": [
        "# Creating a massive NumPy array\n",
        "massive_array = np.random.random(100000)\n",
        "print(massive_array.size)\n",
        "print(massive_array[:10])"
      ],
      "metadata": {
        "colab": {
          "base_uri": "https://localhost:8080/"
        },
        "id": "K-1FwU7QuY5L",
        "outputId": "b06a7079-7678-46fb-80be-4a09896ba401"
      },
      "execution_count": 41,
      "outputs": [
        {
          "output_type": "stream",
          "name": "stdout",
          "text": [
            "100000\n",
            "[0.75778036 0.513401   0.17842575 0.39200156 0.93959276 0.21291858\n",
            " 0.81329627 0.40364858 0.58672092 0.18599889]\n"
          ]
        }
      ]
    },
    {
      "cell_type": "code",
      "source": [
        "%timeit sum(massive_array) # Python's sum()\n",
        "%timeit np.sum(massive_array) # NumPy's sum()"
      ],
      "metadata": {
        "colab": {
          "base_uri": "https://localhost:8080/"
        },
        "id": "m19krvpLuo--",
        "outputId": "8e99bf77-9bb5-4ffd-dc40-a0eb87e4aa14"
      },
      "execution_count": 42,
      "outputs": [
        {
          "output_type": "stream",
          "name": "stdout",
          "text": [
            "23.8 ms ± 10 ms per loop (mean ± std. dev. of 7 runs, 100 loops each)\n",
            "115 µs ± 29.6 µs per loop (mean ± std. dev. of 7 runs, 1000 loops each)\n"
          ]
        }
      ]
    },
    {
      "cell_type": "code",
      "source": [
        "print(np.mean(a2))"
      ],
      "metadata": {
        "colab": {
          "base_uri": "https://localhost:8080/"
        },
        "id": "l-GBGOuPvdYD",
        "outputId": "a4e6c0a3-1231-44f5-c4e2-f39b82c6c870"
      },
      "execution_count": 43,
      "outputs": [
        {
          "output_type": "stream",
          "name": "stdout",
          "text": [
            "3.6333333333333333\n"
          ]
        }
      ]
    },
    {
      "cell_type": "code",
      "source": [
        "print(np.max(a2))"
      ],
      "metadata": {
        "colab": {
          "base_uri": "https://localhost:8080/"
        },
        "id": "L2T7ICAbvggP",
        "outputId": "c710b28c-d454-4de7-9bc2-a6279912e7db"
      },
      "execution_count": 44,
      "outputs": [
        {
          "output_type": "stream",
          "name": "stdout",
          "text": [
            "6.5\n"
          ]
        }
      ]
    },
    {
      "cell_type": "code",
      "source": [
        "print(np.min(a2))"
      ],
      "metadata": {
        "colab": {
          "base_uri": "https://localhost:8080/"
        },
        "id": "HHG1MEwRvijr",
        "outputId": "56d73d35-7780-4bf0-d00f-29462f679d47"
      },
      "execution_count": 45,
      "outputs": [
        {
          "output_type": "stream",
          "name": "stdout",
          "text": [
            "1.0\n"
          ]
        }
      ]
    },
    {
      "cell_type": "markdown",
      "source": [
        "**Standard deviation** and **variance** are measures of 'spread' of data.\n",
        "\n",
        "The higher standard deviation and the higher variance of data, the more spread out the values are.\n",
        "\n",
        "The lower standard deviation and lower variance, the less spread out the values are."
      ],
      "metadata": {
        "id": "EbPAwyPrwqQI"
      }
    },
    {
      "cell_type": "code",
      "source": [
        "# Standard deviation = a measure of how spread out a group of numbers is from the mean\n",
        "np.std(a2)"
      ],
      "metadata": {
        "colab": {
          "base_uri": "https://localhost:8080/"
        },
        "id": "12aG97o2wvcD",
        "outputId": "06f561c9-a3ad-42e3-e84f-f97ec8fd603c"
      },
      "execution_count": 46,
      "outputs": [
        {
          "output_type": "execute_result",
          "data": {
            "text/plain": [
              "1.8226964152656422"
            ]
          },
          "metadata": {},
          "execution_count": 46
        }
      ]
    },
    {
      "cell_type": "code",
      "source": [
        "# Variance = measure of the average degree to which each number is different to the mean\n",
        "# Higher variance = wider range of numbers\n",
        "# Lower variance = lower range of numbers\n",
        "np.var(a2)"
      ],
      "metadata": {
        "colab": {
          "base_uri": "https://localhost:8080/"
        },
        "id": "1lhuvS-Xwyh2",
        "outputId": "1e0e5787-f165-46aa-bc5f-606dd47f07ef"
      },
      "execution_count": 47,
      "outputs": [
        {
          "output_type": "execute_result",
          "data": {
            "text/plain": [
              "3.3222222222222224"
            ]
          },
          "metadata": {},
          "execution_count": 47
        }
      ]
    },
    {
      "cell_type": "code",
      "source": [
        "# Standard deviation = squareroot of variance\n",
        "np.sqrt(np.var(a2))"
      ],
      "metadata": {
        "colab": {
          "base_uri": "https://localhost:8080/"
        },
        "id": "4tYzbmvfw0ZV",
        "outputId": "75db7cbf-871d-4d5b-9708-42b73391ce86"
      },
      "execution_count": 48,
      "outputs": [
        {
          "output_type": "execute_result",
          "data": {
            "text/plain": [
              "1.8226964152656422"
            ]
          },
          "metadata": {},
          "execution_count": 48
        }
      ]
    },
    {
      "cell_type": "code",
      "source": [
        "# Demo of std and var\n",
        "high_var_array = np.array([1, 100, 200, 300, 4000, 5000])\n",
        "low_var_array = np.array([2, 4, 6, 8, 10])"
      ],
      "metadata": {
        "id": "-n0uhC9xw2Z4"
      },
      "execution_count": 49,
      "outputs": []
    },
    {
      "cell_type": "code",
      "source": [
        "np.var(high_var_array), np.var(low_var_array)"
      ],
      "metadata": {
        "colab": {
          "base_uri": "https://localhost:8080/"
        },
        "id": "jbZ2y4Bmw5Xy",
        "outputId": "6791916a-c7fa-418c-9ee6-9ba0dc9aaf47"
      },
      "execution_count": 50,
      "outputs": [
        {
          "output_type": "execute_result",
          "data": {
            "text/plain": [
              "(4296133.472222221, 8.0)"
            ]
          },
          "metadata": {},
          "execution_count": 50
        }
      ]
    },
    {
      "cell_type": "code",
      "source": [
        "np.std(high_var_array), np.std(low_var_array)"
      ],
      "metadata": {
        "colab": {
          "base_uri": "https://localhost:8080/"
        },
        "id": "F94xueujw618",
        "outputId": "c4216193-ed3b-4b5c-d174-61a8eb4e3bdd"
      },
      "execution_count": 51,
      "outputs": [
        {
          "output_type": "execute_result",
          "data": {
            "text/plain": [
              "(2072.711623024829, 2.8284271247461903)"
            ]
          },
          "metadata": {},
          "execution_count": 51
        }
      ]
    },
    {
      "cell_type": "code",
      "source": [
        "np.mean(high_var_array), np.mean(low_var_array)"
      ],
      "metadata": {
        "colab": {
          "base_uri": "https://localhost:8080/"
        },
        "id": "GAdrb-d4w8km",
        "outputId": "dbef862b-0253-49a9-8ceb-6ced65804133"
      },
      "execution_count": 52,
      "outputs": [
        {
          "output_type": "execute_result",
          "data": {
            "text/plain": [
              "(1600.1666666666667, 6.0)"
            ]
          },
          "metadata": {},
          "execution_count": 52
        }
      ]
    },
    {
      "cell_type": "code",
      "source": [
        "plt.hist(high_var_array)\n",
        "plt.show()"
      ],
      "metadata": {
        "colab": {
          "base_uri": "https://localhost:8080/",
          "height": 430
        },
        "id": "aIpq7rofxzhJ",
        "outputId": "faf71360-de5f-4aef-c03d-d6a735dbfc0e"
      },
      "execution_count": 53,
      "outputs": [
        {
          "output_type": "display_data",
          "data": {
            "text/plain": [
              "<Figure size 640x480 with 1 Axes>"
            ],
            "image/png": "[encoded data removed]"
          },
          "metadata": {}
        }
      ]
    },
    {
      "cell_type": "code",
      "source": [
        "plt.hist(low_var_array)\n",
        "plt.show()"
      ],
      "metadata": {
        "colab": {
          "base_uri": "https://localhost:8080/",
          "height": 430
        },
        "id": "3M11rcJpx6iX",
        "outputId": "4accba17-f210-4382-f982-3ad8fbbb1afb"
      },
      "execution_count": 54,
      "outputs": [
        {
          "output_type": "display_data",
          "data": {
            "text/plain": [
              "<Figure size 640x480 with 1 Axes>"
            ],
            "image/png": "[encoded data removed]"
          },
          "metadata": {}
        }
      ]
    },
    {
      "cell_type": "markdown",
      "source": [
        "### Reshaping & transposing"
      ],
      "metadata": {
        "id": "FdwQKoO8zkw6"
      }
    },
    {
      "cell_type": "code",
      "source": [
        "print(a2.shape)\n",
        "print(a3.shape)"
      ],
      "metadata": {
        "colab": {
          "base_uri": "https://localhost:8080/"
        },
        "id": "X93i47MezuM-",
        "outputId": "b7b822dc-5ac7-4672-f112-73addc050df5"
      },
      "execution_count": 55,
      "outputs": [
        {
          "output_type": "stream",
          "name": "stdout",
          "text": [
            "(2, 3)\n",
            "(2, 3, 3)\n"
          ]
        }
      ]
    },
    {
      "cell_type": "code",
      "source": [
        "a2_reshape = a2.reshape(2, 3, 1)\n",
        "print(a2_reshape)"
      ],
      "metadata": {
        "colab": {
          "base_uri": "https://localhost:8080/"
        },
        "id": "KXXai9w4z9Lj",
        "outputId": "988e9588-1608-475f-c1e3-27e6879dd9ab"
      },
      "execution_count": 56,
      "outputs": [
        {
          "output_type": "stream",
          "name": "stdout",
          "text": [
            "[[[1. ]\n",
            "  [2. ]\n",
            "  [3.3]]\n",
            "\n",
            " [[4. ]\n",
            "  [5. ]\n",
            "  [6.5]]]\n"
          ]
        }
      ]
    },
    {
      "cell_type": "code",
      "source": [
        "print(a2_reshape * a3)"
      ],
      "metadata": {
        "colab": {
          "base_uri": "https://localhost:8080/"
        },
        "id": "tca5OPMK0LFW",
        "outputId": "654c2b5f-4d13-4af6-aa40-9a5cfd2c5646"
      },
      "execution_count": 57,
      "outputs": [
        {
          "output_type": "stream",
          "name": "stdout",
          "text": [
            "[[[  1.    2.    3. ]\n",
            "  [  8.   10.   12. ]\n",
            "  [ 23.1  26.4  29.7]]\n",
            "\n",
            " [[ 40.   44.   48. ]\n",
            "  [ 65.   70.   75. ]\n",
            "  [104.  110.5 117. ]]]\n"
          ]
        }
      ]
    },
    {
      "cell_type": "code",
      "source": [
        "# Transpose = switches the axis'\n",
        "print(a2.T)\n",
        "print(a3.T)"
      ],
      "metadata": {
        "colab": {
          "base_uri": "https://localhost:8080/"
        },
        "id": "4xN2tVV20QBY",
        "outputId": "ad7a99fb-fa1f-4dfd-cfc7-1216f7b30543"
      },
      "execution_count": 58,
      "outputs": [
        {
          "output_type": "stream",
          "name": "stdout",
          "text": [
            "[[1.  4. ]\n",
            " [2.  5. ]\n",
            " [3.3 6.5]]\n",
            "[[[ 1 10]\n",
            "  [ 4 13]\n",
            "  [ 7 16]]\n",
            "\n",
            " [[ 2 11]\n",
            "  [ 5 14]\n",
            "  [ 8 17]]\n",
            "\n",
            " [[ 3 12]\n",
            "  [ 6 15]\n",
            "  [ 9 18]]]\n"
          ]
        }
      ]
    },
    {
      "cell_type": "code",
      "source": [
        "print(a2.T.shape)\n",
        "print(a3.T.shape)"
      ],
      "metadata": {
        "colab": {
          "base_uri": "https://localhost:8080/"
        },
        "id": "FuxLxMgd0XK1",
        "outputId": "f5a6bb86-42e0-4e93-8249-26d9273dbf79"
      },
      "execution_count": 59,
      "outputs": [
        {
          "output_type": "stream",
          "name": "stdout",
          "text": [
            "(3, 2)\n",
            "(3, 3, 2)\n"
          ]
        }
      ]
    },
    {
      "cell_type": "markdown",
      "source": [
        "### Dot product"
      ],
      "metadata": {
        "id": "xXlgxJYX14oz"
      }
    },
    {
      "cell_type": "code",
      "source": [
        "np.random.seed(0)\n",
        "mat1 = np.random.randint(10, size=(5, 3))\n",
        "mat2 = np.random.randint(10, size=(5, 3))\n",
        "print(mat1)\n",
        "print(mat2)"
      ],
      "metadata": {
        "colab": {
          "base_uri": "https://localhost:8080/"
        },
        "id": "2K6sLhKs18Dz",
        "outputId": "5527fe01-f336-41d8-cd6c-43d1ec4b2f78"
      },
      "execution_count": 60,
      "outputs": [
        {
          "output_type": "stream",
          "name": "stdout",
          "text": [
            "[[5 0 3]\n",
            " [3 7 9]\n",
            " [3 5 2]\n",
            " [4 7 6]\n",
            " [8 8 1]]\n",
            "[[6 7 7]\n",
            " [8 1 5]\n",
            " [9 8 9]\n",
            " [4 3 0]\n",
            " [3 5 0]]\n"
          ]
        }
      ]
    },
    {
      "cell_type": "code",
      "source": [
        "print(mat1.shape, mat2.shape)"
      ],
      "metadata": {
        "colab": {
          "base_uri": "https://localhost:8080/"
        },
        "id": "uqC848S62Gcx",
        "outputId": "49a64790-2de8-4ec1-a3c7-5baa0c9a60bb"
      },
      "execution_count": 61,
      "outputs": [
        {
          "output_type": "stream",
          "name": "stdout",
          "text": [
            "(5, 3) (5, 3)\n"
          ]
        }
      ]
    },
    {
      "cell_type": "code",
      "source": [
        "# Element-wise multiplication (Hadamard product)\n",
        "print(mat1 * mat2)"
      ],
      "metadata": {
        "colab": {
          "base_uri": "https://localhost:8080/"
        },
        "id": "LnfsqHC52NQm",
        "outputId": "aad0bdbb-0c78-4ab1-93a0-388ced72e959"
      },
      "execution_count": 62,
      "outputs": [
        {
          "output_type": "stream",
          "name": "stdout",
          "text": [
            "[[30  0 21]\n",
            " [24  7 45]\n",
            " [27 40 18]\n",
            " [16 21  0]\n",
            " [24 40  0]]\n"
          ]
        }
      ]
    },
    {
      "cell_type": "code",
      "source": [
        "# Dot product 1\n",
        "# Generates error: np.dot(mat1, mat2)"
      ],
      "metadata": {
        "id": "ylw8o9B23ylW"
      },
      "execution_count": 63,
      "outputs": []
    },
    {
      "cell_type": "code",
      "source": [
        "# Transpose mat1\n",
        "mat1.T"
      ],
      "metadata": {
        "colab": {
          "base_uri": "https://localhost:8080/"
        },
        "id": "E-LFio-c4Xk0",
        "outputId": "c53ad4c5-7eb2-4b24-be27-975138ded8b6"
      },
      "execution_count": 64,
      "outputs": [
        {
          "output_type": "execute_result",
          "data": {
            "text/plain": [
              "array([[5, 3, 3, 4, 8],\n",
              "       [0, 7, 5, 7, 8],\n",
              "       [3, 9, 2, 6, 1]])"
            ]
          },
          "metadata": {},
          "execution_count": 64
        }
      ]
    },
    {
      "cell_type": "code",
      "source": [
        "print(mat1.shape, mat2.T.shape)"
      ],
      "metadata": {
        "colab": {
          "base_uri": "https://localhost:8080/"
        },
        "id": "PwuY5rEQ4a6I",
        "outputId": "c46aa107-a8c5-40ac-a63f-d738c312a7fe"
      },
      "execution_count": 65,
      "outputs": [
        {
          "output_type": "stream",
          "name": "stdout",
          "text": [
            "(5, 3) (3, 5)\n"
          ]
        }
      ]
    },
    {
      "cell_type": "code",
      "source": [
        "# Dot product 2\n",
        "mat3 = np.dot(mat1, mat2.T)\n",
        "print(mat3)\n",
        "print(mat3.shape)"
      ],
      "metadata": {
        "colab": {
          "base_uri": "https://localhost:8080/"
        },
        "id": "4G6zLQYW3ZoH",
        "outputId": "683131e7-fcbd-4ce7-bc54-4147b4bbee68"
      },
      "execution_count": 66,
      "outputs": [
        {
          "output_type": "stream",
          "name": "stdout",
          "text": [
            "[[ 51  55  72  20  15]\n",
            " [130  76 164  33  44]\n",
            " [ 67  39  85  27  34]\n",
            " [115  69 146  37  47]\n",
            " [111  77 145  56  64]]\n",
            "(5, 5)\n"
          ]
        }
      ]
    },
    {
      "cell_type": "markdown",
      "source": [
        "### Nut Butter sales"
      ],
      "metadata": {
        "id": "RVtwmiuJ71th"
      }
    },
    {
      "cell_type": "code",
      "source": [
        "np.random.seed(0)\n",
        "# Number of jars sold\n",
        "sales_amounts = np.random.randint(20, size=(5,3))\n",
        "print(sales_amounts)"
      ],
      "metadata": {
        "colab": {
          "base_uri": "https://localhost:8080/"
        },
        "id": "AVH4nbui9ljU",
        "outputId": "d926df4d-5bf1-462d-c263-d11b27df36ef"
      },
      "execution_count": 67,
      "outputs": [
        {
          "output_type": "stream",
          "name": "stdout",
          "text": [
            "[[12 15  0]\n",
            " [ 3  3  7]\n",
            " [ 9 19 18]\n",
            " [ 4  6 12]\n",
            " [ 1  6  7]]\n"
          ]
        }
      ]
    },
    {
      "cell_type": "code",
      "source": [
        "# Create weekly_sales DataFrame\n",
        "weekly_sales = pd.DataFrame(sales_amounts,\n",
        "                            index=[\"Mon\", \"Tues\", \"Wed\", \"Thurs\", \"Fri\"],\n",
        "                            columns=[\"Almond butter\", \"Peanut butter\", \"Cashew butter\"])\n",
        "print(weekly_sales)"
      ],
      "metadata": {
        "colab": {
          "base_uri": "https://localhost:8080/"
        },
        "id": "KWxyjQKy8De7",
        "outputId": "8461cd1a-a860-4fa3-8b09-afa47d1f8ef0"
      },
      "execution_count": 68,
      "outputs": [
        {
          "output_type": "stream",
          "name": "stdout",
          "text": [
            "       Almond butter  Peanut butter  Cashew butter\n",
            "Mon               12             15              0\n",
            "Tues               3              3              7\n",
            "Wed                9             19             18\n",
            "Thurs              4              6             12\n",
            "Fri                1              6              7\n"
          ]
        }
      ]
    },
    {
      "cell_type": "code",
      "source": [
        "# Create prices array\n",
        "prices = np.array([10, 8, 12])\n",
        "print(prices)"
      ],
      "metadata": {
        "colab": {
          "base_uri": "https://localhost:8080/"
        },
        "id": "f3ZPpcfQ9qz-",
        "outputId": "ad265757-bc36-4bb1-ebfa-997a973f1916"
      },
      "execution_count": 69,
      "outputs": [
        {
          "output_type": "stream",
          "name": "stdout",
          "text": [
            "[10  8 12]\n"
          ]
        }
      ]
    },
    {
      "cell_type": "code",
      "source": [
        "print(prices.shape)"
      ],
      "metadata": {
        "colab": {
          "base_uri": "https://localhost:8080/"
        },
        "id": "KvwuFWZ39vMB",
        "outputId": "69c1b6f1-e5d8-4871-d0fb-16eb77e67fd6"
      },
      "execution_count": 70,
      "outputs": [
        {
          "output_type": "stream",
          "name": "stdout",
          "text": [
            "(3,)\n"
          ]
        }
      ]
    },
    {
      "cell_type": "code",
      "source": [
        "# Create butter_prices DataFrame\n",
        "butter_prices = pd.DataFrame(prices.reshape(1, 3),\n",
        "                             index=[\"Price\"],\n",
        "                             columns=[\"Almond butter\", \"Peanut butter\", \"Cashew butter\"])\n",
        "print(butter_prices)"
      ],
      "metadata": {
        "colab": {
          "base_uri": "https://localhost:8080/"
        },
        "id": "pEs8kyCQ9yD0",
        "outputId": "e61b2551-ff22-40b4-eed2-5b56e0d0857f"
      },
      "execution_count": 71,
      "outputs": [
        {
          "output_type": "stream",
          "name": "stdout",
          "text": [
            "       Almond butter  Peanut butter  Cashew butter\n",
            "Price             10              8             12\n"
          ]
        }
      ]
    },
    {
      "cell_type": "code",
      "source": [
        "print(prices.shape)"
      ],
      "metadata": {
        "colab": {
          "base_uri": "https://localhost:8080/"
        },
        "id": "3ch4kPKR92SK",
        "outputId": "358c2b6a-918d-4b6f-d3cd-83dd344a84eb"
      },
      "execution_count": 72,
      "outputs": [
        {
          "output_type": "stream",
          "name": "stdout",
          "text": [
            "(3,)\n"
          ]
        }
      ]
    },
    {
      "cell_type": "code",
      "source": [
        "print(sales_amounts.shape)"
      ],
      "metadata": {
        "colab": {
          "base_uri": "https://localhost:8080/"
        },
        "id": "xeW1_cTk9397",
        "outputId": "8fc6c08e-dcbb-48d5-9e63-262cbc4bdd01"
      },
      "execution_count": 73,
      "outputs": [
        {
          "output_type": "stream",
          "name": "stdout",
          "text": [
            "(5, 3)\n"
          ]
        }
      ]
    },
    {
      "cell_type": "code",
      "source": [
        "# ValueError\n",
        "# total_sales = prices.dot(sales_amounts)"
      ],
      "metadata": {
        "id": "RMRqqpHh97sn"
      },
      "execution_count": 74,
      "outputs": []
    },
    {
      "cell_type": "code",
      "source": [
        "# Shape aren't aligned, let's transpose\n",
        "total_sales = prices.dot(sales_amounts.T)\n",
        "print(total_sales)"
      ],
      "metadata": {
        "colab": {
          "base_uri": "https://localhost:8080/"
        },
        "id": "oQAWdTrU-EHL",
        "outputId": "3f1d6ea7-2fe7-4ce4-c207-81fc5bc175c2"
      },
      "execution_count": 75,
      "outputs": [
        {
          "output_type": "stream",
          "name": "stdout",
          "text": [
            "[240 138 458 232 142]\n"
          ]
        }
      ]
    },
    {
      "cell_type": "code",
      "source": [
        "# Create daily_sales\n",
        "print(butter_prices.shape, weekly_sales.shape)"
      ],
      "metadata": {
        "colab": {
          "base_uri": "https://localhost:8080/"
        },
        "id": "gD-dhxrK-I1t",
        "outputId": "9e5e1af7-708d-4343-fb01-c827d15a416a"
      },
      "execution_count": 76,
      "outputs": [
        {
          "output_type": "stream",
          "name": "stdout",
          "text": [
            "(1, 3) (5, 3)\n"
          ]
        }
      ]
    },
    {
      "cell_type": "code",
      "source": [
        "daily_sales = butter_prices.dot(weekly_sales.T)\n",
        "print(daily_sales.shape)"
      ],
      "metadata": {
        "colab": {
          "base_uri": "https://localhost:8080/"
        },
        "id": "wQmhVTht-PIE",
        "outputId": "be63ae6e-1bf3-4b84-c874-ac8f6992c6a4"
      },
      "execution_count": 77,
      "outputs": [
        {
          "output_type": "stream",
          "name": "stdout",
          "text": [
            "(1, 5)\n"
          ]
        }
      ]
    },
    {
      "cell_type": "code",
      "source": [
        "print(weekly_sales.shape)"
      ],
      "metadata": {
        "colab": {
          "base_uri": "https://localhost:8080/"
        },
        "id": "1L2dtHEF-Z0C",
        "outputId": "c65c0d43-58ae-4d98-e9c0-be06bbfa9e40"
      },
      "execution_count": 78,
      "outputs": [
        {
          "output_type": "stream",
          "name": "stdout",
          "text": [
            "(5, 3)\n"
          ]
        }
      ]
    },
    {
      "cell_type": "code",
      "source": [
        "print(weekly_sales)"
      ],
      "metadata": {
        "colab": {
          "base_uri": "https://localhost:8080/"
        },
        "id": "WNn7Gh5N-cV7",
        "outputId": "24f92d38-f9b1-437d-c041-dc1a7e350ba2"
      },
      "execution_count": 79,
      "outputs": [
        {
          "output_type": "stream",
          "name": "stdout",
          "text": [
            "       Almond butter  Peanut butter  Cashew butter\n",
            "Mon               12             15              0\n",
            "Tues               3              3              7\n",
            "Wed                9             19             18\n",
            "Thurs              4              6             12\n",
            "Fri                1              6              7\n"
          ]
        }
      ]
    },
    {
      "cell_type": "code",
      "source": [
        "weekly_sales[\"Total ($)\"] = daily_sales.T\n",
        "print(weekly_sales)"
      ],
      "metadata": {
        "colab": {
          "base_uri": "https://localhost:8080/"
        },
        "id": "GQRYO7nz-hTH",
        "outputId": "e2897644-bce8-4cab-f97e-434c3dac40f8"
      },
      "execution_count": 80,
      "outputs": [
        {
          "output_type": "stream",
          "name": "stdout",
          "text": [
            "       Almond butter  Peanut butter  Cashew butter  Total ($)\n",
            "Mon               12             15              0        240\n",
            "Tues               3              3              7        138\n",
            "Wed                9             19             18        458\n",
            "Thurs              4              6             12        232\n",
            "Fri                1              6              7        142\n"
          ]
        }
      ]
    }
  ]
}