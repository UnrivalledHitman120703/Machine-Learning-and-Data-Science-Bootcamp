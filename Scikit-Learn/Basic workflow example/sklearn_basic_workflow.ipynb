{
  "cells": [
    {
      "cell_type": "code",
      "execution_count": 1,
      "metadata": {
        "id": "m9wb01Xm8AD9"
      },
      "outputs": [],
      "source": [
        "# Standard imports\n",
        "%matplotlib inline\n",
        "import matplotlib.pyplot as plt\n",
        "import pandas as pd\n",
        "import numpy as np"
      ]
    },
    {
      "cell_type": "markdown",
      "metadata": {
        "id": "LVDhE3xK7hsU"
      },
      "source": [
        "## 1. Getting the data ready"
      ]
    },
    {
      "cell_type": "code",
      "execution_count": 2,
      "metadata": {
        "colab": {
          "base_uri": "https://localhost:8080/"
        },
        "id": "Xw8A6uh17n1p",
        "outputId": "263f15e2-ff8f-4f0c-bdf2-691dfb06137e"
      },
      "outputs": [
        {
          "name": "stdout",
          "output_type": "stream",
          "text": [
            "   age  sex  cp  trestbps  chol  fbs  restecg  thalach  exang  oldpeak  slope  \\\n",
            "0   63    1   3       145   233    1        0      150      0      2.3      0   \n",
            "1   37    1   2       130   250    0        1      187      0      3.5      0   \n",
            "2   41    0   1       130   204    0        0      172      0      1.4      2   \n",
            "3   56    1   1       120   236    0        1      178      0      0.8      2   \n",
            "4   57    0   0       120   354    0        1      163      1      0.6      2   \n",
            "\n",
            "   ca  thal  target  \n",
            "0   0     1       1  \n",
            "1   0     2       1  \n",
            "2   0     2       1  \n",
            "3   0     2       1  \n",
            "4   0     2       1  \n"
          ]
        }
      ],
      "source": [
        "# Import dataset\n",
        "heart_disease = pd.read_csv(\"heart-disease.csv\")\n",
        "\n",
        "# View the data\n",
        "print(heart_disease.head())"
      ]
    },
    {
      "cell_type": "code",
      "execution_count": 3,
      "metadata": {
        "id": "35zyGzXO71K1"
      },
      "outputs": [],
      "source": [
        "# Create X (all the feature columns)\n",
        "X = heart_disease.drop(\"target\", axis=1)\n",
        "\n",
        "# Create y (the target column)\n",
        "y = heart_disease[\"target\"]"
      ]
    },
    {
      "cell_type": "code",
      "execution_count": 4,
      "metadata": {
        "colab": {
          "base_uri": "https://localhost:8080/"
        },
        "id": "PcD0vyMu736E",
        "outputId": "8e27f44f-334e-405e-e7c3-ae8c413a8cee"
      },
      "outputs": [
        {
          "data": {
            "text/plain": [
              "((227, 13), (76, 13), (227,), (76,))"
            ]
          },
          "execution_count": 4,
          "metadata": {},
          "output_type": "execute_result"
        }
      ],
      "source": [
        "# Split the data into training and test sets\n",
        "from sklearn.model_selection import train_test_split\n",
        "\n",
        "X_train, X_test, y_train, y_test = train_test_split(X, y)\n",
        "\n",
        "# View the data shapes\n",
        "X_train.shape, X_test.shape, y_train.shape, y_test.shape"
      ]
    },
    {
      "cell_type": "markdown",
      "metadata": {
        "id": "I_qaTKOD8DAD"
      },
      "source": [
        "## 2. Choosing a model/estimator"
      ]
    },
    {
      "cell_type": "code",
      "execution_count": 5,
      "metadata": {
        "id": "CsZPN2OQ8G_f"
      },
      "outputs": [],
      "source": [
        "from sklearn.ensemble import RandomForestClassifier\n",
        "model = RandomForestClassifier()"
      ]
    },
    {
      "cell_type": "markdown",
      "metadata": {
        "id": "8I_8f7vp8L5E"
      },
      "source": [
        "## 3. Fit the model to the data and use it to make a prediction"
      ]
    },
    {
      "cell_type": "code",
      "execution_count": 6,
      "metadata": {
        "colab": {
          "base_uri": "https://localhost:8080/",
          "height": 74
        },
        "id": "bfwHto9J8KEW",
        "outputId": "19b37a87-1df9-45f0-e0c8-4dc165bfe43b"
      },
      "outputs": [
        {
          "data": {
            "text/html": [
              "<style>#sk-container-id-1 {color: black;}#sk-container-id-1 pre{padding: 0;}#sk-container-id-1 div.sk-toggleable {background-color: white;}#sk-container-id-1 label.sk-toggleable__label {cursor: pointer;display: block;width: 100%;margin-bottom: 0;padding: 0.3em;box-sizing: border-box;text-align: center;}#sk-container-id-1 label.sk-toggleable__label-arrow:before {content: \"▸\";float: left;margin-right: 0.25em;color: #696969;}#sk-container-id-1 label.sk-toggleable__label-arrow:hover:before {color: black;}#sk-container-id-1 div.sk-estimator:hover label.sk-toggleable__label-arrow:before {color: black;}#sk-container-id-1 div.sk-toggleable__content {max-height: 0;max-width: 0;overflow: hidden;text-align: left;background-color: #f0f8ff;}#sk-container-id-1 div.sk-toggleable__content pre {margin: 0.2em;color: black;border-radius: 0.25em;background-color: #f0f8ff;}#sk-container-id-1 input.sk-toggleable__control:checked~div.sk-toggleable__content {max-height: 200px;max-width: 100%;overflow: auto;}#sk-container-id-1 input.sk-toggleable__control:checked~label.sk-toggleable__label-arrow:before {content: \"▾\";}#sk-container-id-1 div.sk-estimator input.sk-toggleable__control:checked~label.sk-toggleable__label {background-color: #d4ebff;}#sk-container-id-1 div.sk-label input.sk-toggleable__control:checked~label.sk-toggleable__label {background-color: #d4ebff;}#sk-container-id-1 input.sk-hidden--visually {border: 0;clip: rect(1px 1px 1px 1px);clip: rect(1px, 1px, 1px, 1px);height: 1px;margin: -1px;overflow: hidden;padding: 0;position: absolute;width: 1px;}#sk-container-id-1 div.sk-estimator {font-family: monospace;background-color: #f0f8ff;border: 1px dotted black;border-radius: 0.25em;box-sizing: border-box;margin-bottom: 0.5em;}#sk-container-id-1 div.sk-estimator:hover {background-color: #d4ebff;}#sk-container-id-1 div.sk-parallel-item::after {content: \"\";width: 100%;border-bottom: 1px solid gray;flex-grow: 1;}#sk-container-id-1 div.sk-label:hover label.sk-toggleable__label {background-color: #d4ebff;}#sk-container-id-1 div.sk-serial::before {content: \"\";position: absolute;border-left: 1px solid gray;box-sizing: border-box;top: 0;bottom: 0;left: 50%;z-index: 0;}#sk-container-id-1 div.sk-serial {display: flex;flex-direction: column;align-items: center;background-color: white;padding-right: 0.2em;padding-left: 0.2em;position: relative;}#sk-container-id-1 div.sk-item {position: relative;z-index: 1;}#sk-container-id-1 div.sk-parallel {display: flex;align-items: stretch;justify-content: center;background-color: white;position: relative;}#sk-container-id-1 div.sk-item::before, #sk-container-id-1 div.sk-parallel-item::before {content: \"\";position: absolute;border-left: 1px solid gray;box-sizing: border-box;top: 0;bottom: 0;left: 50%;z-index: -1;}#sk-container-id-1 div.sk-parallel-item {display: flex;flex-direction: column;z-index: 1;position: relative;background-color: white;}#sk-container-id-1 div.sk-parallel-item:first-child::after {align-self: flex-end;width: 50%;}#sk-container-id-1 div.sk-parallel-item:last-child::after {align-self: flex-start;width: 50%;}#sk-container-id-1 div.sk-parallel-item:only-child::after {width: 0;}#sk-container-id-1 div.sk-dashed-wrapped {border: 1px dashed gray;margin: 0 0.4em 0.5em 0.4em;box-sizing: border-box;padding-bottom: 0.4em;background-color: white;}#sk-container-id-1 div.sk-label label {font-family: monospace;font-weight: bold;display: inline-block;line-height: 1.2em;}#sk-container-id-1 div.sk-label-container {text-align: center;}#sk-container-id-1 div.sk-container {/* jupyter's `normalize.less` sets `[hidden] { display: none; }` but bootstrap.min.css set `[hidden] { display: none !important; }` so we also need the `!important` here to be able to override the default hidden behavior on the sphinx rendered scikit-learn.org. See: https://github.com/scikit-learn/scikit-learn/issues/21755 */display: inline-block !important;position: relative;}#sk-container-id-1 div.sk-text-repr-fallback {display: none;}</style><div id=\"sk-container-id-1\" class=\"sk-top-container\"><div class=\"sk-text-repr-fallback\"><pre>RandomForestClassifier()</pre><b>In a Jupyter environment, please rerun this cell to show the HTML representation or trust the notebook. <br />On GitHub, the HTML representation is unable to render, please try loading this page with nbviewer.org.</b></div><div class=\"sk-container\" hidden><div class=\"sk-item\"><div class=\"sk-estimator sk-toggleable\"><input class=\"sk-toggleable__control sk-hidden--visually\" id=\"sk-estimator-id-1\" type=\"checkbox\" checked><label for=\"sk-estimator-id-1\" class=\"sk-toggleable__label sk-toggleable__label-arrow\">RandomForestClassifier</label><div class=\"sk-toggleable__content\"><pre>RandomForestClassifier()</pre></div></div></div></div></div>"
            ],
            "text/plain": [
              "RandomForestClassifier()"
            ]
          },
          "execution_count": 6,
          "metadata": {},
          "output_type": "execute_result"
        }
      ],
      "source": [
        "model.fit(X_train, y_train)"
      ]
    },
    {
      "cell_type": "code",
      "execution_count": 7,
      "metadata": {
        "id": "266H79nB8VNq"
      },
      "outputs": [],
      "source": [
        "# Make predictions\n",
        "y_preds = model.predict(X_test)"
      ]
    },
    {
      "cell_type": "code",
      "execution_count": 8,
      "metadata": {
        "colab": {
          "base_uri": "https://localhost:8080/"
        },
        "id": "1A2R38IC8Xv3",
        "outputId": "7a50df7a-587c-4cee-a6df-83f388c33ea4"
      },
      "outputs": [
        {
          "name": "stdout",
          "output_type": "stream",
          "text": [
            "[0 1 1 1 0 0 1 1 1 0 0 0 1 0 1 1 1 0 1 0 0 0 1 0 1 1 0 1 1 0 1 1 1 0 1 1 0\n",
            " 0 0 0 1 1 1 0 0 1 1 1 0 1 1 0 1 0 1 1 0 0 0 1 0 1 0 0 1 1 1 1 0 0 1 0 1 1\n",
            " 0 1]\n"
          ]
        }
      ],
      "source": [
        "# This will be in the same format as y_test\n",
        "print(y_preds)"
      ]
    },
    {
      "cell_type": "markdown",
      "metadata": {
        "id": "rDSp_s7R-NK4"
      },
      "source": [
        "## 4. Evaluating the Model"
      ]
    },
    {
      "cell_type": "code",
      "execution_count": 9,
      "metadata": {
        "colab": {
          "base_uri": "https://localhost:8080/"
        },
        "id": "sdiG1pSR-UMP",
        "outputId": "e14cf3cc-86bf-4fab-eef6-cddb2e05ac6b"
      },
      "outputs": [
        {
          "data": {
            "text/plain": [
              "1.0"
            ]
          },
          "execution_count": 9,
          "metadata": {},
          "output_type": "execute_result"
        }
      ],
      "source": [
        "# On the training set\n",
        "model.score(X_train, y_train)"
      ]
    },
    {
      "cell_type": "code",
      "execution_count": 10,
      "metadata": {
        "colab": {
          "base_uri": "https://localhost:8080/"
        },
        "id": "Bay1SRmh-W3P",
        "outputId": "cd2a84d1-cf23-43d6-8c02-fc5a903126d4"
      },
      "outputs": [
        {
          "data": {
            "text/plain": [
              "0.7631578947368421"
            ]
          },
          "execution_count": 10,
          "metadata": {},
          "output_type": "execute_result"
        }
      ],
      "source": [
        "# On the test set (unseen)\n",
        "model.score(X_test, y_test)"
      ]
    },
    {
      "cell_type": "markdown",
      "metadata": {
        "id": "lStkwFqX-cWW"
      },
      "source": [
        "## 5. Experiment to improve (hyperparameter tuning)\n",
        "\n",
        "A model's first evaluation metrics aren't always its last. One way to improve a models predictions is with hyperparameter tuning."
      ]
    },
    {
      "cell_type": "code",
      "execution_count": 11,
      "metadata": {
        "colab": {
          "base_uri": "https://localhost:8080/"
        },
        "id": "fjTeM6GG-gTL",
        "outputId": "08a4eba3-2b01-446c-ece6-83b48737a857"
      },
      "outputs": [
        {
          "name": "stdout",
          "output_type": "stream",
          "text": [
            "Trying model with 10 estimators...\n",
            "Model accruacy on test set: 0.868421052631579\n",
            "\n",
            "Trying model with 20 estimators...\n",
            "Model accruacy on test set: 0.75\n",
            "\n",
            "Trying model with 30 estimators...\n",
            "Model accruacy on test set: 0.75\n",
            "\n",
            "Trying model with 40 estimators...\n",
            "Model accruacy on test set: 0.7631578947368421\n",
            "\n",
            "Trying model with 50 estimators...\n",
            "Model accruacy on test set: 0.7763157894736842\n",
            "\n",
            "Trying model with 60 estimators...\n",
            "Model accruacy on test set: 0.7894736842105263\n",
            "\n",
            "Trying model with 70 estimators...\n",
            "Model accruacy on test set: 0.7763157894736842\n",
            "\n",
            "Trying model with 80 estimators...\n",
            "Model accruacy on test set: 0.7894736842105263\n",
            "\n",
            "Trying model with 90 estimators...\n",
            "Model accruacy on test set: 0.7763157894736842\n",
            "\n"
          ]
        }
      ],
      "source": [
        "# Try different numbers of estimators (n_estimators is a hyperparameter you can change)\n",
        "np.random.seed(42)\n",
        "for i in range(10, 100, 10):\n",
        "    print(f\"Trying model with {i} estimators...\")\n",
        "    model = RandomForestClassifier(n_estimators=i).fit(X_train, y_train)\n",
        "    print(f\"Model accruacy on test set: {model.score(X_test, y_test)}\")\n",
        "    print(\"\")"
      ]
    },
    {
      "cell_type": "markdown",
      "metadata": {
        "id": "Pq5JEa6s-l6z"
      },
      "source": [
        "**Note:** It's best practice to test different hyperparameters with a validation set or cross-validation."
      ]
    },
    {
      "cell_type": "code",
      "execution_count": 12,
      "metadata": {
        "colab": {
          "base_uri": "https://localhost:8080/"
        },
        "id": "tFKuLFAd-kqp",
        "outputId": "39417def-27d9-485c-9828-594c0c764c57"
      },
      "outputs": [
        {
          "name": "stdout",
          "output_type": "stream",
          "text": [
            "Trying model with 10 estimators...\n",
            "Model accruacy on test set: 0.868421052631579\n",
            "Cross-validation score: 78.53551912568305%\n",
            "\n",
            "Trying model with 20 estimators...\n",
            "Model accruacy on test set: 0.8157894736842105\n",
            "Cross-validation score: 79.84699453551912%\n",
            "\n",
            "Trying model with 30 estimators...\n",
            "Model accruacy on test set: 0.7763157894736842\n",
            "Cross-validation score: 80.50819672131148%\n",
            "\n",
            "Trying model with 40 estimators...\n",
            "Model accruacy on test set: 0.7763157894736842\n",
            "Cross-validation score: 82.15300546448088%\n",
            "\n",
            "Trying model with 50 estimators...\n",
            "Model accruacy on test set: 0.7763157894736842\n",
            "Cross-validation score: 81.1639344262295%\n",
            "\n",
            "Trying model with 60 estimators...\n",
            "Model accruacy on test set: 0.75\n",
            "Cross-validation score: 83.47540983606557%\n",
            "\n",
            "Trying model with 70 estimators...\n",
            "Model accruacy on test set: 0.7894736842105263\n",
            "Cross-validation score: 81.83060109289617%\n",
            "\n",
            "Trying model with 80 estimators...\n",
            "Model accruacy on test set: 0.7763157894736842\n",
            "Cross-validation score: 82.81420765027322%\n",
            "\n",
            "Trying model with 90 estimators...\n",
            "Model accruacy on test set: 0.7894736842105263\n",
            "Cross-validation score: 82.81967213114754%\n",
            "\n"
          ]
        }
      ],
      "source": [
        "from sklearn.model_selection import cross_val_score\n",
        "\n",
        "# Try different numbers of estimators with cross-validation and no cross-validation\n",
        "np.random.seed(42)\n",
        "for i in range(10, 100, 10):\n",
        "    print(f\"Trying model with {i} estimators...\")\n",
        "    model = RandomForestClassifier(n_estimators=i).fit(X_train, y_train)\n",
        "    print(f\"Model accruacy on test set: {model.score(X_test, y_test)}\")\n",
        "    print(f\"Cross-validation score: {np.mean(cross_val_score(model, X, y, cv=5)) * 100}%\")\n",
        "    print(\"\")"
      ]
    },
    {
      "cell_type": "markdown",
      "metadata": {
        "id": "716O_Bnf-xbo"
      },
      "source": [
        "## 6. Saving the model for later use\n",
        "\n",
        "A trained model can be exported and saved so it can be imported and used later. One way to save a model is using Python's pickle module."
      ]
    },
    {
      "cell_type": "code",
      "execution_count": 13,
      "metadata": {
        "id": "F9Xhgdet-65o"
      },
      "outputs": [],
      "source": [
        "import pickle\n",
        "\n",
        "# Save trained model to file\n",
        "pickle.dump(model, open(\"random_forest_model_1.pkl\", \"wb\"))"
      ]
    }
  ],
  "metadata": {
    "accelerator": "GPU",
    "colab": {
      "gpuType": "T4",
      "provenance": []
    },
    "kernelspec": {
      "display_name": "Python 3",
      "name": "python3"
    },
    "language_info": {
      "codemirror_mode": {
        "name": "ipython",
        "version": 3
      },
      "file_extension": ".py",
      "mimetype": "text/x-python",
      "name": "python",
      "nbconvert_exporter": "python",
      "pygments_lexer": "ipython3",
      "version": "3.11.5"
    }
  },
  "nbformat": 4,
  "nbformat_minor": 0
}
