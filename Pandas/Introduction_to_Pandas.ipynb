{
 "cells": [
  {
   "cell_type": "code",
   "execution_count": 1,
   "metadata": {},
   "outputs": [],
   "source": [
    "import pandas as pd"
   ]
  },
  {
   "cell_type": "code",
   "execution_count": 2,
   "metadata": {},
   "outputs": [],
   "source": [
    "# 2 main datatypes\n",
    "# series = 1-dimensional\n",
    "series = pd.Series([\"BMW\", \"Toyota\", \"Honda\"])"
   ]
  },
  {
   "cell_type": "code",
   "execution_count": 3,
   "metadata": {},
   "outputs": [
    {
     "name": "stdout",
     "output_type": "stream",
     "text": [
      "0       BMW\n",
      "1    Toyota\n",
      "2     Honda\n",
      "dtype: object\n"
     ]
    }
   ],
   "source": [
    "print(series)"
   ]
  },
  {
   "cell_type": "code",
   "execution_count": 4,
   "metadata": {},
   "outputs": [
    {
     "name": "stdout",
     "output_type": "stream",
     "text": [
      "0      Red\n",
      "1     Blue\n",
      "2    White\n",
      "dtype: object\n"
     ]
    }
   ],
   "source": [
    "colours = pd.Series([\"Red\", \"Blue\", \"White\"])\n",
    "print(colours)"
   ]
  },
  {
   "cell_type": "code",
   "execution_count": 5,
   "metadata": {},
   "outputs": [
    {
     "name": "stdout",
     "output_type": "stream",
     "text": [
      "  Car make Colour\n",
      "0      BMW    Red\n",
      "1   Toyota   Blue\n",
      "2    Honda  White\n"
     ]
    }
   ],
   "source": [
    "# DataFrame = 2-dimensional\n",
    "car_data = pd.DataFrame({\"Car make\": series, \"Colour\": colours})\n",
    "print(car_data)"
   ]
  },
  {
   "cell_type": "code",
   "execution_count": 6,
   "metadata": {},
   "outputs": [
    {
     "name": "stdout",
     "output_type": "stream",
     "text": [
      "     Make Colour  Odometer (KM)  Doors       Price\n",
      "0  Toyota  White         150043      4   $4,000.00\n",
      "1   Honda    Red          87899      4   $5,000.00\n",
      "2  Toyota   Blue          32549      3   $7,000.00\n",
      "3     BMW  Black          11179      5  $22,000.00\n",
      "4  Nissan  White         213095      4   $3,500.00\n",
      "5  Toyota  Green          99213      4   $4,500.00\n",
      "6   Honda   Blue          45698      4   $7,500.00\n",
      "7   Honda   Blue          54738      4   $7,000.00\n",
      "8  Toyota  White          60000      4   $6,250.00\n",
      "9  Nissan  White          31600      4   $9,700.00\n"
     ]
    }
   ],
   "source": [
    "# Import data\n",
    "car_sales = pd.read_csv(\"car-sales.csv\")\n",
    "print(car_sales)"
   ]
  },
  {
   "cell_type": "code",
   "execution_count": 7,
   "metadata": {},
   "outputs": [],
   "source": [
    "# Exporting a dataframe\n",
    "car_sales.to_csv(\"exported-car-sales.csv\", index=False)"
   ]
  },
  {
   "cell_type": "code",
   "execution_count": 8,
   "metadata": {},
   "outputs": [
    {
     "name": "stdout",
     "output_type": "stream",
     "text": [
      "     Make Colour  Odometer (KM)  Doors       Price\n",
      "0  Toyota  White         150043      4   $4,000.00\n",
      "1   Honda    Red          87899      4   $5,000.00\n",
      "2  Toyota   Blue          32549      3   $7,000.00\n",
      "3     BMW  Black          11179      5  $22,000.00\n",
      "4  Nissan  White         213095      4   $3,500.00\n",
      "5  Toyota  Green          99213      4   $4,500.00\n",
      "6   Honda   Blue          45698      4   $7,500.00\n",
      "7   Honda   Blue          54738      4   $7,000.00\n",
      "8  Toyota  White          60000      4   $6,250.00\n",
      "9  Nissan  White          31600      4   $9,700.00\n"
     ]
    }
   ],
   "source": [
    "exported_car_sales = pd.read_csv(\"exported-car-sales.csv\")\n",
    "print(exported_car_sales)"
   ]
  }
 ],
 "metadata": {
  "kernelspec": {
   "display_name": "base",
   "language": "python",
   "name": "python3"
  },
  "language_info": {
   "codemirror_mode": {
    "name": "ipython",
    "version": 3
   },
   "file_extension": ".py",
   "mimetype": "text/x-python",
   "name": "python",
   "nbconvert_exporter": "python",
   "pygments_lexer": "ipython3",
   "version": "3.11.5"
  }
 },
 "nbformat": 4,
 "nbformat_minor": 2
}
